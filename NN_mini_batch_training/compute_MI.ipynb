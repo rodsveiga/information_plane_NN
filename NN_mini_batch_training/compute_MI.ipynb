{
 "cells": [
  {
   "cell_type": "markdown",
   "metadata": {},
   "source": [
    "# Computing Mutual Information"
   ]
  },
  {
   "cell_type": "code",
   "execution_count": 29,
   "metadata": {},
   "outputs": [],
   "source": [
    "import pickle\n",
    "import numpy as np\n",
    "%matplotlib inline\n",
    "import matplotlib.pyplot as plt\n",
    "import matplotlib.gridspec as gridspec\n",
    "import keras.backend as K\n",
    "from collections import defaultdict, OrderedDict\n",
    "import seaborn as sns\n",
    "sns.set_style('darkgrid')\n",
    "\n",
    "# Saxe imports\n",
    "import sys\n",
    "sys.path.insert(0, '../estimators')\n",
    "import utils\n",
    "import kde\n",
    "import simplebinmi"
   ]
  },
  {
   "cell_type": "code",
   "execution_count": 30,
   "metadata": {},
   "outputs": [],
   "source": [
    "def load_obj(name):\n",
    "    with open('../training_files/' + name + '.pkl', 'rb') as f:\n",
    "        return pickle.load(f)"
   ]
  },
  {
   "cell_type": "markdown",
   "metadata": {},
   "source": [
    "## Auxiliary functions for KDE estimator"
   ]
  },
  {
   "cell_type": "code",
   "execution_count": 31,
   "metadata": {},
   "outputs": [],
   "source": [
    "# Functions to return upper and lower bounds on entropy of layer activity\n",
    "noise_variance = 0.001                    # Added Gaussian noise variance\n",
    "binsize = 0.07                           # size of bins for binning method\n",
    "Klayer_activity = K.placeholder(ndim=2)  # Keras placeholder \n",
    "entropy_func_upper = K.function([Klayer_activity,], [kde.entropy_estimator_kl(Klayer_activity, noise_variance),])\n",
    "entropy_func_lower = K.function([Klayer_activity,], [kde.entropy_estimator_bd(Klayer_activity, noise_variance),])\n",
    "\n",
    "# nats to bits conversion factor\n",
    "nats2bits = 1.0/np.log(2) "
   ]
  },
  {
   "cell_type": "code",
   "execution_count": 32,
   "metadata": {},
   "outputs": [],
   "source": [
    "# Which measure to plot\n",
    "infoplane_measure = 'upper'\n",
    "# infoplane_measure = 'bin'\n",
    "\n",
    "DO_SAVE        = False    # Whether to save plots or just show them\n",
    "DO_LOWER       = (infoplane_measure == 'lower')   # Whether to compute lower bounds also\n",
    "DO_BINNED      = (infoplane_measure == 'bin')     # Whether to compute MI estimates based on binning"
   ]
  },
  {
   "cell_type": "code",
   "execution_count": 33,
   "metadata": {},
   "outputs": [],
   "source": [
    "DO_BINNED = True"
   ]
  },
  {
   "cell_type": "code",
   "execution_count": 34,
   "metadata": {},
   "outputs": [
    {
     "data": {
      "text/plain": [
       "False"
      ]
     },
     "execution_count": 34,
     "metadata": {},
     "output_type": "execute_result"
    }
   ],
   "source": [
    "DO_LOWER"
   ]
  },
  {
   "cell_type": "markdown",
   "metadata": {},
   "source": [
    "## Training information"
   ]
  },
  {
   "cell_type": "code",
   "execution_count": 54,
   "metadata": {},
   "outputs": [],
   "source": [
    "#training_info = load_obj('tishby_mini_batch')\n",
    "training_info = load_obj('tishby_mini_batch_artemy_1200')"
   ]
  },
  {
   "cell_type": "code",
   "execution_count": 9,
   "metadata": {},
   "outputs": [
    {
     "data": {
      "text/plain": [
       "array([[-0.21686125,  0.16286549, -0.16903348, ...,  0.02131339,\n",
       "         0.06163784,  0.05900906],\n",
       "       [-0.19320351,  0.1165977 , -0.19917767, ...,  0.05320167,\n",
       "        -0.07941616,  0.10361613],\n",
       "       [-0.30958596, -0.01672176,  0.08271845, ...,  0.12356245,\n",
       "         0.10584626,  0.00662265],\n",
       "       ...,\n",
       "       [-0.16706693,  0.3029858 ,  0.2274496 , ...,  0.41721192,\n",
       "         0.24074507, -0.2660853 ],\n",
       "       [-0.18468481,  0.2189357 ,  0.37375546, ...,  0.47864327,\n",
       "         0.5341764 , -0.36429968],\n",
       "       [-0.3292049 ,  0.37856564,  0.19902642, ...,  0.4481321 ,\n",
       "         0.3561674 , -0.33015323]], dtype=float32)"
      ]
     },
     "execution_count": 9,
     "metadata": {},
     "output_type": "execute_result"
    }
   ],
   "source": [
    "training_info['data'][0]['activity'][0]"
   ]
  },
  {
   "cell_type": "code",
   "execution_count": 10,
   "metadata": {},
   "outputs": [
    {
     "data": {
      "text/plain": [
       "array([[-0.94725275,  0.9731736 , -0.0539842 , ...,  0.407846  ,\n",
       "         0.90685374,  0.8307307 ],\n",
       "       [-0.8522875 ,  0.90858585, -0.9961365 , ...,  0.66046345,\n",
       "         0.91537637,  0.04281834],\n",
       "       [-0.45675054,  0.7226585 ,  0.7633363 , ...,  0.56684756,\n",
       "        -0.5959687 ,  0.66242564],\n",
       "       ...,\n",
       "       [-0.93098235, -0.12161974,  0.2083056 , ...,  0.949827  ,\n",
       "         0.9958522 ,  0.5623652 ],\n",
       "       [-0.95239717,  0.28587717,  0.84963304, ...,  0.08682661,\n",
       "         0.96298057,  0.7592227 ],\n",
       "       [-0.6267033 ,  0.8022917 ,  0.7378756 , ..., -0.9452699 ,\n",
       "        -0.22112553, -0.331809  ]], dtype=float32)"
      ]
     },
     "execution_count": 10,
     "metadata": {},
     "output_type": "execute_result"
    }
   ],
   "source": [
    "training_info['data'][1199]['activity'][0]"
   ]
  },
  {
   "cell_type": "code",
   "execution_count": 11,
   "metadata": {},
   "outputs": [
    {
     "data": {
      "text/plain": [
       "array([[0.5000002 , 0.4999998 ],\n",
       "       [0.5000004 , 0.4999996 ],\n",
       "       [0.49999985, 0.5000002 ],\n",
       "       ...,\n",
       "       [0.488845  , 0.511155  ],\n",
       "       [0.4888267 , 0.51117325],\n",
       "       [0.4888397 , 0.5111603 ]], dtype=float32)"
      ]
     },
     "execution_count": 11,
     "metadata": {},
     "output_type": "execute_result"
    }
   ],
   "source": [
    "training_info['data'][0]['activity'][-1]"
   ]
  },
  {
   "cell_type": "code",
   "execution_count": 12,
   "metadata": {},
   "outputs": [
    {
     "data": {
      "text/plain": [
       "array([[9.6440663e-06, 9.9999034e-01],\n",
       "       [9.9998248e-01, 1.7526945e-05],\n",
       "       [9.9998271e-01, 1.7295484e-05],\n",
       "       ...,\n",
       "       [1.1638977e-05, 9.9998838e-01],\n",
       "       [1.9432131e-05, 9.9998057e-01],\n",
       "       [1.0940282e-05, 9.9998903e-01]], dtype=float32)"
      ]
     },
     "execution_count": 12,
     "metadata": {},
     "output_type": "execute_result"
    }
   ],
   "source": [
    "training_info['data'][1199]['activity'][-1]"
   ]
  },
  {
   "cell_type": "markdown",
   "metadata": {},
   "source": [
    "## Input data"
   ]
  },
  {
   "cell_type": "code",
   "execution_count": 36,
   "metadata": {},
   "outputs": [],
   "source": [
    "train, test = utils.get_IB_data('2017_12_21_16_51_3_275766')"
   ]
  },
  {
   "cell_type": "code",
   "execution_count": 14,
   "metadata": {},
   "outputs": [
    {
     "data": {
      "text/plain": [
       "array([[0, 0, 0, ..., 1, 1, 1],\n",
       "       [0, 1, 0, ..., 0, 0, 1],\n",
       "       [1, 1, 0, ..., 0, 1, 0],\n",
       "       ...,\n",
       "       [0, 1, 0, ..., 0, 0, 1],\n",
       "       [1, 0, 0, ..., 1, 1, 1],\n",
       "       [0, 0, 0, ..., 1, 1, 1]], dtype=uint8)"
      ]
     },
     "execution_count": 14,
     "metadata": {},
     "output_type": "execute_result"
    }
   ],
   "source": [
    "train.X"
   ]
  },
  {
   "cell_type": "code",
   "execution_count": 15,
   "metadata": {},
   "outputs": [
    {
     "data": {
      "text/plain": [
       "(3277, 12)"
      ]
     },
     "execution_count": 15,
     "metadata": {},
     "output_type": "execute_result"
    }
   ],
   "source": [
    "train.X.shape"
   ]
  },
  {
   "cell_type": "code",
   "execution_count": 16,
   "metadata": {},
   "outputs": [
    {
     "data": {
      "text/plain": [
       "array([[0., 1.],\n",
       "       [1., 0.],\n",
       "       [0., 1.],\n",
       "       ...,\n",
       "       [1., 0.],\n",
       "       [0., 1.],\n",
       "       [1., 0.]], dtype=float32)"
      ]
     },
     "execution_count": 16,
     "metadata": {},
     "output_type": "execute_result"
    }
   ],
   "source": [
    "train.Y"
   ]
  },
  {
   "cell_type": "code",
   "execution_count": 17,
   "metadata": {},
   "outputs": [
    {
     "data": {
      "text/plain": [
       "(3277, 2)"
      ]
     },
     "execution_count": 17,
     "metadata": {},
     "output_type": "execute_result"
    }
   ],
   "source": [
    "train.Y.shape"
   ]
  },
  {
   "cell_type": "code",
   "execution_count": 18,
   "metadata": {},
   "outputs": [
    {
     "data": {
      "text/plain": [
       "array([1, 0, 1, ..., 0, 1, 0], dtype=uint8)"
      ]
     },
     "execution_count": 18,
     "metadata": {},
     "output_type": "execute_result"
    }
   ],
   "source": [
    "train.y"
   ]
  },
  {
   "cell_type": "code",
   "execution_count": 19,
   "metadata": {},
   "outputs": [
    {
     "data": {
      "text/plain": [
       "(3277,)"
      ]
     },
     "execution_count": 19,
     "metadata": {},
     "output_type": "execute_result"
    }
   ],
   "source": [
    "train.y.shape"
   ]
  },
  {
   "cell_type": "markdown",
   "metadata": {},
   "source": [
    "### Label dictionary `saved_labelixs` "
   ]
  },
  {
   "cell_type": "code",
   "execution_count": 37,
   "metadata": {},
   "outputs": [],
   "source": [
    "# Save indexes of tests data for each of the output classes\n",
    "saved_labelixs = {}\n",
    "FULL_MI = False\n",
    "NUM_LABELS = 2\n",
    "\n",
    "y = train.y\n",
    "Y = train.Y\n",
    "\n",
    "#y = test.y\n",
    "#Y = test.Y\n",
    "\n",
    "if FULL_MI:\n",
    "    full = utils.construct_full_dataset(train,test)\n",
    "    y = full.y\n",
    "    Y = full.Y\n",
    "\n",
    "for i in range(NUM_LABELS):\n",
    "    saved_labelixs[i] = y == i\n",
    "\n",
    "labelprobs = np.mean(Y, axis=0)"
   ]
  },
  {
   "cell_type": "code",
   "execution_count": 21,
   "metadata": {},
   "outputs": [
    {
     "data": {
      "text/plain": [
       "array([0.48672566, 0.5132743 ], dtype=float32)"
      ]
     },
     "execution_count": 21,
     "metadata": {},
     "output_type": "execute_result"
    }
   ],
   "source": [
    "labelprobs"
   ]
  },
  {
   "cell_type": "markdown",
   "metadata": {},
   "source": [
    "## Computing MI"
   ]
  },
  {
   "cell_type": "code",
   "execution_count": 22,
   "metadata": {},
   "outputs": [
    {
     "data": {
      "text/plain": [
       "dict_keys(['epoch', 'loss', 'loss_gen', 'data'])"
      ]
     },
     "execution_count": 22,
     "metadata": {},
     "output_type": "execute_result"
    }
   ],
   "source": [
    "training_info.keys()"
   ]
  },
  {
   "cell_type": "code",
   "execution_count": 23,
   "metadata": {},
   "outputs": [
    {
     "data": {
      "text/plain": [
       "1200"
      ]
     },
     "execution_count": 23,
     "metadata": {},
     "output_type": "execute_result"
    }
   ],
   "source": [
    "len(training_info['data'])"
   ]
  },
  {
   "cell_type": "code",
   "execution_count": 24,
   "metadata": {},
   "outputs": [
    {
     "data": {
      "text/plain": [
       "1200"
      ]
     },
     "execution_count": 24,
     "metadata": {},
     "output_type": "execute_result"
    }
   ],
   "source": [
    "len(training_info['data'])"
   ]
  },
  {
   "cell_type": "code",
   "execution_count": 25,
   "metadata": {},
   "outputs": [
    {
     "data": {
      "text/plain": [
       "array([[9.6440663e-06, 9.9999034e-01],\n",
       "       [9.9998248e-01, 1.7526945e-05],\n",
       "       [9.9998271e-01, 1.7295484e-05],\n",
       "       ...,\n",
       "       [1.1638977e-05, 9.9998838e-01],\n",
       "       [1.9432131e-05, 9.9998057e-01],\n",
       "       [1.0940282e-05, 9.9998903e-01]], dtype=float32)"
      ]
     },
     "execution_count": 25,
     "metadata": {},
     "output_type": "execute_result"
    }
   ],
   "source": [
    "activity = training_info['data'][1199]['activity'][5]\n",
    "activity"
   ]
  },
  {
   "cell_type": "markdown",
   "metadata": {},
   "source": [
    "### Take a look to full batch and compare"
   ]
  },
  {
   "cell_type": "code",
   "execution_count": 48,
   "metadata": {},
   "outputs": [],
   "source": [
    "training_info_full = load_obj('tishby_epoch_8000_loss_019906')"
   ]
  },
  {
   "cell_type": "code",
   "execution_count": 50,
   "metadata": {},
   "outputs": [
    {
     "data": {
      "text/plain": [
       "array([[0.00944319, 0.99055684],\n",
       "       [0.5042464 , 0.49575353],\n",
       "       [0.07286023, 0.92713976],\n",
       "       ...,\n",
       "       [0.98710144, 0.01289854],\n",
       "       [0.0158016 , 0.9841984 ],\n",
       "       [0.98747414, 0.01252583]], dtype=float32)"
      ]
     },
     "execution_count": 50,
     "metadata": {},
     "output_type": "execute_result"
    }
   ],
   "source": [
    "activity_full = training_info_full['data'][7999]['activity'][5]\n",
    "activity_full"
   ]
  },
  {
   "cell_type": "code",
   "execution_count": 53,
   "metadata": {},
   "outputs": [
    {
     "name": "stdout",
     "output_type": "stream",
     "text": [
      "3277\n",
      "3277\n"
     ]
    }
   ],
   "source": [
    "print(len(activity))\n",
    "print(len(activity_full))"
   ]
  },
  {
   "cell_type": "code",
   "execution_count": 55,
   "metadata": {},
   "outputs": [
    {
     "data": {
      "text/plain": [
       "array([[0., 1.],\n",
       "       [1., 0.],\n",
       "       [0., 1.],\n",
       "       ...,\n",
       "       [0., 1.],\n",
       "       [1., 0.],\n",
       "       [0., 1.]], dtype=float32)"
      ]
     },
     "execution_count": 55,
     "metadata": {},
     "output_type": "execute_result"
    }
   ],
   "source": [
    "np.rint(activity)"
   ]
  },
  {
   "cell_type": "code",
   "execution_count": 59,
   "metadata": {},
   "outputs": [
    {
     "data": {
      "text/plain": [
       "array([1595., 1682.], dtype=float32)"
      ]
     },
     "execution_count": 59,
     "metadata": {},
     "output_type": "execute_result"
    }
   ],
   "source": [
    "np.sum(np.rint(activity), axis=0)"
   ]
  },
  {
   "cell_type": "code",
   "execution_count": 60,
   "metadata": {},
   "outputs": [
    {
     "data": {
      "text/plain": [
       "array([1565., 1712.], dtype=float32)"
      ]
     },
     "execution_count": 60,
     "metadata": {},
     "output_type": "execute_result"
    }
   ],
   "source": [
    "np.sum(np.rint(activity_full), axis=0)"
   ]
  },
  {
   "cell_type": "markdown",
   "metadata": {},
   "source": [
    "### Calculating for the last layer and last epoch"
   ]
  },
  {
   "cell_type": "code",
   "execution_count": 61,
   "metadata": {},
   "outputs": [
    {
     "data": {
      "text/plain": [
       "-3.3770828"
      ]
     },
     "execution_count": 61,
     "metadata": {},
     "output_type": "execute_result"
    }
   ],
   "source": [
    "h_upper = entropy_func_upper([activity, ])[0]\n",
    "h_upper"
   ]
  },
  {
   "cell_type": "code",
   "execution_count": 63,
   "metadata": {},
   "outputs": [
    {
     "data": {
      "text/plain": [
       "-1.9186409"
      ]
     },
     "execution_count": 63,
     "metadata": {},
     "output_type": "execute_result"
    }
   ],
   "source": [
    "h_upper = entropy_func_upper([activity_full, ])[0]\n",
    "h_upper"
   ]
  },
  {
   "cell_type": "code",
   "execution_count": 42,
   "metadata": {},
   "outputs": [
    {
     "name": "stdout",
     "output_type": "stream",
     "text": [
      "-3.3770614\n",
      "0.48672566\n",
      "[False  True False ...  True False  True]\n",
      "---------\n",
      "-3.3771057\n",
      "0.5132743\n",
      "[ True False  True ... False  True False]\n",
      "---------\n"
     ]
    }
   ],
   "source": [
    "hM_given_Y_upper= 0.0\n",
    "NUM_LABELS = 2\n",
    "for i in range(NUM_LABELS):\n",
    "    hcond_upper = entropy_func_upper([activity[saved_labelixs[i],:],])[0]\n",
    "    print(hcond_upper)\n",
    "    print(labelprobs[i])\n",
    "    print(saved_labelixs[i])\n",
    "    print('---------')\n",
    "    hM_given_Y_upper += labelprobs[i] * hcond_upper"
   ]
  },
  {
   "cell_type": "code",
   "execution_count": 64,
   "metadata": {},
   "outputs": [
    {
     "name": "stdout",
     "output_type": "stream",
     "text": [
      "-2.425697\n",
      "0.48672566\n",
      "[False  True False ...  True False  True]\n",
      "---------\n",
      "-2.436992\n",
      "0.5132743\n",
      "[ True False  True ... False  True False]\n",
      "---------\n"
     ]
    }
   ],
   "source": [
    "hM_given_Y_upper= 0.0\n",
    "NUM_LABELS = 2\n",
    "for i in range(NUM_LABELS):\n",
    "    hcond_upper = entropy_func_upper([activity_full[saved_labelixs[i],:],])[0]\n",
    "    print(hcond_upper)\n",
    "    print(labelprobs[i])\n",
    "    print(saved_labelixs[i])\n",
    "    print('---------')\n",
    "    hM_given_Y_upper += labelprobs[i] * hcond_upper"
   ]
  },
  {
   "cell_type": "code",
   "execution_count": 65,
   "metadata": {},
   "outputs": [
    {
     "data": {
      "text/plain": [
       "-2.431494355201721"
      ]
     },
     "execution_count": 65,
     "metadata": {},
     "output_type": "execute_result"
    }
   ],
   "source": [
    "hM_given_Y_upper"
   ]
  },
  {
   "cell_type": "code",
   "execution_count": 66,
   "metadata": {},
   "outputs": [
    {
     "data": {
      "text/plain": [
       "0.5128535032272339"
      ]
     },
     "execution_count": 66,
     "metadata": {},
     "output_type": "execute_result"
    }
   ],
   "source": [
    "h_upper - hM_given_Y_upper"
   ]
  },
  {
   "cell_type": "code",
   "execution_count": 55,
   "metadata": {},
   "outputs": [],
   "source": [
    "training_info['data'] = training_info['data_artemy']"
   ]
  },
  {
   "cell_type": "code",
   "execution_count": 56,
   "metadata": {},
   "outputs": [
    {
     "name": "stdout",
     "output_type": "stream",
     "text": [
      "---- EPOCH 0\n",
      "- Layer 0 upper: MI(X;M)=11.545, MI(Y;M)=0.981 | bin: MI(X;M)=11.644, MI(Y;M)=0.995\n",
      "- Layer 1 upper: MI(X;M)=3.700, MI(Y;M)=0.599 | bin: MI(X;M)=5.008, MI(Y;M)=0.589\n",
      "- Layer 2 upper: MI(X;M)=2.193, MI(Y;M)=0.573 | bin: MI(X;M)=3.135, MI(Y;M)=0.556\n",
      "- Layer 3 upper: MI(X;M)=0.883, MI(Y;M)=0.377 | bin: MI(X;M)=1.214, MI(Y;M)=0.304\n",
      "- Layer 4 upper: MI(X;M)=0.058, MI(Y;M)=0.031 | bin: MI(X;M)=-0.000, MI(Y;M)=-0.000\n",
      "- Layer 5 upper: MI(X;M)=0.000, MI(Y;M)=0.000 | bin: MI(X;M)=-0.000, MI(Y;M)=-0.000\n",
      "---- EPOCH 20\n",
      "- Layer 0 upper: MI(X;M)=11.649, MI(Y;M)=0.996 | bin: MI(X;M)=11.670, MI(Y;M)=0.999\n",
      "- Layer 1 upper: MI(X;M)=4.439, MI(Y;M)=0.633 | bin: MI(X;M)=5.682, MI(Y;M)=0.654\n",
      "- Layer 2 upper: MI(X;M)=3.678, MI(Y;M)=0.627 | bin: MI(X;M)=4.131, MI(Y;M)=0.628\n",
      "- Layer 3 upper: MI(X;M)=3.612, MI(Y;M)=0.627 | bin: MI(X;M)=4.435, MI(Y;M)=0.629\n",
      "- Layer 4 upper: MI(X;M)=3.760, MI(Y;M)=0.628 | bin: MI(X;M)=3.772, MI(Y;M)=0.631\n",
      "- Layer 5 upper: MI(X;M)=2.676, MI(Y;M)=0.621 | bin: MI(X;M)=3.053, MI(Y;M)=0.616\n",
      "---- EPOCH 40\n",
      "- Layer 0 upper: MI(X;M)=11.676, MI(Y;M)=0.999 | bin: MI(X;M)=11.678, MI(Y;M)=0.999\n",
      "- Layer 1 upper: MI(X;M)=5.899, MI(Y;M)=0.659 | bin: MI(X;M)=7.389, MI(Y;M)=0.686\n",
      "- Layer 2 upper: MI(X;M)=3.791, MI(Y;M)=0.643 | bin: MI(X;M)=4.432, MI(Y;M)=0.647\n",
      "- Layer 3 upper: MI(X;M)=3.659, MI(Y;M)=0.642 | bin: MI(X;M)=4.188, MI(Y;M)=0.641\n",
      "- Layer 4 upper: MI(X;M)=3.955, MI(Y;M)=0.646 | bin: MI(X;M)=4.006, MI(Y;M)=0.647\n",
      "- Layer 5 upper: MI(X;M)=2.895, MI(Y;M)=0.641 | bin: MI(X;M)=3.343, MI(Y;M)=0.640\n",
      "---- EPOCH 60\n",
      "- Layer 0 upper: MI(X;M)=11.677, MI(Y;M)=0.999 | bin: MI(X;M)=11.678, MI(Y;M)=0.999\n",
      "- Layer 1 upper: MI(X;M)=8.411, MI(Y;M)=0.745 | bin: MI(X;M)=9.681, MI(Y;M)=0.817\n",
      "- Layer 2 upper: MI(X;M)=4.460, MI(Y;M)=0.673 | bin: MI(X;M)=4.933, MI(Y;M)=0.669\n",
      "- Layer 3 upper: MI(X;M)=4.243, MI(Y;M)=0.672 | bin: MI(X;M)=4.873, MI(Y;M)=0.675\n",
      "- Layer 4 upper: MI(X;M)=4.652, MI(Y;M)=0.676 | bin: MI(X;M)=4.596, MI(Y;M)=0.674\n",
      "- Layer 5 upper: MI(X;M)=3.253, MI(Y;M)=0.671 | bin: MI(X;M)=3.762, MI(Y;M)=0.671\n",
      "---- EPOCH 80\n",
      "- Layer 0 upper: MI(X;M)=11.678, MI(Y;M)=0.999 | bin: MI(X;M)=11.678, MI(Y;M)=0.999\n",
      "- Layer 1 upper: MI(X;M)=10.361, MI(Y;M)=0.887 | bin: MI(X;M)=11.039, MI(Y;M)=0.938\n",
      "- Layer 2 upper: MI(X;M)=5.226, MI(Y;M)=0.719 | bin: MI(X;M)=6.038, MI(Y;M)=0.731\n",
      "- Layer 3 upper: MI(X;M)=4.651, MI(Y;M)=0.718 | bin: MI(X;M)=5.246, MI(Y;M)=0.715\n",
      "- Layer 4 upper: MI(X;M)=5.117, MI(Y;M)=0.723 | bin: MI(X;M)=4.938, MI(Y;M)=0.716\n",
      "- Layer 5 upper: MI(X;M)=3.254, MI(Y;M)=0.719 | bin: MI(X;M)=3.722, MI(Y;M)=0.720\n",
      "---- EPOCH 100\n",
      "- Layer 0 upper: MI(X;M)=11.678, MI(Y;M)=0.999 | bin: MI(X;M)=11.678, MI(Y;M)=0.999\n",
      "- Layer 1 upper: MI(X;M)=11.031, MI(Y;M)=0.952 | bin: MI(X;M)=11.360, MI(Y;M)=0.978\n",
      "- Layer 2 upper: MI(X;M)=5.679, MI(Y;M)=0.732 | bin: MI(X;M)=6.631, MI(Y;M)=0.739\n",
      "- Layer 3 upper: MI(X;M)=4.694, MI(Y;M)=0.728 | bin: MI(X;M)=5.249, MI(Y;M)=0.730\n",
      "- Layer 4 upper: MI(X;M)=5.171, MI(Y;M)=0.732 | bin: MI(X;M)=4.986, MI(Y;M)=0.729\n",
      "- Layer 5 upper: MI(X;M)=3.189, MI(Y;M)=0.730 | bin: MI(X;M)=3.617, MI(Y;M)=0.730\n",
      "---- EPOCH 120\n",
      "- Layer 0 upper: MI(X;M)=11.678, MI(Y;M)=0.999 | bin: MI(X;M)=11.678, MI(Y;M)=0.999\n",
      "- Layer 1 upper: MI(X;M)=11.149, MI(Y;M)=0.967 | bin: MI(X;M)=11.430, MI(Y;M)=0.989\n",
      "- Layer 2 upper: MI(X;M)=5.920, MI(Y;M)=0.751 | bin: MI(X;M)=6.898, MI(Y;M)=0.759\n",
      "- Layer 3 upper: MI(X;M)=4.683, MI(Y;M)=0.745 | bin: MI(X;M)=5.220, MI(Y;M)=0.745\n",
      "- Layer 4 upper: MI(X;M)=5.184, MI(Y;M)=0.746 | bin: MI(X;M)=5.023, MI(Y;M)=0.747\n",
      "- Layer 5 upper: MI(X;M)=3.095, MI(Y;M)=0.745 | bin: MI(X;M)=3.496, MI(Y;M)=0.747\n",
      "---- EPOCH 140\n",
      "- Layer 0 upper: MI(X;M)=11.678, MI(Y;M)=0.999 | bin: MI(X;M)=11.678, MI(Y;M)=0.999\n",
      "- Layer 1 upper: MI(X;M)=11.272, MI(Y;M)=0.974 | bin: MI(X;M)=11.508, MI(Y;M)=0.989\n",
      "- Layer 2 upper: MI(X;M)=6.154, MI(Y;M)=0.771 | bin: MI(X;M)=7.139, MI(Y;M)=0.785\n",
      "- Layer 3 upper: MI(X;M)=4.807, MI(Y;M)=0.758 | bin: MI(X;M)=5.248, MI(Y;M)=0.760\n",
      "- Layer 4 upper: MI(X;M)=5.211, MI(Y;M)=0.760 | bin: MI(X;M)=4.993, MI(Y;M)=0.761\n",
      "- Layer 5 upper: MI(X;M)=2.998, MI(Y;M)=0.758 | bin: MI(X;M)=3.370, MI(Y;M)=0.759\n",
      "---- EPOCH 160\n",
      "- Layer 0 upper: MI(X;M)=11.678, MI(Y;M)=0.999 | bin: MI(X;M)=11.678, MI(Y;M)=0.999\n",
      "- Layer 1 upper: MI(X;M)=11.467, MI(Y;M)=0.991 | bin: MI(X;M)=11.594, MI(Y;M)=0.998\n",
      "- Layer 2 upper: MI(X;M)=6.380, MI(Y;M)=0.792 | bin: MI(X;M)=7.441, MI(Y;M)=0.802\n",
      "- Layer 3 upper: MI(X;M)=4.871, MI(Y;M)=0.781 | bin: MI(X;M)=5.248, MI(Y;M)=0.784\n",
      "- Layer 4 upper: MI(X;M)=5.226, MI(Y;M)=0.783 | bin: MI(X;M)=5.028, MI(Y;M)=0.786\n",
      "- Layer 5 upper: MI(X;M)=2.901, MI(Y;M)=0.780 | bin: MI(X;M)=3.254, MI(Y;M)=0.781\n",
      "---- EPOCH 180\n",
      "- Layer 0 upper: MI(X;M)=11.678, MI(Y;M)=0.999 | bin: MI(X;M)=11.678, MI(Y;M)=0.999\n",
      "- Layer 1 upper: MI(X;M)=11.492, MI(Y;M)=0.991 | bin: MI(X;M)=11.604, MI(Y;M)=0.996\n",
      "- Layer 2 upper: MI(X;M)=6.392, MI(Y;M)=0.809 | bin: MI(X;M)=7.429, MI(Y;M)=0.819\n",
      "- Layer 3 upper: MI(X;M)=4.949, MI(Y;M)=0.800 | bin: MI(X;M)=5.242, MI(Y;M)=0.801\n",
      "- Layer 4 upper: MI(X;M)=5.248, MI(Y;M)=0.803 | bin: MI(X;M)=5.058, MI(Y;M)=0.804\n",
      "- Layer 5 upper: MI(X;M)=2.756, MI(Y;M)=0.800 | bin: MI(X;M)=3.082, MI(Y;M)=0.799\n",
      "---- EPOCH 200\n",
      "- Layer 0 upper: MI(X;M)=11.678, MI(Y;M)=0.999 | bin: MI(X;M)=11.678, MI(Y;M)=0.999\n",
      "- Layer 1 upper: MI(X;M)=11.545, MI(Y;M)=0.994 | bin: MI(X;M)=11.614, MI(Y;M)=0.996\n",
      "- Layer 2 upper: MI(X;M)=6.414, MI(Y;M)=0.814 | bin: MI(X;M)=7.484, MI(Y;M)=0.825\n",
      "- Layer 3 upper: MI(X;M)=4.977, MI(Y;M)=0.807 | bin: MI(X;M)=5.288, MI(Y;M)=0.806\n",
      "- Layer 4 upper: MI(X;M)=5.221, MI(Y;M)=0.809 | bin: MI(X;M)=5.076, MI(Y;M)=0.808\n",
      "- Layer 5 upper: MI(X;M)=2.787, MI(Y;M)=0.806 | bin: MI(X;M)=3.120, MI(Y;M)=0.808\n",
      "---- EPOCH 220\n",
      "- Layer 0 upper: MI(X;M)=11.678, MI(Y;M)=0.999 | bin: MI(X;M)=11.678, MI(Y;M)=0.999\n",
      "- Layer 1 upper: MI(X;M)=11.546, MI(Y;M)=0.997 | bin: MI(X;M)=11.622, MI(Y;M)=0.999\n",
      "- Layer 2 upper: MI(X;M)=6.364, MI(Y;M)=0.841 | bin: MI(X;M)=7.386, MI(Y;M)=0.848\n",
      "- Layer 3 upper: MI(X;M)=5.053, MI(Y;M)=0.834 | bin: MI(X;M)=5.213, MI(Y;M)=0.832\n",
      "- Layer 4 upper: MI(X;M)=5.239, MI(Y;M)=0.836 | bin: MI(X;M)=5.023, MI(Y;M)=0.838\n",
      "- Layer 5 upper: MI(X;M)=2.585, MI(Y;M)=0.831 | bin: MI(X;M)=2.855, MI(Y;M)=0.838\n",
      "---- EPOCH 240\n",
      "- Layer 0 upper: MI(X;M)=11.677, MI(Y;M)=0.999 | bin: MI(X;M)=11.678, MI(Y;M)=0.999\n",
      "- Layer 1 upper: MI(X;M)=11.500, MI(Y;M)=0.997 | bin: MI(X;M)=11.592, MI(Y;M)=0.998\n",
      "- Layer 2 upper: MI(X;M)=6.443, MI(Y;M)=0.902 | bin: MI(X;M)=7.433, MI(Y;M)=0.907\n",
      "- Layer 3 upper: MI(X;M)=5.223, MI(Y;M)=0.893 | bin: MI(X;M)=5.433, MI(Y;M)=0.896\n",
      "- Layer 4 upper: MI(X;M)=5.212, MI(Y;M)=0.895 | bin: MI(X;M)=4.957, MI(Y;M)=0.897\n",
      "- Layer 5 upper: MI(X;M)=2.193, MI(Y;M)=0.891 | bin: MI(X;M)=2.424, MI(Y;M)=0.896\n",
      "---- EPOCH 260\n",
      "- Layer 0 upper: MI(X;M)=11.677, MI(Y;M)=0.999 | bin: MI(X;M)=11.678, MI(Y;M)=0.999\n",
      "- Layer 1 upper: MI(X;M)=11.528, MI(Y;M)=0.998 | bin: MI(X;M)=11.610, MI(Y;M)=0.998\n",
      "- Layer 2 upper: MI(X;M)=6.494, MI(Y;M)=0.915 | bin: MI(X;M)=7.559, MI(Y;M)=0.924\n",
      "- Layer 3 upper: MI(X;M)=5.330, MI(Y;M)=0.910 | bin: MI(X;M)=5.466, MI(Y;M)=0.908\n",
      "- Layer 4 upper: MI(X;M)=5.083, MI(Y;M)=0.913 | bin: MI(X;M)=4.796, MI(Y;M)=0.914\n",
      "- Layer 5 upper: MI(X;M)=1.989, MI(Y;M)=0.910 | bin: MI(X;M)=2.202, MI(Y;M)=0.914\n",
      "---- EPOCH 280\n",
      "- Layer 0 upper: MI(X;M)=11.674, MI(Y;M)=0.999 | bin: MI(X;M)=11.678, MI(Y;M)=0.999\n",
      "- Layer 1 upper: MI(X;M)=11.524, MI(Y;M)=0.999 | bin: MI(X;M)=11.606, MI(Y;M)=0.999\n",
      "- Layer 2 upper: MI(X;M)=6.533, MI(Y;M)=0.928 | bin: MI(X;M)=7.598, MI(Y;M)=0.927\n",
      "- Layer 3 upper: MI(X;M)=5.389, MI(Y;M)=0.919 | bin: MI(X;M)=5.532, MI(Y;M)=0.922\n",
      "- Layer 4 upper: MI(X;M)=4.993, MI(Y;M)=0.921 | bin: MI(X;M)=4.688, MI(Y;M)=0.920\n",
      "- Layer 5 upper: MI(X;M)=1.902, MI(Y;M)=0.917 | bin: MI(X;M)=2.098, MI(Y;M)=0.918\n",
      "---- EPOCH 300\n",
      "- Layer 0 upper: MI(X;M)=11.678, MI(Y;M)=0.999 | bin: MI(X;M)=11.678, MI(Y;M)=0.999\n",
      "- Layer 1 upper: MI(X;M)=11.593, MI(Y;M)=0.999 | bin: MI(X;M)=11.646, MI(Y;M)=0.999\n",
      "- Layer 2 upper: MI(X;M)=6.632, MI(Y;M)=0.939 | bin: MI(X;M)=7.724, MI(Y;M)=0.946\n",
      "- Layer 3 upper: MI(X;M)=5.422, MI(Y;M)=0.937 | bin: MI(X;M)=5.579, MI(Y;M)=0.936\n",
      "- Layer 4 upper: MI(X;M)=4.889, MI(Y;M)=0.940 | bin: MI(X;M)=4.546, MI(Y;M)=0.939\n",
      "- Layer 5 upper: MI(X;M)=1.789, MI(Y;M)=0.938 | bin: MI(X;M)=1.971, MI(Y;M)=0.941\n",
      "---- EPOCH 320\n",
      "- Layer 0 upper: MI(X;M)=11.678, MI(Y;M)=0.999 | bin: MI(X;M)=11.678, MI(Y;M)=0.999\n",
      "- Layer 1 upper: MI(X;M)=11.598, MI(Y;M)=0.999 | bin: MI(X;M)=11.653, MI(Y;M)=0.999\n",
      "- Layer 2 upper: MI(X;M)=6.707, MI(Y;M)=0.950 | bin: MI(X;M)=7.771, MI(Y;M)=0.952\n"
     ]
    },
    {
     "name": "stdout",
     "output_type": "stream",
     "text": [
      "- Layer 3 upper: MI(X;M)=5.455, MI(Y;M)=0.944 | bin: MI(X;M)=5.637, MI(Y;M)=0.942\n",
      "- Layer 4 upper: MI(X;M)=4.832, MI(Y;M)=0.946 | bin: MI(X;M)=4.479, MI(Y;M)=0.946\n",
      "- Layer 5 upper: MI(X;M)=1.772, MI(Y;M)=0.947 | bin: MI(X;M)=1.928, MI(Y;M)=0.950\n",
      "---- EPOCH 340\n",
      "- Layer 0 upper: MI(X;M)=11.678, MI(Y;M)=0.999 | bin: MI(X;M)=11.678, MI(Y;M)=0.999\n",
      "- Layer 1 upper: MI(X;M)=11.608, MI(Y;M)=0.999 | bin: MI(X;M)=11.645, MI(Y;M)=0.999\n",
      "- Layer 2 upper: MI(X;M)=6.753, MI(Y;M)=0.952 | bin: MI(X;M)=7.797, MI(Y;M)=0.956\n",
      "- Layer 3 upper: MI(X;M)=5.465, MI(Y;M)=0.950 | bin: MI(X;M)=5.639, MI(Y;M)=0.950\n",
      "- Layer 4 upper: MI(X;M)=4.659, MI(Y;M)=0.952 | bin: MI(X;M)=4.321, MI(Y;M)=0.952\n",
      "- Layer 5 upper: MI(X;M)=1.672, MI(Y;M)=0.951 | bin: MI(X;M)=1.815, MI(Y;M)=0.954\n",
      "---- EPOCH 360\n",
      "- Layer 0 upper: MI(X;M)=11.678, MI(Y;M)=0.999 | bin: MI(X;M)=11.678, MI(Y;M)=0.999\n",
      "- Layer 1 upper: MI(X;M)=11.624, MI(Y;M)=0.999 | bin: MI(X;M)=11.655, MI(Y;M)=0.999\n",
      "- Layer 2 upper: MI(X;M)=6.830, MI(Y;M)=0.964 | bin: MI(X;M)=7.849, MI(Y;M)=0.969\n",
      "- Layer 3 upper: MI(X;M)=5.467, MI(Y;M)=0.956 | bin: MI(X;M)=5.671, MI(Y;M)=0.957\n",
      "- Layer 4 upper: MI(X;M)=4.581, MI(Y;M)=0.957 | bin: MI(X;M)=4.226, MI(Y;M)=0.956\n",
      "- Layer 5 upper: MI(X;M)=1.654, MI(Y;M)=0.956 | bin: MI(X;M)=1.795, MI(Y;M)=0.962\n",
      "---- EPOCH 380\n",
      "- Layer 0 upper: MI(X;M)=11.678, MI(Y;M)=0.999 | bin: MI(X;M)=11.678, MI(Y;M)=0.999\n",
      "- Layer 1 upper: MI(X;M)=11.627, MI(Y;M)=0.999 | bin: MI(X;M)=11.655, MI(Y;M)=0.999\n",
      "- Layer 2 upper: MI(X;M)=6.825, MI(Y;M)=0.968 | bin: MI(X;M)=7.833, MI(Y;M)=0.968\n",
      "- Layer 3 upper: MI(X;M)=5.456, MI(Y;M)=0.964 | bin: MI(X;M)=5.649, MI(Y;M)=0.966\n",
      "- Layer 4 upper: MI(X;M)=4.399, MI(Y;M)=0.965 | bin: MI(X;M)=4.096, MI(Y;M)=0.967\n",
      "- Layer 5 upper: MI(X;M)=1.537, MI(Y;M)=0.967 | bin: MI(X;M)=1.668, MI(Y;M)=0.969\n",
      "---- EPOCH 400\n",
      "- Layer 0 upper: MI(X;M)=11.678, MI(Y;M)=0.999 | bin: MI(X;M)=11.678, MI(Y;M)=0.999\n",
      "- Layer 1 upper: MI(X;M)=11.633, MI(Y;M)=0.999 | bin: MI(X;M)=11.663, MI(Y;M)=0.999\n",
      "- Layer 2 upper: MI(X;M)=6.810, MI(Y;M)=0.973 | bin: MI(X;M)=7.825, MI(Y;M)=0.973\n",
      "- Layer 3 upper: MI(X;M)=5.444, MI(Y;M)=0.966 | bin: MI(X;M)=5.691, MI(Y;M)=0.967\n",
      "- Layer 4 upper: MI(X;M)=4.497, MI(Y;M)=0.967 | bin: MI(X;M)=4.069, MI(Y;M)=0.969\n",
      "- Layer 5 upper: MI(X;M)=1.582, MI(Y;M)=0.969 | bin: MI(X;M)=1.713, MI(Y;M)=0.969\n",
      "---- EPOCH 420\n",
      "- Layer 0 upper: MI(X;M)=11.678, MI(Y;M)=0.999 | bin: MI(X;M)=11.678, MI(Y;M)=0.999\n",
      "- Layer 1 upper: MI(X;M)=11.637, MI(Y;M)=0.999 | bin: MI(X;M)=11.662, MI(Y;M)=0.999\n",
      "- Layer 2 upper: MI(X;M)=6.806, MI(Y;M)=0.972 | bin: MI(X;M)=7.832, MI(Y;M)=0.974\n",
      "- Layer 3 upper: MI(X;M)=5.409, MI(Y;M)=0.961 | bin: MI(X;M)=5.562, MI(Y;M)=0.964\n",
      "- Layer 4 upper: MI(X;M)=4.206, MI(Y;M)=0.963 | bin: MI(X;M)=3.931, MI(Y;M)=0.962\n",
      "- Layer 5 upper: MI(X;M)=1.567, MI(Y;M)=0.954 | bin: MI(X;M)=1.689, MI(Y;M)=0.960\n",
      "---- EPOCH 440\n",
      "- Layer 0 upper: MI(X;M)=11.678, MI(Y;M)=0.999 | bin: MI(X;M)=11.678, MI(Y;M)=0.999\n",
      "- Layer 1 upper: MI(X;M)=11.621, MI(Y;M)=0.999 | bin: MI(X;M)=11.649, MI(Y;M)=0.999\n",
      "- Layer 2 upper: MI(X;M)=6.707, MI(Y;M)=0.979 | bin: MI(X;M)=7.766, MI(Y;M)=0.981\n",
      "- Layer 3 upper: MI(X;M)=5.353, MI(Y;M)=0.977 | bin: MI(X;M)=5.552, MI(Y;M)=0.976\n",
      "- Layer 4 upper: MI(X;M)=4.109, MI(Y;M)=0.978 | bin: MI(X;M)=3.752, MI(Y;M)=0.979\n",
      "- Layer 5 upper: MI(X;M)=1.438, MI(Y;M)=0.976 | bin: MI(X;M)=1.534, MI(Y;M)=0.981\n",
      "---- EPOCH 460\n",
      "- Layer 0 upper: MI(X;M)=11.678, MI(Y;M)=0.999 | bin: MI(X;M)=11.678, MI(Y;M)=0.999\n",
      "- Layer 1 upper: MI(X;M)=11.616, MI(Y;M)=0.999 | bin: MI(X;M)=11.657, MI(Y;M)=0.999\n",
      "- Layer 2 upper: MI(X;M)=6.673, MI(Y;M)=0.978 | bin: MI(X;M)=7.679, MI(Y;M)=0.982\n",
      "- Layer 3 upper: MI(X;M)=5.312, MI(Y;M)=0.975 | bin: MI(X;M)=5.443, MI(Y;M)=0.974\n",
      "- Layer 4 upper: MI(X;M)=3.956, MI(Y;M)=0.976 | bin: MI(X;M)=3.770, MI(Y;M)=0.976\n",
      "- Layer 5 upper: MI(X;M)=1.408, MI(Y;M)=0.974 | bin: MI(X;M)=1.496, MI(Y;M)=0.975\n",
      "---- EPOCH 480\n",
      "- Layer 0 upper: MI(X;M)=11.678, MI(Y;M)=0.999 | bin: MI(X;M)=11.678, MI(Y;M)=0.999\n",
      "- Layer 1 upper: MI(X;M)=11.629, MI(Y;M)=0.999 | bin: MI(X;M)=11.660, MI(Y;M)=0.999\n",
      "- Layer 2 upper: MI(X;M)=6.612, MI(Y;M)=0.971 | bin: MI(X;M)=7.638, MI(Y;M)=0.972\n",
      "- Layer 3 upper: MI(X;M)=5.332, MI(Y;M)=0.963 | bin: MI(X;M)=5.532, MI(Y;M)=0.962\n",
      "- Layer 4 upper: MI(X;M)=4.155, MI(Y;M)=0.965 | bin: MI(X;M)=3.696, MI(Y;M)=0.966\n",
      "- Layer 5 upper: MI(X;M)=1.469, MI(Y;M)=0.962 | bin: MI(X;M)=1.598, MI(Y;M)=0.967\n",
      "---- EPOCH 500\n",
      "- Layer 0 upper: MI(X;M)=11.678, MI(Y;M)=0.999 | bin: MI(X;M)=11.678, MI(Y;M)=0.999\n",
      "- Layer 1 upper: MI(X;M)=11.621, MI(Y;M)=0.999 | bin: MI(X;M)=11.653, MI(Y;M)=0.999\n",
      "- Layer 2 upper: MI(X;M)=6.569, MI(Y;M)=0.986 | bin: MI(X;M)=7.607, MI(Y;M)=0.987\n",
      "- Layer 3 upper: MI(X;M)=5.242, MI(Y;M)=0.980 | bin: MI(X;M)=5.480, MI(Y;M)=0.978\n",
      "- Layer 4 upper: MI(X;M)=3.945, MI(Y;M)=0.981 | bin: MI(X;M)=3.459, MI(Y;M)=0.981\n",
      "- Layer 5 upper: MI(X;M)=1.411, MI(Y;M)=0.971 | bin: MI(X;M)=1.497, MI(Y;M)=0.978\n",
      "---- EPOCH 520\n",
      "- Layer 0 upper: MI(X;M)=11.677, MI(Y;M)=0.999 | bin: MI(X;M)=11.678, MI(Y;M)=0.999\n",
      "- Layer 1 upper: MI(X;M)=11.607, MI(Y;M)=0.999 | bin: MI(X;M)=11.645, MI(Y;M)=0.999\n",
      "- Layer 2 upper: MI(X;M)=6.514, MI(Y;M)=0.985 | bin: MI(X;M)=7.515, MI(Y;M)=0.988\n",
      "- Layer 3 upper: MI(X;M)=5.182, MI(Y;M)=0.977 | bin: MI(X;M)=5.388, MI(Y;M)=0.980\n",
      "- Layer 4 upper: MI(X;M)=3.792, MI(Y;M)=0.979 | bin: MI(X;M)=3.266, MI(Y;M)=0.978\n",
      "- Layer 5 upper: MI(X;M)=1.345, MI(Y;M)=0.979 | bin: MI(X;M)=1.428, MI(Y;M)=0.980\n",
      "---- EPOCH 540\n",
      "- Layer 0 upper: MI(X;M)=11.677, MI(Y;M)=0.999 | bin: MI(X;M)=11.676, MI(Y;M)=0.999\n",
      "- Layer 1 upper: MI(X;M)=11.615, MI(Y;M)=0.999 | bin: MI(X;M)=11.651, MI(Y;M)=0.999\n",
      "- Layer 2 upper: MI(X;M)=6.477, MI(Y;M)=0.992 | bin: MI(X;M)=7.459, MI(Y;M)=0.994\n",
      "- Layer 3 upper: MI(X;M)=5.173, MI(Y;M)=0.991 | bin: MI(X;M)=5.399, MI(Y;M)=0.990\n",
      "- Layer 4 upper: MI(X;M)=3.905, MI(Y;M)=0.992 | bin: MI(X;M)=3.453, MI(Y;M)=0.992\n",
      "- Layer 5 upper: MI(X;M)=1.363, MI(Y;M)=0.993 | bin: MI(X;M)=1.463, MI(Y;M)=0.994\n",
      "---- EPOCH 560\n",
      "- Layer 0 upper: MI(X;M)=11.676, MI(Y;M)=0.999 | bin: MI(X;M)=11.677, MI(Y;M)=0.999\n",
      "- Layer 1 upper: MI(X;M)=11.600, MI(Y;M)=0.999 | bin: MI(X;M)=11.644, MI(Y;M)=0.999\n",
      "- Layer 2 upper: MI(X;M)=6.423, MI(Y;M)=0.983 | bin: MI(X;M)=7.410, MI(Y;M)=0.988\n",
      "- Layer 3 upper: MI(X;M)=5.187, MI(Y;M)=0.977 | bin: MI(X;M)=5.508, MI(Y;M)=0.977\n",
      "- Layer 4 upper: MI(X;M)=4.124, MI(Y;M)=0.978 | bin: MI(X;M)=3.960, MI(Y;M)=0.981\n",
      "- Layer 5 upper: MI(X;M)=1.486, MI(Y;M)=0.979 | bin: MI(X;M)=1.606, MI(Y;M)=0.981\n",
      "---- EPOCH 580\n",
      "- Layer 0 upper: MI(X;M)=11.673, MI(Y;M)=0.999 | bin: MI(X;M)=11.677, MI(Y;M)=0.999\n",
      "- Layer 1 upper: MI(X;M)=11.589, MI(Y;M)=0.999 | bin: MI(X;M)=11.634, MI(Y;M)=0.999\n",
      "- Layer 2 upper: MI(X;M)=6.346, MI(Y;M)=0.993 | bin: MI(X;M)=7.355, MI(Y;M)=0.994\n",
      "- Layer 3 upper: MI(X;M)=4.961, MI(Y;M)=0.994 | bin: MI(X;M)=5.164, MI(Y;M)=0.993\n",
      "- Layer 4 upper: MI(X;M)=3.452, MI(Y;M)=0.995 | bin: MI(X;M)=3.619, MI(Y;M)=0.996\n",
      "- Layer 5 upper: MI(X;M)=1.301, MI(Y;M)=0.992 | bin: MI(X;M)=1.382, MI(Y;M)=0.995\n",
      "---- EPOCH 600\n",
      "- Layer 0 upper: MI(X;M)=11.674, MI(Y;M)=0.999 | bin: MI(X;M)=11.676, MI(Y;M)=0.999\n",
      "- Layer 1 upper: MI(X;M)=11.590, MI(Y;M)=0.999 | bin: MI(X;M)=11.643, MI(Y;M)=0.999\n",
      "- Layer 2 upper: MI(X;M)=6.280, MI(Y;M)=0.985 | bin: MI(X;M)=7.319, MI(Y;M)=0.988\n",
      "- Layer 3 upper: MI(X;M)=4.964, MI(Y;M)=0.979 | bin: MI(X;M)=5.243, MI(Y;M)=0.978\n",
      "- Layer 4 upper: MI(X;M)=3.621, MI(Y;M)=0.980 | bin: MI(X;M)=3.201, MI(Y;M)=0.981\n",
      "- Layer 5 upper: MI(X;M)=1.351, MI(Y;M)=0.981 | bin: MI(X;M)=1.431, MI(Y;M)=0.983\n",
      "---- EPOCH 620\n",
      "- Layer 0 upper: MI(X;M)=11.670, MI(Y;M)=0.999 | bin: MI(X;M)=11.676, MI(Y;M)=0.999\n",
      "- Layer 1 upper: MI(X;M)=11.580, MI(Y;M)=0.999 | bin: MI(X;M)=11.631, MI(Y;M)=0.999\n",
      "- Layer 2 upper: MI(X;M)=6.231, MI(Y;M)=0.985 | bin: MI(X;M)=7.273, MI(Y;M)=0.983\n",
      "- Layer 3 upper: MI(X;M)=4.943, MI(Y;M)=0.976 | bin: MI(X;M)=5.225, MI(Y;M)=0.975\n",
      "- Layer 4 upper: MI(X;M)=3.552, MI(Y;M)=0.977 | bin: MI(X;M)=3.091, MI(Y;M)=0.977\n",
      "- Layer 5 upper: MI(X;M)=1.317, MI(Y;M)=0.977 | bin: MI(X;M)=1.405, MI(Y;M)=0.981\n",
      "---- EPOCH 640\n",
      "- Layer 0 upper: MI(X;M)=11.655, MI(Y;M)=0.999 | bin: MI(X;M)=11.668, MI(Y;M)=0.999\n",
      "- Layer 1 upper: MI(X;M)=11.557, MI(Y;M)=0.999 | bin: MI(X;M)=11.612, MI(Y;M)=0.999\n",
      "- Layer 2 upper: MI(X;M)=6.218, MI(Y;M)=0.995 | bin: MI(X;M)=7.236, MI(Y;M)=0.997\n",
      "- Layer 3 upper: MI(X;M)=4.904, MI(Y;M)=0.995 | bin: MI(X;M)=5.310, MI(Y;M)=0.995\n",
      "- Layer 4 upper: MI(X;M)=3.616, MI(Y;M)=0.996 | bin: MI(X;M)=3.261, MI(Y;M)=0.996\n",
      "- Layer 5 upper: MI(X;M)=1.315, MI(Y;M)=0.996 | bin: MI(X;M)=1.411, MI(Y;M)=0.997\n",
      "---- EPOCH 660\n"
     ]
    },
    {
     "name": "stdout",
     "output_type": "stream",
     "text": [
      "- Layer 0 upper: MI(X;M)=11.668, MI(Y;M)=0.999 | bin: MI(X;M)=11.676, MI(Y;M)=0.999\n",
      "- Layer 1 upper: MI(X;M)=11.589, MI(Y;M)=0.999 | bin: MI(X;M)=11.638, MI(Y;M)=0.999\n",
      "- Layer 2 upper: MI(X;M)=6.149, MI(Y;M)=0.990 | bin: MI(X;M)=7.129, MI(Y;M)=0.991\n",
      "- Layer 3 upper: MI(X;M)=4.637, MI(Y;M)=0.990 | bin: MI(X;M)=5.149, MI(Y;M)=0.989\n",
      "- Layer 4 upper: MI(X;M)=3.078, MI(Y;M)=0.991 | bin: MI(X;M)=3.437, MI(Y;M)=0.991\n",
      "- Layer 5 upper: MI(X;M)=1.176, MI(Y;M)=0.990 | bin: MI(X;M)=1.244, MI(Y;M)=0.992\n",
      "---- EPOCH 680\n",
      "- Layer 0 upper: MI(X;M)=11.661, MI(Y;M)=0.999 | bin: MI(X;M)=11.672, MI(Y;M)=0.999\n",
      "- Layer 1 upper: MI(X;M)=11.581, MI(Y;M)=0.999 | bin: MI(X;M)=11.636, MI(Y;M)=0.999\n",
      "- Layer 2 upper: MI(X;M)=6.119, MI(Y;M)=0.996 | bin: MI(X;M)=7.116, MI(Y;M)=0.995\n",
      "- Layer 3 upper: MI(X;M)=4.727, MI(Y;M)=0.996 | bin: MI(X;M)=5.156, MI(Y;M)=0.996\n",
      "- Layer 4 upper: MI(X;M)=3.352, MI(Y;M)=0.997 | bin: MI(X;M)=2.964, MI(Y;M)=0.998\n",
      "- Layer 5 upper: MI(X;M)=1.226, MI(Y;M)=0.997 | bin: MI(X;M)=1.294, MI(Y;M)=0.999\n",
      "---- EPOCH 700\n",
      "- Layer 0 upper: MI(X;M)=11.671, MI(Y;M)=0.999 | bin: MI(X;M)=11.676, MI(Y;M)=0.999\n",
      "- Layer 1 upper: MI(X;M)=11.584, MI(Y;M)=0.999 | bin: MI(X;M)=11.635, MI(Y;M)=0.999\n",
      "- Layer 2 upper: MI(X;M)=6.089, MI(Y;M)=0.979 | bin: MI(X;M)=6.999, MI(Y;M)=0.980\n",
      "- Layer 3 upper: MI(X;M)=4.692, MI(Y;M)=0.979 | bin: MI(X;M)=5.147, MI(Y;M)=0.978\n",
      "- Layer 4 upper: MI(X;M)=3.314, MI(Y;M)=0.980 | bin: MI(X;M)=2.917, MI(Y;M)=0.980\n",
      "- Layer 5 upper: MI(X;M)=1.285, MI(Y;M)=0.965 | bin: MI(X;M)=1.363, MI(Y;M)=0.971\n",
      "---- EPOCH 720\n",
      "- Layer 0 upper: MI(X;M)=11.671, MI(Y;M)=0.999 | bin: MI(X;M)=11.676, MI(Y;M)=0.999\n",
      "- Layer 1 upper: MI(X;M)=11.594, MI(Y;M)=0.999 | bin: MI(X;M)=11.636, MI(Y;M)=0.999\n",
      "- Layer 2 upper: MI(X;M)=6.047, MI(Y;M)=0.986 | bin: MI(X;M)=6.984, MI(Y;M)=0.990\n",
      "- Layer 3 upper: MI(X;M)=4.493, MI(Y;M)=0.984 | bin: MI(X;M)=5.106, MI(Y;M)=0.985\n",
      "- Layer 4 upper: MI(X;M)=3.025, MI(Y;M)=0.986 | bin: MI(X;M)=3.463, MI(Y;M)=0.986\n",
      "- Layer 5 upper: MI(X;M)=1.203, MI(Y;M)=0.983 | bin: MI(X;M)=1.267, MI(Y;M)=0.987\n",
      "---- EPOCH 740\n",
      "- Layer 0 upper: MI(X;M)=11.676, MI(Y;M)=0.999 | bin: MI(X;M)=11.678, MI(Y;M)=0.999\n",
      "- Layer 1 upper: MI(X;M)=11.617, MI(Y;M)=0.999 | bin: MI(X;M)=11.645, MI(Y;M)=0.999\n",
      "- Layer 2 upper: MI(X;M)=6.051, MI(Y;M)=0.971 | bin: MI(X;M)=7.012, MI(Y;M)=0.973\n",
      "- Layer 3 upper: MI(X;M)=4.918, MI(Y;M)=0.971 | bin: MI(X;M)=5.569, MI(Y;M)=0.972\n",
      "- Layer 4 upper: MI(X;M)=3.997, MI(Y;M)=0.971 | bin: MI(X;M)=3.771, MI(Y;M)=0.973\n",
      "- Layer 5 upper: MI(X;M)=1.620, MI(Y;M)=0.966 | bin: MI(X;M)=1.766, MI(Y;M)=0.969\n",
      "---- EPOCH 760\n",
      "- Layer 0 upper: MI(X;M)=11.659, MI(Y;M)=0.999 | bin: MI(X;M)=11.673, MI(Y;M)=0.999\n",
      "- Layer 1 upper: MI(X;M)=11.571, MI(Y;M)=0.999 | bin: MI(X;M)=11.632, MI(Y;M)=0.999\n",
      "- Layer 2 upper: MI(X;M)=5.989, MI(Y;M)=0.997 | bin: MI(X;M)=6.986, MI(Y;M)=0.997\n",
      "- Layer 3 upper: MI(X;M)=4.551, MI(Y;M)=0.997 | bin: MI(X;M)=5.217, MI(Y;M)=0.996\n",
      "- Layer 4 upper: MI(X;M)=3.303, MI(Y;M)=0.998 | bin: MI(X;M)=3.010, MI(Y;M)=0.998\n",
      "- Layer 5 upper: MI(X;M)=1.235, MI(Y;M)=0.998 | bin: MI(X;M)=1.322, MI(Y;M)=0.998\n",
      "---- EPOCH 780\n",
      "- Layer 0 upper: MI(X;M)=11.645, MI(Y;M)=0.999 | bin: MI(X;M)=11.662, MI(Y;M)=0.999\n",
      "- Layer 1 upper: MI(X;M)=11.556, MI(Y;M)=0.999 | bin: MI(X;M)=11.609, MI(Y;M)=0.999\n",
      "- Layer 2 upper: MI(X;M)=5.971, MI(Y;M)=0.982 | bin: MI(X;M)=6.969, MI(Y;M)=0.984\n",
      "- Layer 3 upper: MI(X;M)=4.403, MI(Y;M)=0.981 | bin: MI(X;M)=5.205, MI(Y;M)=0.981\n",
      "- Layer 4 upper: MI(X;M)=3.086, MI(Y;M)=0.982 | bin: MI(X;M)=2.701, MI(Y;M)=0.984\n",
      "- Layer 5 upper: MI(X;M)=1.244, MI(Y;M)=0.978 | bin: MI(X;M)=1.317, MI(Y;M)=0.980\n",
      "---- EPOCH 800\n",
      "- Layer 0 upper: MI(X;M)=11.666, MI(Y;M)=0.999 | bin: MI(X;M)=11.673, MI(Y;M)=0.999\n",
      "- Layer 1 upper: MI(X;M)=11.591, MI(Y;M)=0.999 | bin: MI(X;M)=11.647, MI(Y;M)=0.999\n",
      "- Layer 2 upper: MI(X;M)=5.970, MI(Y;M)=0.994 | bin: MI(X;M)=6.927, MI(Y;M)=0.994\n",
      "- Layer 3 upper: MI(X;M)=4.308, MI(Y;M)=0.995 | bin: MI(X;M)=5.192, MI(Y;M)=0.994\n",
      "- Layer 4 upper: MI(X;M)=2.964, MI(Y;M)=0.995 | bin: MI(X;M)=2.564, MI(Y;M)=0.996\n",
      "- Layer 5 upper: MI(X;M)=1.169, MI(Y;M)=0.996 | bin: MI(X;M)=1.231, MI(Y;M)=0.997\n",
      "---- EPOCH 820\n",
      "- Layer 0 upper: MI(X;M)=11.648, MI(Y;M)=0.999 | bin: MI(X;M)=11.666, MI(Y;M)=0.999\n",
      "- Layer 1 upper: MI(X;M)=11.544, MI(Y;M)=0.999 | bin: MI(X;M)=11.613, MI(Y;M)=0.999\n",
      "- Layer 2 upper: MI(X;M)=5.935, MI(Y;M)=0.999 | bin: MI(X;M)=6.863, MI(Y;M)=0.999\n",
      "- Layer 3 upper: MI(X;M)=4.204, MI(Y;M)=0.999 | bin: MI(X;M)=5.006, MI(Y;M)=0.998\n",
      "- Layer 4 upper: MI(X;M)=2.800, MI(Y;M)=0.999 | bin: MI(X;M)=3.131, MI(Y;M)=0.999\n",
      "- Layer 5 upper: MI(X;M)=1.117, MI(Y;M)=0.999 | bin: MI(X;M)=1.154, MI(Y;M)=0.999\n",
      "---- EPOCH 840\n",
      "- Layer 0 upper: MI(X;M)=11.665, MI(Y;M)=0.999 | bin: MI(X;M)=11.671, MI(Y;M)=0.999\n",
      "- Layer 1 upper: MI(X;M)=11.554, MI(Y;M)=0.999 | bin: MI(X;M)=11.624, MI(Y;M)=0.999\n",
      "- Layer 2 upper: MI(X;M)=5.952, MI(Y;M)=0.994 | bin: MI(X;M)=6.875, MI(Y;M)=0.995\n",
      "- Layer 3 upper: MI(X;M)=4.220, MI(Y;M)=0.994 | bin: MI(X;M)=5.156, MI(Y;M)=0.994\n",
      "- Layer 4 upper: MI(X;M)=2.889, MI(Y;M)=0.994 | bin: MI(X;M)=2.468, MI(Y;M)=0.994\n",
      "- Layer 5 upper: MI(X;M)=1.158, MI(Y;M)=0.996 | bin: MI(X;M)=1.212, MI(Y;M)=0.997\n",
      "---- EPOCH 860\n",
      "- Layer 0 upper: MI(X;M)=11.655, MI(Y;M)=0.999 | bin: MI(X;M)=11.669, MI(Y;M)=0.999\n",
      "- Layer 1 upper: MI(X;M)=11.559, MI(Y;M)=0.999 | bin: MI(X;M)=11.627, MI(Y;M)=0.999\n",
      "- Layer 2 upper: MI(X;M)=5.927, MI(Y;M)=0.991 | bin: MI(X;M)=6.790, MI(Y;M)=0.993\n",
      "- Layer 3 upper: MI(X;M)=4.194, MI(Y;M)=0.992 | bin: MI(X;M)=5.115, MI(Y;M)=0.992\n",
      "- Layer 4 upper: MI(X;M)=2.844, MI(Y;M)=0.993 | bin: MI(X;M)=2.483, MI(Y;M)=0.991\n",
      "- Layer 5 upper: MI(X;M)=1.249, MI(Y;M)=0.984 | bin: MI(X;M)=1.298, MI(Y;M)=0.986\n",
      "---- EPOCH 880\n",
      "- Layer 0 upper: MI(X;M)=11.649, MI(Y;M)=0.999 | bin: MI(X;M)=11.664, MI(Y;M)=0.999\n",
      "- Layer 1 upper: MI(X;M)=11.545, MI(Y;M)=0.999 | bin: MI(X;M)=11.621, MI(Y;M)=0.999\n",
      "- Layer 2 upper: MI(X;M)=5.922, MI(Y;M)=0.986 | bin: MI(X;M)=6.863, MI(Y;M)=0.986\n",
      "- Layer 3 upper: MI(X;M)=4.211, MI(Y;M)=0.986 | bin: MI(X;M)=5.191, MI(Y;M)=0.987\n",
      "- Layer 4 upper: MI(X;M)=2.907, MI(Y;M)=0.987 | bin: MI(X;M)=2.563, MI(Y;M)=0.988\n",
      "- Layer 5 upper: MI(X;M)=1.193, MI(Y;M)=0.976 | bin: MI(X;M)=1.244, MI(Y;M)=0.983\n",
      "---- EPOCH 900\n",
      "- Layer 0 upper: MI(X;M)=11.630, MI(Y;M)=0.999 | bin: MI(X;M)=11.657, MI(Y;M)=0.999\n",
      "- Layer 1 upper: MI(X;M)=11.546, MI(Y;M)=0.999 | bin: MI(X;M)=11.602, MI(Y;M)=0.999\n",
      "- Layer 2 upper: MI(X;M)=5.876, MI(Y;M)=0.993 | bin: MI(X;M)=6.730, MI(Y;M)=0.994\n",
      "- Layer 3 upper: MI(X;M)=4.051, MI(Y;M)=0.993 | bin: MI(X;M)=5.081, MI(Y;M)=0.992\n",
      "- Layer 4 upper: MI(X;M)=2.752, MI(Y;M)=0.995 | bin: MI(X;M)=2.381, MI(Y;M)=0.993\n",
      "- Layer 5 upper: MI(X;M)=1.171, MI(Y;M)=0.995 | bin: MI(X;M)=1.206, MI(Y;M)=0.995\n",
      "---- EPOCH 920\n",
      "- Layer 0 upper: MI(X;M)=11.661, MI(Y;M)=0.999 | bin: MI(X;M)=11.670, MI(Y;M)=0.999\n",
      "- Layer 1 upper: MI(X;M)=11.584, MI(Y;M)=0.999 | bin: MI(X;M)=11.633, MI(Y;M)=0.999\n",
      "- Layer 2 upper: MI(X;M)=5.868, MI(Y;M)=0.995 | bin: MI(X;M)=6.727, MI(Y;M)=0.996\n",
      "- Layer 3 upper: MI(X;M)=4.162, MI(Y;M)=0.996 | bin: MI(X;M)=5.258, MI(Y;M)=0.995\n",
      "- Layer 4 upper: MI(X;M)=2.980, MI(Y;M)=0.996 | bin: MI(X;M)=2.730, MI(Y;M)=0.996\n",
      "- Layer 5 upper: MI(X;M)=1.192, MI(Y;M)=0.997 | bin: MI(X;M)=1.263, MI(Y;M)=0.998\n",
      "---- EPOCH 940\n",
      "- Layer 0 upper: MI(X;M)=11.654, MI(Y;M)=0.999 | bin: MI(X;M)=11.668, MI(Y;M)=0.999\n",
      "- Layer 1 upper: MI(X;M)=11.569, MI(Y;M)=0.999 | bin: MI(X;M)=11.625, MI(Y;M)=0.999\n",
      "- Layer 2 upper: MI(X;M)=5.844, MI(Y;M)=0.998 | bin: MI(X;M)=6.704, MI(Y;M)=0.999\n",
      "- Layer 3 upper: MI(X;M)=4.087, MI(Y;M)=0.999 | bin: MI(X;M)=5.209, MI(Y;M)=0.999\n",
      "- Layer 4 upper: MI(X;M)=2.886, MI(Y;M)=0.999 | bin: MI(X;M)=2.610, MI(Y;M)=0.999\n",
      "- Layer 5 upper: MI(X;M)=1.138, MI(Y;M)=0.999 | bin: MI(X;M)=1.191, MI(Y;M)=0.999\n",
      "---- EPOCH 960\n",
      "- Layer 0 upper: MI(X;M)=11.663, MI(Y;M)=0.999 | bin: MI(X;M)=11.671, MI(Y;M)=0.999\n",
      "- Layer 1 upper: MI(X;M)=11.581, MI(Y;M)=0.999 | bin: MI(X;M)=11.638, MI(Y;M)=0.999\n",
      "- Layer 2 upper: MI(X;M)=5.819, MI(Y;M)=0.999 | bin: MI(X;M)=6.703, MI(Y;M)=0.999\n",
      "- Layer 3 upper: MI(X;M)=4.110, MI(Y;M)=0.999 | bin: MI(X;M)=5.179, MI(Y;M)=0.999\n",
      "- Layer 4 upper: MI(X;M)=2.965, MI(Y;M)=0.999 | bin: MI(X;M)=2.752, MI(Y;M)=0.999\n",
      "- Layer 5 upper: MI(X;M)=1.138, MI(Y;M)=0.999 | bin: MI(X;M)=1.200, MI(Y;M)=0.999\n",
      "---- EPOCH 980\n",
      "- Layer 0 upper: MI(X;M)=11.632, MI(Y;M)=0.999 | bin: MI(X;M)=11.661, MI(Y;M)=0.999\n",
      "- Layer 1 upper: MI(X;M)=11.554, MI(Y;M)=0.999 | bin: MI(X;M)=11.608, MI(Y;M)=0.999\n"
     ]
    },
    {
     "name": "stdout",
     "output_type": "stream",
     "text": [
      "- Layer 2 upper: MI(X;M)=5.865, MI(Y;M)=0.999 | bin: MI(X;M)=6.748, MI(Y;M)=0.999\n",
      "- Layer 3 upper: MI(X;M)=4.023, MI(Y;M)=0.999 | bin: MI(X;M)=5.166, MI(Y;M)=0.999\n",
      "- Layer 4 upper: MI(X;M)=2.808, MI(Y;M)=0.999 | bin: MI(X;M)=2.507, MI(Y;M)=0.999\n",
      "- Layer 5 upper: MI(X;M)=1.117, MI(Y;M)=0.999 | bin: MI(X;M)=1.161, MI(Y;M)=0.999\n",
      "---- EPOCH 1000\n",
      "- Layer 0 upper: MI(X;M)=11.664, MI(Y;M)=0.999 | bin: MI(X;M)=11.673, MI(Y;M)=0.999\n",
      "- Layer 1 upper: MI(X;M)=11.606, MI(Y;M)=0.999 | bin: MI(X;M)=11.647, MI(Y;M)=0.999\n",
      "- Layer 2 upper: MI(X;M)=5.816, MI(Y;M)=0.994 | bin: MI(X;M)=6.672, MI(Y;M)=0.994\n",
      "- Layer 3 upper: MI(X;M)=4.082, MI(Y;M)=0.994 | bin: MI(X;M)=5.136, MI(Y;M)=0.994\n",
      "- Layer 4 upper: MI(X;M)=2.943, MI(Y;M)=0.994 | bin: MI(X;M)=2.789, MI(Y;M)=0.995\n",
      "- Layer 5 upper: MI(X;M)=1.188, MI(Y;M)=0.995 | bin: MI(X;M)=1.245, MI(Y;M)=0.996\n",
      "---- EPOCH 1020\n",
      "- Layer 0 upper: MI(X;M)=11.666, MI(Y;M)=0.999 | bin: MI(X;M)=11.673, MI(Y;M)=0.999\n",
      "- Layer 1 upper: MI(X;M)=11.600, MI(Y;M)=0.999 | bin: MI(X;M)=11.642, MI(Y;M)=0.999\n",
      "- Layer 2 upper: MI(X;M)=5.781, MI(Y;M)=0.988 | bin: MI(X;M)=6.590, MI(Y;M)=0.987\n",
      "- Layer 3 upper: MI(X;M)=3.982, MI(Y;M)=0.988 | bin: MI(X;M)=5.130, MI(Y;M)=0.989\n",
      "- Layer 4 upper: MI(X;M)=2.753, MI(Y;M)=0.989 | bin: MI(X;M)=2.466, MI(Y;M)=0.988\n",
      "- Layer 5 upper: MI(X;M)=1.182, MI(Y;M)=0.980 | bin: MI(X;M)=1.234, MI(Y;M)=0.986\n",
      "---- EPOCH 1040\n",
      "- Layer 0 upper: MI(X;M)=11.638, MI(Y;M)=0.999 | bin: MI(X;M)=11.660, MI(Y;M)=0.999\n",
      "- Layer 1 upper: MI(X;M)=11.546, MI(Y;M)=0.999 | bin: MI(X;M)=11.611, MI(Y;M)=0.999\n",
      "- Layer 2 upper: MI(X;M)=5.819, MI(Y;M)=0.974 | bin: MI(X;M)=6.659, MI(Y;M)=0.977\n",
      "- Layer 3 upper: MI(X;M)=4.281, MI(Y;M)=0.973 | bin: MI(X;M)=5.134, MI(Y;M)=0.974\n",
      "- Layer 4 upper: MI(X;M)=3.240, MI(Y;M)=0.974 | bin: MI(X;M)=3.743, MI(Y;M)=0.975\n",
      "- Layer 5 upper: MI(X;M)=1.418, MI(Y;M)=0.928 | bin: MI(X;M)=1.507, MI(Y;M)=0.951\n",
      "---- EPOCH 1060\n",
      "- Layer 0 upper: MI(X;M)=11.658, MI(Y;M)=0.999 | bin: MI(X;M)=11.668, MI(Y;M)=0.999\n",
      "- Layer 1 upper: MI(X;M)=11.556, MI(Y;M)=0.999 | bin: MI(X;M)=11.629, MI(Y;M)=0.999\n",
      "- Layer 2 upper: MI(X;M)=5.742, MI(Y;M)=0.974 | bin: MI(X;M)=6.569, MI(Y;M)=0.976\n",
      "- Layer 3 upper: MI(X;M)=4.172, MI(Y;M)=0.974 | bin: MI(X;M)=5.056, MI(Y;M)=0.977\n",
      "- Layer 4 upper: MI(X;M)=3.190, MI(Y;M)=0.974 | bin: MI(X;M)=3.144, MI(Y;M)=0.976\n",
      "- Layer 5 upper: MI(X;M)=1.370, MI(Y;M)=0.953 | bin: MI(X;M)=1.438, MI(Y;M)=0.958\n",
      "---- EPOCH 1080\n",
      "- Layer 0 upper: MI(X;M)=11.649, MI(Y;M)=0.999 | bin: MI(X;M)=11.671, MI(Y;M)=0.999\n",
      "- Layer 1 upper: MI(X;M)=11.563, MI(Y;M)=0.999 | bin: MI(X;M)=11.620, MI(Y;M)=0.999\n",
      "- Layer 2 upper: MI(X;M)=5.770, MI(Y;M)=0.999 | bin: MI(X;M)=6.600, MI(Y;M)=0.999\n",
      "- Layer 3 upper: MI(X;M)=3.954, MI(Y;M)=0.999 | bin: MI(X;M)=5.091, MI(Y;M)=0.999\n",
      "- Layer 4 upper: MI(X;M)=2.772, MI(Y;M)=0.999 | bin: MI(X;M)=2.516, MI(Y;M)=0.999\n",
      "- Layer 5 upper: MI(X;M)=1.086, MI(Y;M)=0.999 | bin: MI(X;M)=1.126, MI(Y;M)=0.999\n",
      "---- EPOCH 1100\n",
      "- Layer 0 upper: MI(X;M)=11.651, MI(Y;M)=0.999 | bin: MI(X;M)=11.667, MI(Y;M)=0.999\n",
      "- Layer 1 upper: MI(X;M)=11.549, MI(Y;M)=0.999 | bin: MI(X;M)=11.623, MI(Y;M)=0.999\n",
      "- Layer 2 upper: MI(X;M)=5.715, MI(Y;M)=0.998 | bin: MI(X;M)=6.514, MI(Y;M)=0.999\n",
      "- Layer 3 upper: MI(X;M)=3.988, MI(Y;M)=0.998 | bin: MI(X;M)=5.023, MI(Y;M)=0.998\n",
      "- Layer 4 upper: MI(X;M)=2.859, MI(Y;M)=0.999 | bin: MI(X;M)=2.665, MI(Y;M)=0.999\n",
      "- Layer 5 upper: MI(X;M)=1.094, MI(Y;M)=0.999 | bin: MI(X;M)=1.136, MI(Y;M)=0.999\n",
      "---- EPOCH 1120\n",
      "- Layer 0 upper: MI(X;M)=11.657, MI(Y;M)=0.999 | bin: MI(X;M)=11.671, MI(Y;M)=0.999\n",
      "- Layer 1 upper: MI(X;M)=11.565, MI(Y;M)=0.999 | bin: MI(X;M)=11.630, MI(Y;M)=0.999\n",
      "- Layer 2 upper: MI(X;M)=5.701, MI(Y;M)=0.998 | bin: MI(X;M)=6.506, MI(Y;M)=0.999\n",
      "- Layer 3 upper: MI(X;M)=4.095, MI(Y;M)=0.999 | bin: MI(X;M)=5.066, MI(Y;M)=0.999\n",
      "- Layer 4 upper: MI(X;M)=3.053, MI(Y;M)=0.999 | bin: MI(X;M)=3.295, MI(Y;M)=0.999\n",
      "- Layer 5 upper: MI(X;M)=1.159, MI(Y;M)=0.999 | bin: MI(X;M)=1.232, MI(Y;M)=0.999\n",
      "---- EPOCH 1140\n",
      "- Layer 0 upper: MI(X;M)=11.655, MI(Y;M)=0.999 | bin: MI(X;M)=11.669, MI(Y;M)=0.999\n",
      "- Layer 1 upper: MI(X;M)=11.547, MI(Y;M)=0.999 | bin: MI(X;M)=11.613, MI(Y;M)=0.999\n",
      "- Layer 2 upper: MI(X;M)=5.761, MI(Y;M)=0.988 | bin: MI(X;M)=6.602, MI(Y;M)=0.990\n",
      "- Layer 3 upper: MI(X;M)=4.207, MI(Y;M)=0.988 | bin: MI(X;M)=4.895, MI(Y;M)=0.988\n",
      "- Layer 4 upper: MI(X;M)=3.222, MI(Y;M)=0.988 | bin: MI(X;M)=3.295, MI(Y;M)=0.990\n",
      "- Layer 5 upper: MI(X;M)=1.250, MI(Y;M)=0.989 | bin: MI(X;M)=1.324, MI(Y;M)=0.991\n",
      "---- EPOCH 1160\n",
      "- Layer 0 upper: MI(X;M)=11.664, MI(Y;M)=0.999 | bin: MI(X;M)=11.674, MI(Y;M)=0.999\n",
      "- Layer 1 upper: MI(X;M)=11.545, MI(Y;M)=0.999 | bin: MI(X;M)=11.611, MI(Y;M)=0.999\n",
      "- Layer 2 upper: MI(X;M)=5.636, MI(Y;M)=0.999 | bin: MI(X;M)=6.473, MI(Y;M)=0.999\n",
      "- Layer 3 upper: MI(X;M)=3.791, MI(Y;M)=0.999 | bin: MI(X;M)=5.011, MI(Y;M)=0.999\n",
      "- Layer 4 upper: MI(X;M)=2.534, MI(Y;M)=0.999 | bin: MI(X;M)=2.210, MI(Y;M)=0.999\n",
      "- Layer 5 upper: MI(X;M)=1.012, MI(Y;M)=0.999 | bin: MI(X;M)=1.022, MI(Y;M)=0.999\n",
      "---- EPOCH 1180\n",
      "- Layer 0 upper: MI(X;M)=11.665, MI(Y;M)=0.999 | bin: MI(X;M)=11.673, MI(Y;M)=0.999\n",
      "- Layer 1 upper: MI(X;M)=11.545, MI(Y;M)=0.999 | bin: MI(X;M)=11.617, MI(Y;M)=0.999\n",
      "- Layer 2 upper: MI(X;M)=5.625, MI(Y;M)=0.999 | bin: MI(X;M)=6.433, MI(Y;M)=0.999\n",
      "- Layer 3 upper: MI(X;M)=3.566, MI(Y;M)=0.999 | bin: MI(X;M)=4.656, MI(Y;M)=0.999\n",
      "- Layer 4 upper: MI(X;M)=2.191, MI(Y;M)=0.999 | bin: MI(X;M)=2.514, MI(Y;M)=0.999\n",
      "- Layer 5 upper: MI(X;M)=1.000, MI(Y;M)=0.999 | bin: MI(X;M)=0.999, MI(Y;M)=0.999\n"
     ]
    }
   ],
   "source": [
    "#### This is an auxiliary dictionary to store the results for each epoch\n",
    "# Data structure used to store results\n",
    "measures = OrderedDict()\n",
    "measures['tanh'] = {}\n",
    "#measures['relu'] = {}\n",
    "PLOT_LAYERS    = None \n",
    "NUM_LABELS = 2\n",
    "\n",
    "\n",
    "#### Main loop: over epochs\n",
    "\n",
    "for epoch in range(0, len(training_info['data']), 20):\n",
    "#for epoch in range(0, 1):\n",
    "    \n",
    "    cepochdata = defaultdict(list) \n",
    "    \n",
    "    #training_info['data'][epoch]\n",
    "    \n",
    "    print('---- EPOCH %d' % epoch)\n",
    "    \n",
    "    \n",
    "    #####################################################################\n",
    "    num_layers = len(training_info['data'][epoch]['activity'])\n",
    "\n",
    "    if PLOT_LAYERS is None:\n",
    "        PLOT_LAYERS = []\n",
    "        for lndx in range(num_layers):\n",
    "            #if d['data']['activity_tst'][lndx].shape[1] < 200 and lndx != num_layers - 1:\n",
    "            PLOT_LAYERS.append(lndx)\n",
    "    #####################################################################\n",
    "    \n",
    "    for layer in range(len(training_info['data'][epoch]['activity'])):\n",
    "        \n",
    "        activity = training_info['data'][epoch]['activity'][layer] \n",
    "        \n",
    "        #print(epoch)\n",
    "        #print(layer)\n",
    "        #print(activity)\n",
    "        #break\n",
    "        \n",
    "        #### Compute marginal entropies\n",
    "        h_upper = entropy_func_upper([activity, ])[0]\n",
    "        if DO_LOWER: # Why computing lower bound would not be necessary?\n",
    "            h_lower = entropy_func_lower([activity, ])[0]\n",
    "            \n",
    "        #### Layer activity given input. This is simply the entropy of the Gaussian noise\n",
    "        hM_given_X = kde.kde_condentropy(activity, noise_variance)\n",
    "        \n",
    "        #### Compute conditional entropies of layer activity output\n",
    "        hM_given_Y_upper= 0.0\n",
    "        for i in range(NUM_LABELS):\n",
    "            hcond_upper = entropy_func_upper([activity[saved_labelixs[i],:],])[0]\n",
    "            hM_given_Y_upper += labelprobs[i] * hcond_upper\n",
    "            \n",
    "        if DO_LOWER:\n",
    "            hM_given_Y_lower=0.0\n",
    "            for i in range(NUM_LABELS):\n",
    "                hcond_lower = entropy_func_lower([activity[saved_labelixs[i],:],])[0]\n",
    "                hM_given_Y_lower += labelprobs[i] * hcond_lower\n",
    "                \n",
    "        cepochdata['MI_XM_upper'].append( nats2bits * (h_upper - hM_given_X) )\n",
    "        cepochdata['MI_YM_upper'].append( nats2bits * (h_upper - hM_given_Y_upper) )\n",
    "        cepochdata['H_M_upper'  ].append( nats2bits * h_upper )\n",
    "        pstr = 'upper: MI(X;M)=%0.3f, MI(Y;M)=%0.3f' % (cepochdata['MI_XM_upper'][-1], \n",
    "                                                        cepochdata['MI_YM_upper'][-1])\n",
    "        \n",
    "        #print(cepochdata)\n",
    "        \n",
    "        ### Compute lower bounds\n",
    "        if DO_LOWER: \n",
    "            cepochdata['MI_XM_lower'].append( nats2bits * (h_lower - hM_given_X) )\n",
    "            cepochdata['MI_YM_lower'].append( nats2bits * (h_lower - hM_given_Y_lower) )\n",
    "            cepochdata['H_M_lower'  ].append( nats2bits * h_lower )\n",
    "            pstr += ' | lower: MI(X;M)=%0.3f, MI(Y;M)=%0.3f' % (cepochdata['MI_XM_lower'][-1], \n",
    "                                                                cepochdata['MI_YM_lower'][-1])\n",
    "        ### Compute binned estimates\n",
    "        if DO_BINNED:\n",
    "            binxm, binym = simplebinmi.bin_calc_information2(saved_labelixs, activity, binsize)\n",
    "            cepochdata['MI_XM_bin'].append( nats2bits * binxm )\n",
    "            cepochdata['MI_YM_bin'].append( nats2bits * binym )\n",
    "            pstr += ' | bin: MI(X;M)=%0.3f, MI(Y;M)=%0.3f' % (cepochdata['MI_XM_bin'][-1], \n",
    "                                                              cepochdata['MI_YM_bin'][-1])\n",
    "            \n",
    "        print('- Layer %d %s' % (layer, pstr) )\n",
    "        \n",
    "    measures['tanh'][epoch] = cepochdata\n",
    "        "
   ]
  },
  {
   "cell_type": "code",
   "execution_count": 57,
   "metadata": {},
   "outputs": [],
   "source": [
    "DO_SAVE = False"
   ]
  },
  {
   "cell_type": "markdown",
   "metadata": {},
   "source": [
    "## Plot"
   ]
  },
  {
   "cell_type": "code",
   "execution_count": 59,
   "metadata": {},
   "outputs": [
    {
     "name": "stderr",
     "output_type": "stream",
     "text": [
      "/home/rodrigo/anaconda3/lib/python3.6/site-packages/matplotlib/figure.py:2022: UserWarning: This figure includes Axes that are not compatible with tight_layout, so results might be incorrect.\n",
      "  warnings.warn(\"This figure includes Axes that are not compatible \"\n"
     ]
    },
    {
     "data": {
      "image/png": "[encoded data removed]",
      "text/plain": [
       "<matplotlib.figure.Figure at 0x7f1d2472bc50>"
      ]
     },
     "metadata": {},
     "output_type": "display_data"
    }
   ],
   "source": [
    "COLORBAR_MAX_EPOCHS= 1200\n",
    "max_epoch = max( (max(vals.keys()) if len(vals) else 0) for vals in measures.values())\n",
    "sm = plt.cm.ScalarMappable(cmap='gnuplot', norm=plt.Normalize(vmin=0, vmax=COLORBAR_MAX_EPOCHS))\n",
    "sm._A = []\n",
    "\n",
    "fig=plt.figure(figsize=(10,5))\n",
    "for actndx, (activation, vals) in enumerate(measures.items()):\n",
    "    epochs = sorted(vals.keys())\n",
    "    \n",
    "    #print(vals)\n",
    "    \n",
    "    if not len(epochs):\n",
    "        continue\n",
    "    plt.subplot(1,2,actndx+1)    \n",
    "    for epoch in epochs:\n",
    "        c = sm.to_rgba(epoch)\n",
    "        xmvals = np.array(vals[epoch]['MI_XM_'+infoplane_measure])[PLOT_LAYERS]\n",
    "        ymvals = np.array(vals[epoch]['MI_YM_'+infoplane_measure])[PLOT_LAYERS]\n",
    "        \n",
    "       \n",
    "        plt.plot(xmvals, ymvals, c=c, alpha=0.1, zorder=1)\n",
    "        plt.scatter(xmvals, ymvals, s=20, facecolors=[c for _ in PLOT_LAYERS], edgecolor='none', zorder=2)\n",
    "\n",
    "    plt.ylim([0.55, 1])\n",
    "    plt.xlim([0, 12])\n",
    "#     plt.ylim([0, 3.5])\n",
    "#     plt.xlim([0, 14])\n",
    "    plt.xlabel('$I(X;T)$', fontsize= 15)\n",
    "    plt.ylabel('$I(Y;T)$', fontsize= 15)\n",
    "    plt.title(activation, fontsize= 20)\n",
    "    \n",
    "cbaxes = fig.add_axes([1.0, 0.125, 0.03, 0.8]) \n",
    "plt.colorbar(sm, label='Epoch', cax=cbaxes)\n",
    "plt.tight_layout()\n",
    "\n",
    "if DO_SAVE:\n",
    "    #plt.savefig('plots/' + DIR_TEMPLATE % ('infoplane_'+ARCH),bbox_inches='tight')\n",
    "    plt.savefig('plots/info_plane_no_mini_batch')"
   ]
  }
 ],
 "metadata": {
  "kernelspec": {
   "display_name": "Python 3",
   "language": "python",
   "name": "python3"
  },
  "language_info": {
   "codemirror_mode": {
    "name": "ipython",
    "version": 3
   },
   "file_extension": ".py",
   "mimetype": "text/x-python",
   "name": "python",
   "nbconvert_exporter": "python",
   "pygments_lexer": "ipython3",
   "version": "3.6.4"
  },
  "latex_envs": {
   "LaTeX_envs_menu_present": true,
   "autoclose": false,
   "autocomplete": true,
   "bibliofile": "biblio.bib",
   "cite_by": "apalike",
   "current_citInitial": 1,
   "eqLabelWithNumbers": true,
   "eqNumInitial": 1,
   "hotkeys": {
    "equation": "Ctrl-E",
    "itemize": "Ctrl-I"
   },
   "labels_anchors": false,
   "latex_user_defs": false,
   "report_style_numbering": false,
   "user_envs_cfg": false
  }
 },
 "nbformat": 4,
 "nbformat_minor": 2
}

{
 "cells": [
  {
   "cell_type": "markdown",
   "metadata": {},
   "source": [
    "# Computing Mutual Information"
   ]
  },
  {
   "cell_type": "code",
   "execution_count": 2,
   "metadata": {},
   "outputs": [],
   "source": [
    "import pickle\n",
    "import numpy as np\n",
    "%matplotlib inline\n",
    "import matplotlib.pyplot as plt\n",
    "import matplotlib.gridspec as gridspec\n",
    "import keras.backend as K\n",
    "from collections import defaultdict, OrderedDict\n",
    "import seaborn as sns\n",
    "sns.set_style('darkgrid')\n",
    "\n",
    "# Saxe imports\n",
    "import sys\n",
    "sys.path.insert(0, '../estimators')\n",
    "import utils\n",
    "import kde\n",
    "import simplebinmi"
   ]
  },
  {
   "cell_type": "code",
   "execution_count": 3,
   "metadata": {},
   "outputs": [],
   "source": [
    "def load_obj(name):\n",
    "    with open('../training_files/' + name + '.pkl', 'rb') as f:\n",
    "        return pickle.load(f)"
   ]
  },
  {
   "cell_type": "markdown",
   "metadata": {},
   "source": [
    "## Auxiliary functions for KDE estimator"
   ]
  },
  {
   "cell_type": "code",
   "execution_count": 4,
   "metadata": {},
   "outputs": [],
   "source": [
    "# Functions to return upper and lower bounds on entropy of layer activity\n",
    "noise_variance = 0.001                    # Added Gaussian noise variance\n",
    "binsize = 0.07                           # size of bins for binning method\n",
    "Klayer_activity = K.placeholder(ndim=2)  # Keras placeholder \n",
    "entropy_func_upper = K.function([Klayer_activity,], [kde.entropy_estimator_kl(Klayer_activity, noise_variance),])\n",
    "entropy_func_lower = K.function([Klayer_activity,], [kde.entropy_estimator_bd(Klayer_activity, noise_variance),])\n",
    "\n",
    "# nats to bits conversion factor\n",
    "nats2bits = 1.0/np.log(2) "
   ]
  },
  {
   "cell_type": "code",
   "execution_count": 5,
   "metadata": {},
   "outputs": [],
   "source": [
    "# Which measure to plot\n",
    "infoplane_measure = 'upper'\n",
    "# infoplane_measure = 'bin'\n",
    "\n",
    "DO_SAVE        = False    # Whether to save plots or just show them\n",
    "DO_LOWER       = (infoplane_measure == 'lower')   # Whether to compute lower bounds also\n",
    "DO_BINNED      = (infoplane_measure == 'bin')     # Whether to compute MI estimates based on binning"
   ]
  },
  {
   "cell_type": "code",
   "execution_count": 6,
   "metadata": {},
   "outputs": [],
   "source": [
    "DO_BINNED = True"
   ]
  },
  {
   "cell_type": "code",
   "execution_count": 7,
   "metadata": {},
   "outputs": [
    {
     "data": {
      "text/plain": [
       "False"
      ]
     },
     "execution_count": 7,
     "metadata": {},
     "output_type": "execute_result"
    }
   ],
   "source": [
    "DO_LOWER"
   ]
  },
  {
   "cell_type": "markdown",
   "metadata": {},
   "source": [
    "## Training information"
   ]
  },
  {
   "cell_type": "code",
   "execution_count": 8,
   "metadata": {},
   "outputs": [],
   "source": [
    "#training_info = load_obj('tishby_mini_batch')\n",
    "training_info = load_obj('tishby_mini_batch_new_try')"
   ]
  },
  {
   "cell_type": "code",
   "execution_count": 9,
   "metadata": {},
   "outputs": [
    {
     "data": {
      "text/plain": [
       "array([[-0.21686125,  0.16286549, -0.16903348, ...,  0.02131339,\n",
       "         0.06163784,  0.05900906],\n",
       "       [-0.19320351,  0.1165977 , -0.19917767, ...,  0.05320167,\n",
       "        -0.07941616,  0.10361613],\n",
       "       [-0.30958596, -0.01672176,  0.08271845, ...,  0.12356245,\n",
       "         0.10584626,  0.00662265],\n",
       "       ...,\n",
       "       [-0.16706693,  0.3029858 ,  0.2274496 , ...,  0.41721192,\n",
       "         0.24074507, -0.2660853 ],\n",
       "       [-0.18468481,  0.2189357 ,  0.37375546, ...,  0.47864327,\n",
       "         0.5341764 , -0.36429968],\n",
       "       [-0.3292049 ,  0.37856564,  0.19902642, ...,  0.4481321 ,\n",
       "         0.3561674 , -0.33015323]], dtype=float32)"
      ]
     },
     "execution_count": 9,
     "metadata": {},
     "output_type": "execute_result"
    }
   ],
   "source": [
    "training_info['data'][0]['activity'][0]"
   ]
  },
  {
   "cell_type": "code",
   "execution_count": 10,
   "metadata": {},
   "outputs": [
    {
     "data": {
      "text/plain": [
       "array([[-0.94725275,  0.9731736 , -0.0539842 , ...,  0.407846  ,\n",
       "         0.90685374,  0.8307307 ],\n",
       "       [-0.8522875 ,  0.90858585, -0.9961365 , ...,  0.66046345,\n",
       "         0.91537637,  0.04281834],\n",
       "       [-0.45675054,  0.7226585 ,  0.7633363 , ...,  0.56684756,\n",
       "        -0.5959687 ,  0.66242564],\n",
       "       ...,\n",
       "       [-0.93098235, -0.12161974,  0.2083056 , ...,  0.949827  ,\n",
       "         0.9958522 ,  0.5623652 ],\n",
       "       [-0.95239717,  0.28587717,  0.84963304, ...,  0.08682661,\n",
       "         0.96298057,  0.7592227 ],\n",
       "       [-0.6267033 ,  0.8022917 ,  0.7378756 , ..., -0.9452699 ,\n",
       "        -0.22112553, -0.331809  ]], dtype=float32)"
      ]
     },
     "execution_count": 10,
     "metadata": {},
     "output_type": "execute_result"
    }
   ],
   "source": [
    "training_info['data'][1199]['activity'][0]"
   ]
  },
  {
   "cell_type": "code",
   "execution_count": 11,
   "metadata": {},
   "outputs": [
    {
     "data": {
      "text/plain": [
       "array([[0.5000002 , 0.4999998 ],\n",
       "       [0.5000004 , 0.4999996 ],\n",
       "       [0.49999985, 0.5000002 ],\n",
       "       ...,\n",
       "       [0.488845  , 0.511155  ],\n",
       "       [0.4888267 , 0.51117325],\n",
       "       [0.4888397 , 0.5111603 ]], dtype=float32)"
      ]
     },
     "execution_count": 11,
     "metadata": {},
     "output_type": "execute_result"
    }
   ],
   "source": [
    "training_info['data'][0]['activity'][-1]"
   ]
  },
  {
   "cell_type": "code",
   "execution_count": 12,
   "metadata": {},
   "outputs": [
    {
     "data": {
      "text/plain": [
       "array([[9.6440663e-06, 9.9999034e-01],\n",
       "       [9.9998248e-01, 1.7526945e-05],\n",
       "       [9.9998271e-01, 1.7295484e-05],\n",
       "       ...,\n",
       "       [1.1638977e-05, 9.9998838e-01],\n",
       "       [1.9432131e-05, 9.9998057e-01],\n",
       "       [1.0940282e-05, 9.9998903e-01]], dtype=float32)"
      ]
     },
     "execution_count": 12,
     "metadata": {},
     "output_type": "execute_result"
    }
   ],
   "source": [
    "training_info['data'][1199]['activity'][-1]"
   ]
  },
  {
   "cell_type": "markdown",
   "metadata": {},
   "source": [
    "## Input data"
   ]
  },
  {
   "cell_type": "code",
   "execution_count": 13,
   "metadata": {},
   "outputs": [],
   "source": [
    "train, test = utils.get_IB_data('2017_12_21_16_51_3_275766')"
   ]
  },
  {
   "cell_type": "code",
   "execution_count": 14,
   "metadata": {},
   "outputs": [
    {
     "data": {
      "text/plain": [
       "array([[0, 0, 0, ..., 1, 1, 1],\n",
       "       [0, 1, 0, ..., 0, 0, 1],\n",
       "       [1, 1, 0, ..., 0, 1, 0],\n",
       "       ...,\n",
       "       [0, 1, 0, ..., 0, 0, 1],\n",
       "       [1, 0, 0, ..., 1, 1, 1],\n",
       "       [0, 0, 0, ..., 1, 1, 1]], dtype=uint8)"
      ]
     },
     "execution_count": 14,
     "metadata": {},
     "output_type": "execute_result"
    }
   ],
   "source": [
    "train.X"
   ]
  },
  {
   "cell_type": "code",
   "execution_count": 15,
   "metadata": {},
   "outputs": [
    {
     "data": {
      "text/plain": [
       "(3277, 12)"
      ]
     },
     "execution_count": 15,
     "metadata": {},
     "output_type": "execute_result"
    }
   ],
   "source": [
    "train.X.shape"
   ]
  },
  {
   "cell_type": "code",
   "execution_count": 16,
   "metadata": {},
   "outputs": [
    {
     "data": {
      "text/plain": [
       "array([[0., 1.],\n",
       "       [1., 0.],\n",
       "       [0., 1.],\n",
       "       ...,\n",
       "       [1., 0.],\n",
       "       [0., 1.],\n",
       "       [1., 0.]], dtype=float32)"
      ]
     },
     "execution_count": 16,
     "metadata": {},
     "output_type": "execute_result"
    }
   ],
   "source": [
    "train.Y"
   ]
  },
  {
   "cell_type": "code",
   "execution_count": 17,
   "metadata": {},
   "outputs": [
    {
     "data": {
      "text/plain": [
       "(3277, 2)"
      ]
     },
     "execution_count": 17,
     "metadata": {},
     "output_type": "execute_result"
    }
   ],
   "source": [
    "train.Y.shape"
   ]
  },
  {
   "cell_type": "code",
   "execution_count": 18,
   "metadata": {},
   "outputs": [
    {
     "data": {
      "text/plain": [
       "array([1, 0, 1, ..., 0, 1, 0], dtype=uint8)"
      ]
     },
     "execution_count": 18,
     "metadata": {},
     "output_type": "execute_result"
    }
   ],
   "source": [
    "train.y"
   ]
  },
  {
   "cell_type": "code",
   "execution_count": 19,
   "metadata": {},
   "outputs": [
    {
     "data": {
      "text/plain": [
       "(3277,)"
      ]
     },
     "execution_count": 19,
     "metadata": {},
     "output_type": "execute_result"
    }
   ],
   "source": [
    "train.y.shape"
   ]
  },
  {
   "cell_type": "markdown",
   "metadata": {},
   "source": [
    "### Label dictionary `saved_labelixs` "
   ]
  },
  {
   "cell_type": "code",
   "execution_count": 20,
   "metadata": {},
   "outputs": [],
   "source": [
    "# Save indexes of tests data for each of the output classes\n",
    "saved_labelixs = {}\n",
    "FULL_MI = False\n",
    "NUM_LABELS = 2\n",
    "\n",
    "y = train.y\n",
    "Y = train.Y\n",
    "\n",
    "#y = test.y\n",
    "#Y = test.Y\n",
    "\n",
    "if FULL_MI:\n",
    "    full = utils.construct_full_dataset(train,test)\n",
    "    y = full.y\n",
    "    Y = full.Y\n",
    "\n",
    "for i in range(NUM_LABELS):\n",
    "    saved_labelixs[i] = y == i\n",
    "\n",
    "labelprobs = np.mean(Y, axis=0)"
   ]
  },
  {
   "cell_type": "code",
   "execution_count": 21,
   "metadata": {},
   "outputs": [
    {
     "data": {
      "text/plain": [
       "array([0.48672566, 0.5132743 ], dtype=float32)"
      ]
     },
     "execution_count": 21,
     "metadata": {},
     "output_type": "execute_result"
    }
   ],
   "source": [
    "labelprobs"
   ]
  },
  {
   "cell_type": "markdown",
   "metadata": {},
   "source": [
    "## Computing MI"
   ]
  },
  {
   "cell_type": "code",
   "execution_count": 22,
   "metadata": {},
   "outputs": [
    {
     "data": {
      "text/plain": [
       "dict_keys(['epoch', 'loss', 'loss_gen', 'data'])"
      ]
     },
     "execution_count": 22,
     "metadata": {},
     "output_type": "execute_result"
    }
   ],
   "source": [
    "training_info.keys()"
   ]
  },
  {
   "cell_type": "code",
   "execution_count": 23,
   "metadata": {},
   "outputs": [
    {
     "data": {
      "text/plain": [
       "1200"
      ]
     },
     "execution_count": 23,
     "metadata": {},
     "output_type": "execute_result"
    }
   ],
   "source": [
    "len(training_info['data'])"
   ]
  },
  {
   "cell_type": "code",
   "execution_count": 24,
   "metadata": {},
   "outputs": [
    {
     "data": {
      "text/plain": [
       "1200"
      ]
     },
     "execution_count": 24,
     "metadata": {},
     "output_type": "execute_result"
    }
   ],
   "source": [
    "len(training_info['data'])"
   ]
  },
  {
   "cell_type": "code",
   "execution_count": 25,
   "metadata": {},
   "outputs": [
    {
     "data": {
      "text/plain": [
       "array([[9.6440663e-06, 9.9999034e-01],\n",
       "       [9.9998248e-01, 1.7526945e-05],\n",
       "       [9.9998271e-01, 1.7295484e-05],\n",
       "       ...,\n",
       "       [1.1638977e-05, 9.9998838e-01],\n",
       "       [1.9432131e-05, 9.9998057e-01],\n",
       "       [1.0940282e-05, 9.9998903e-01]], dtype=float32)"
      ]
     },
     "execution_count": 25,
     "metadata": {},
     "output_type": "execute_result"
    }
   ],
   "source": [
    "activity = training_info['data'][1199]['activity'][5]\n",
    "activity"
   ]
  },
  {
   "cell_type": "markdown",
   "metadata": {},
   "source": [
    "### Take a look to full batch and compare"
   ]
  },
  {
   "cell_type": "code",
   "execution_count": 48,
   "metadata": {},
   "outputs": [],
   "source": [
    "training_info_full = load_obj('tishby_epoch_8000_loss_019906')"
   ]
  },
  {
   "cell_type": "code",
   "execution_count": 50,
   "metadata": {},
   "outputs": [
    {
     "data": {
      "text/plain": [
       "array([[0.00944319, 0.99055684],\n",
       "       [0.5042464 , 0.49575353],\n",
       "       [0.07286023, 0.92713976],\n",
       "       ...,\n",
       "       [0.98710144, 0.01289854],\n",
       "       [0.0158016 , 0.9841984 ],\n",
       "       [0.98747414, 0.01252583]], dtype=float32)"
      ]
     },
     "execution_count": 50,
     "metadata": {},
     "output_type": "execute_result"
    }
   ],
   "source": [
    "activity_full = training_info_full['data'][7999]['activity'][5]\n",
    "activity_full"
   ]
  },
  {
   "cell_type": "code",
   "execution_count": 53,
   "metadata": {},
   "outputs": [
    {
     "name": "stdout",
     "output_type": "stream",
     "text": [
      "3277\n",
      "3277\n"
     ]
    }
   ],
   "source": [
    "print(len(activity))\n",
    "print(len(activity_full))"
   ]
  },
  {
   "cell_type": "code",
   "execution_count": 55,
   "metadata": {},
   "outputs": [
    {
     "data": {
      "text/plain": [
       "array([[0., 1.],\n",
       "       [1., 0.],\n",
       "       [0., 1.],\n",
       "       ...,\n",
       "       [0., 1.],\n",
       "       [1., 0.],\n",
       "       [0., 1.]], dtype=float32)"
      ]
     },
     "execution_count": 55,
     "metadata": {},
     "output_type": "execute_result"
    }
   ],
   "source": [
    "np.rint(activity)"
   ]
  },
  {
   "cell_type": "code",
   "execution_count": 59,
   "metadata": {},
   "outputs": [
    {
     "data": {
      "text/plain": [
       "array([1595., 1682.], dtype=float32)"
      ]
     },
     "execution_count": 59,
     "metadata": {},
     "output_type": "execute_result"
    }
   ],
   "source": [
    "np.sum(np.rint(activity), axis=0)"
   ]
  },
  {
   "cell_type": "code",
   "execution_count": 60,
   "metadata": {},
   "outputs": [
    {
     "data": {
      "text/plain": [
       "array([1565., 1712.], dtype=float32)"
      ]
     },
     "execution_count": 60,
     "metadata": {},
     "output_type": "execute_result"
    }
   ],
   "source": [
    "np.sum(np.rint(activity_full), axis=0)"
   ]
  },
  {
   "cell_type": "markdown",
   "metadata": {},
   "source": [
    "### Calculating for the last layer and last epoch"
   ]
  },
  {
   "cell_type": "code",
   "execution_count": 61,
   "metadata": {},
   "outputs": [
    {
     "data": {
      "text/plain": [
       "-3.3770828"
      ]
     },
     "execution_count": 61,
     "metadata": {},
     "output_type": "execute_result"
    }
   ],
   "source": [
    "h_upper = entropy_func_upper([activity, ])[0]\n",
    "h_upper"
   ]
  },
  {
   "cell_type": "code",
   "execution_count": 63,
   "metadata": {},
   "outputs": [
    {
     "data": {
      "text/plain": [
       "-1.9186409"
      ]
     },
     "execution_count": 63,
     "metadata": {},
     "output_type": "execute_result"
    }
   ],
   "source": [
    "h_upper = entropy_func_upper([activity_full, ])[0]\n",
    "h_upper"
   ]
  },
  {
   "cell_type": "code",
   "execution_count": 42,
   "metadata": {},
   "outputs": [
    {
     "name": "stdout",
     "output_type": "stream",
     "text": [
      "-3.3770614\n",
      "0.48672566\n",
      "[False  True False ...  True False  True]\n",
      "---------\n",
      "-3.3771057\n",
      "0.5132743\n",
      "[ True False  True ... False  True False]\n",
      "---------\n"
     ]
    }
   ],
   "source": [
    "hM_given_Y_upper= 0.0\n",
    "NUM_LABELS = 2\n",
    "for i in range(NUM_LABELS):\n",
    "    hcond_upper = entropy_func_upper([activity[saved_labelixs[i],:],])[0]\n",
    "    print(hcond_upper)\n",
    "    print(labelprobs[i])\n",
    "    print(saved_labelixs[i])\n",
    "    print('---------')\n",
    "    hM_given_Y_upper += labelprobs[i] * hcond_upper"
   ]
  },
  {
   "cell_type": "code",
   "execution_count": 64,
   "metadata": {},
   "outputs": [
    {
     "name": "stdout",
     "output_type": "stream",
     "text": [
      "-2.425697\n",
      "0.48672566\n",
      "[False  True False ...  True False  True]\n",
      "---------\n",
      "-2.436992\n",
      "0.5132743\n",
      "[ True False  True ... False  True False]\n",
      "---------\n"
     ]
    }
   ],
   "source": [
    "hM_given_Y_upper= 0.0\n",
    "NUM_LABELS = 2\n",
    "for i in range(NUM_LABELS):\n",
    "    hcond_upper = entropy_func_upper([activity_full[saved_labelixs[i],:],])[0]\n",
    "    print(hcond_upper)\n",
    "    print(labelprobs[i])\n",
    "    print(saved_labelixs[i])\n",
    "    print('---------')\n",
    "    hM_given_Y_upper += labelprobs[i] * hcond_upper"
   ]
  },
  {
   "cell_type": "code",
   "execution_count": 65,
   "metadata": {},
   "outputs": [
    {
     "data": {
      "text/plain": [
       "-2.431494355201721"
      ]
     },
     "execution_count": 65,
     "metadata": {},
     "output_type": "execute_result"
    }
   ],
   "source": [
    "hM_given_Y_upper"
   ]
  },
  {
   "cell_type": "code",
   "execution_count": 66,
   "metadata": {},
   "outputs": [
    {
     "data": {
      "text/plain": [
       "0.5128535032272339"
      ]
     },
     "execution_count": 66,
     "metadata": {},
     "output_type": "execute_result"
    }
   ],
   "source": [
    "h_upper - hM_given_Y_upper"
   ]
  },
  {
   "cell_type": "code",
   "execution_count": 26,
   "metadata": {},
   "outputs": [
    {
     "name": "stdout",
     "output_type": "stream",
     "text": [
      "---- EPOCH 0\n",
      "- Layer 0 upper: MI(X;M)=11.658, MI(Y;M)=0.991 | bin: MI(X;M)=11.677, MI(Y;M)=0.999\n",
      "- Layer 1 upper: MI(X;M)=2.621, MI(Y;M)=0.004 | bin: MI(X;M)=5.473, MI(Y;M)=0.034\n",
      "- Layer 2 upper: MI(X;M)=0.880, MI(Y;M)=0.000 | bin: MI(X;M)=1.692, MI(Y;M)=0.005\n",
      "- Layer 3 upper: MI(X;M)=0.592, MI(Y;M)=0.000 | bin: MI(X;M)=1.491, MI(Y;M)=0.005\n",
      "- Layer 4 upper: MI(X;M)=0.352, MI(Y;M)=0.000 | bin: MI(X;M)=1.903, MI(Y;M)=0.002\n",
      "- Layer 5 upper: MI(X;M)=0.062, MI(Y;M)=0.000 | bin: MI(X;M)=0.958, MI(Y;M)=0.000\n",
      "---- EPOCH 20\n",
      "- Layer 0 upper: MI(X;M)=11.672, MI(Y;M)=0.996 | bin: MI(X;M)=11.676, MI(Y;M)=0.998\n",
      "- Layer 1 upper: MI(X;M)=5.009, MI(Y;M)=0.014 | bin: MI(X;M)=6.403, MI(Y;M)=0.077\n",
      "- Layer 2 upper: MI(X;M)=4.703, MI(Y;M)=0.010 | bin: MI(X;M)=5.442, MI(Y;M)=0.025\n",
      "- Layer 3 upper: MI(X;M)=4.677, MI(Y;M)=0.009 | bin: MI(X;M)=4.984, MI(Y;M)=0.020\n",
      "- Layer 4 upper: MI(X;M)=4.777, MI(Y;M)=0.011 | bin: MI(X;M)=4.946, MI(Y;M)=0.015\n",
      "- Layer 5 upper: MI(X;M)=3.224, MI(Y;M)=0.005 | bin: MI(X;M)=3.771, MI(Y;M)=0.006\n",
      "---- EPOCH 40\n",
      "- Layer 0 upper: MI(X;M)=11.678, MI(Y;M)=0.999 | bin: MI(X;M)=11.678, MI(Y;M)=0.999\n",
      "- Layer 1 upper: MI(X;M)=5.586, MI(Y;M)=0.022 | bin: MI(X;M)=7.093, MI(Y;M)=0.102\n",
      "- Layer 2 upper: MI(X;M)=4.459, MI(Y;M)=0.008 | bin: MI(X;M)=5.140, MI(Y;M)=0.027\n",
      "- Layer 3 upper: MI(X;M)=4.378, MI(Y;M)=0.008 | bin: MI(X;M)=4.819, MI(Y;M)=0.015\n",
      "- Layer 4 upper: MI(X;M)=4.688, MI(Y;M)=0.009 | bin: MI(X;M)=4.945, MI(Y;M)=0.015\n",
      "- Layer 5 upper: MI(X;M)=3.163, MI(Y;M)=0.003 | bin: MI(X;M)=3.683, MI(Y;M)=0.004\n",
      "---- EPOCH 60\n",
      "- Layer 0 upper: MI(X;M)=11.678, MI(Y;M)=0.999 | bin: MI(X;M)=11.678, MI(Y;M)=0.999\n",
      "- Layer 1 upper: MI(X;M)=7.226, MI(Y;M)=0.078 | bin: MI(X;M)=8.674, MI(Y;M)=0.224\n",
      "- Layer 2 upper: MI(X;M)=4.679, MI(Y;M)=0.010 | bin: MI(X;M)=5.365, MI(Y;M)=0.029\n",
      "- Layer 3 upper: MI(X;M)=4.633, MI(Y;M)=0.008 | bin: MI(X;M)=5.065, MI(Y;M)=0.019\n",
      "- Layer 4 upper: MI(X;M)=5.066, MI(Y;M)=0.009 | bin: MI(X;M)=5.355, MI(Y;M)=0.013\n",
      "- Layer 5 upper: MI(X;M)=3.325, MI(Y;M)=0.004 | bin: MI(X;M)=3.791, MI(Y;M)=0.005\n",
      "---- EPOCH 80\n",
      "- Layer 0 upper: MI(X;M)=11.678, MI(Y;M)=0.999 | bin: MI(X;M)=11.678, MI(Y;M)=0.999\n",
      "- Layer 1 upper: MI(X;M)=8.774, MI(Y;M)=0.232 | bin: MI(X;M)=9.871, MI(Y;M)=0.436\n",
      "- Layer 2 upper: MI(X;M)=4.719, MI(Y;M)=0.011 | bin: MI(X;M)=5.421, MI(Y;M)=0.031\n",
      "- Layer 3 upper: MI(X;M)=4.668, MI(Y;M)=0.010 | bin: MI(X;M)=5.035, MI(Y;M)=0.017\n",
      "- Layer 4 upper: MI(X;M)=5.130, MI(Y;M)=0.013 | bin: MI(X;M)=5.415, MI(Y;M)=0.017\n",
      "- Layer 5 upper: MI(X;M)=3.267, MI(Y;M)=0.005 | bin: MI(X;M)=3.729, MI(Y;M)=0.005\n",
      "---- EPOCH 100\n",
      "- Layer 0 upper: MI(X;M)=11.678, MI(Y;M)=0.999 | bin: MI(X;M)=11.678, MI(Y;M)=0.999\n",
      "- Layer 1 upper: MI(X;M)=9.699, MI(Y;M)=0.403 | bin: MI(X;M)=10.541, MI(Y;M)=0.602\n",
      "- Layer 2 upper: MI(X;M)=4.839, MI(Y;M)=0.009 | bin: MI(X;M)=5.741, MI(Y;M)=0.031\n",
      "- Layer 3 upper: MI(X;M)=4.779, MI(Y;M)=0.007 | bin: MI(X;M)=5.059, MI(Y;M)=0.011\n",
      "- Layer 4 upper: MI(X;M)=5.205, MI(Y;M)=0.007 | bin: MI(X;M)=5.488, MI(Y;M)=0.011\n",
      "- Layer 5 upper: MI(X;M)=3.167, MI(Y;M)=0.004 | bin: MI(X;M)=3.594, MI(Y;M)=0.009\n",
      "---- EPOCH 120\n",
      "- Layer 0 upper: MI(X;M)=11.678, MI(Y;M)=0.999 | bin: MI(X;M)=11.678, MI(Y;M)=0.999\n",
      "- Layer 1 upper: MI(X;M)=9.775, MI(Y;M)=0.421 | bin: MI(X;M)=10.513, MI(Y;M)=0.604\n",
      "- Layer 2 upper: MI(X;M)=4.839, MI(Y;M)=0.008 | bin: MI(X;M)=5.819, MI(Y;M)=0.027\n",
      "- Layer 3 upper: MI(X;M)=4.804, MI(Y;M)=0.007 | bin: MI(X;M)=5.069, MI(Y;M)=0.016\n",
      "- Layer 4 upper: MI(X;M)=5.225, MI(Y;M)=0.008 | bin: MI(X;M)=5.500, MI(Y;M)=0.014\n",
      "- Layer 5 upper: MI(X;M)=3.038, MI(Y;M)=0.004 | bin: MI(X;M)=3.424, MI(Y;M)=0.005\n",
      "---- EPOCH 140\n",
      "- Layer 0 upper: MI(X;M)=11.678, MI(Y;M)=0.999 | bin: MI(X;M)=11.678, MI(Y;M)=0.999\n",
      "- Layer 1 upper: MI(X;M)=9.956, MI(Y;M)=0.456 | bin: MI(X;M)=10.655, MI(Y;M)=0.646\n",
      "- Layer 2 upper: MI(X;M)=4.920, MI(Y;M)=0.012 | bin: MI(X;M)=5.954, MI(Y;M)=0.034\n",
      "- Layer 3 upper: MI(X;M)=4.845, MI(Y;M)=0.010 | bin: MI(X;M)=5.062, MI(Y;M)=0.015\n",
      "- Layer 4 upper: MI(X;M)=5.201, MI(Y;M)=0.011 | bin: MI(X;M)=5.504, MI(Y;M)=0.018\n",
      "- Layer 5 upper: MI(X;M)=3.017, MI(Y;M)=0.005 | bin: MI(X;M)=3.417, MI(Y;M)=0.008\n",
      "---- EPOCH 160\n",
      "- Layer 0 upper: MI(X;M)=11.677, MI(Y;M)=0.999 | bin: MI(X;M)=11.678, MI(Y;M)=0.999\n",
      "- Layer 1 upper: MI(X;M)=10.151, MI(Y;M)=0.501 | bin: MI(X;M)=10.796, MI(Y;M)=0.668\n",
      "- Layer 2 upper: MI(X;M)=4.932, MI(Y;M)=0.014 | bin: MI(X;M)=6.012, MI(Y;M)=0.042\n",
      "- Layer 3 upper: MI(X;M)=4.859, MI(Y;M)=0.012 | bin: MI(X;M)=5.007, MI(Y;M)=0.021\n",
      "- Layer 4 upper: MI(X;M)=5.206, MI(Y;M)=0.010 | bin: MI(X;M)=5.511, MI(Y;M)=0.017\n",
      "- Layer 5 upper: MI(X;M)=2.907, MI(Y;M)=0.005 | bin: MI(X;M)=3.277, MI(Y;M)=0.008\n",
      "---- EPOCH 180\n",
      "- Layer 0 upper: MI(X;M)=11.678, MI(Y;M)=0.999 | bin: MI(X;M)=11.678, MI(Y;M)=0.999\n",
      "- Layer 1 upper: MI(X;M)=10.895, MI(Y;M)=0.700 | bin: MI(X;M)=11.290, MI(Y;M)=0.824\n",
      "- Layer 2 upper: MI(X;M)=5.091, MI(Y;M)=0.015 | bin: MI(X;M)=6.310, MI(Y;M)=0.039\n",
      "- Layer 3 upper: MI(X;M)=4.926, MI(Y;M)=0.011 | bin: MI(X;M)=4.973, MI(Y;M)=0.017\n",
      "- Layer 4 upper: MI(X;M)=5.231, MI(Y;M)=0.014 | bin: MI(X;M)=5.553, MI(Y;M)=0.019\n",
      "- Layer 5 upper: MI(X;M)=2.779, MI(Y;M)=0.008 | bin: MI(X;M)=3.108, MI(Y;M)=0.009\n",
      "---- EPOCH 200\n",
      "- Layer 0 upper: MI(X;M)=11.677, MI(Y;M)=0.999 | bin: MI(X;M)=11.678, MI(Y;M)=0.999\n",
      "- Layer 1 upper: MI(X;M)=11.073, MI(Y;M)=0.747 | bin: MI(X;M)=11.405, MI(Y;M)=0.875\n",
      "- Layer 2 upper: MI(X;M)=5.321, MI(Y;M)=0.015 | bin: MI(X;M)=6.478, MI(Y;M)=0.038\n",
      "- Layer 3 upper: MI(X;M)=4.952, MI(Y;M)=0.009 | bin: MI(X;M)=4.965, MI(Y;M)=0.021\n",
      "- Layer 4 upper: MI(X;M)=5.229, MI(Y;M)=0.010 | bin: MI(X;M)=5.521, MI(Y;M)=0.016\n",
      "- Layer 5 upper: MI(X;M)=2.733, MI(Y;M)=0.004 | bin: MI(X;M)=3.040, MI(Y;M)=0.008\n",
      "---- EPOCH 220\n",
      "- Layer 0 upper: MI(X;M)=11.678, MI(Y;M)=0.999 | bin: MI(X;M)=11.678, MI(Y;M)=0.999\n",
      "- Layer 1 upper: MI(X;M)=11.390, MI(Y;M)=0.875 | bin: MI(X;M)=11.564, MI(Y;M)=0.945\n",
      "- Layer 2 upper: MI(X;M)=5.593, MI(Y;M)=0.022 | bin: MI(X;M)=6.681, MI(Y;M)=0.057\n",
      "- Layer 3 upper: MI(X;M)=5.022, MI(Y;M)=0.012 | bin: MI(X;M)=5.050, MI(Y;M)=0.024\n",
      "- Layer 4 upper: MI(X;M)=5.192, MI(Y;M)=0.011 | bin: MI(X;M)=5.465, MI(Y;M)=0.019\n",
      "- Layer 5 upper: MI(X;M)=2.773, MI(Y;M)=0.004 | bin: MI(X;M)=3.094, MI(Y;M)=0.005\n",
      "---- EPOCH 240\n",
      "- Layer 0 upper: MI(X;M)=11.678, MI(Y;M)=0.999 | bin: MI(X;M)=11.678, MI(Y;M)=0.999\n",
      "- Layer 1 upper: MI(X;M)=11.523, MI(Y;M)=0.930 | bin: MI(X;M)=11.624, MI(Y;M)=0.980\n",
      "- Layer 2 upper: MI(X;M)=5.765, MI(Y;M)=0.021 | bin: MI(X;M)=6.950, MI(Y;M)=0.055\n",
      "- Layer 3 upper: MI(X;M)=5.092, MI(Y;M)=0.008 | bin: MI(X;M)=5.073, MI(Y;M)=0.021\n",
      "- Layer 4 upper: MI(X;M)=5.250, MI(Y;M)=0.009 | bin: MI(X;M)=5.544, MI(Y;M)=0.016\n",
      "- Layer 5 upper: MI(X;M)=2.564, MI(Y;M)=0.005 | bin: MI(X;M)=2.839, MI(Y;M)=0.006\n",
      "---- EPOCH 260\n",
      "- Layer 0 upper: MI(X;M)=11.678, MI(Y;M)=0.999 | bin: MI(X;M)=11.678, MI(Y;M)=0.999\n",
      "- Layer 1 upper: MI(X;M)=11.529, MI(Y;M)=0.928 | bin: MI(X;M)=11.608, MI(Y;M)=0.962\n",
      "- Layer 2 upper: MI(X;M)=5.852, MI(Y;M)=0.025 | bin: MI(X;M)=7.032, MI(Y;M)=0.061\n",
      "- Layer 3 upper: MI(X;M)=5.122, MI(Y;M)=0.011 | bin: MI(X;M)=5.004, MI(Y;M)=0.018\n",
      "- Layer 4 upper: MI(X;M)=5.248, MI(Y;M)=0.010 | bin: MI(X;M)=5.520, MI(Y;M)=0.017\n",
      "- Layer 5 upper: MI(X;M)=2.496, MI(Y;M)=0.005 | bin: MI(X;M)=2.780, MI(Y;M)=0.006\n",
      "---- EPOCH 280\n",
      "- Layer 0 upper: MI(X;M)=11.678, MI(Y;M)=0.999 | bin: MI(X;M)=11.678, MI(Y;M)=0.999\n",
      "- Layer 1 upper: MI(X;M)=11.547, MI(Y;M)=0.938 | bin: MI(X;M)=11.622, MI(Y;M)=0.975\n",
      "- Layer 2 upper: MI(X;M)=5.984, MI(Y;M)=0.024 | bin: MI(X;M)=7.105, MI(Y;M)=0.055\n",
      "- Layer 3 upper: MI(X;M)=5.188, MI(Y;M)=0.009 | bin: MI(X;M)=5.060, MI(Y;M)=0.020\n",
      "- Layer 4 upper: MI(X;M)=5.241, MI(Y;M)=0.009 | bin: MI(X;M)=5.518, MI(Y;M)=0.015\n",
      "- Layer 5 upper: MI(X;M)=2.429, MI(Y;M)=0.005 | bin: MI(X;M)=2.690, MI(Y;M)=0.007\n",
      "---- EPOCH 300\n",
      "- Layer 0 upper: MI(X;M)=11.678, MI(Y;M)=0.999 | bin: MI(X;M)=11.678, MI(Y;M)=0.999\n",
      "- Layer 1 upper: MI(X;M)=11.572, MI(Y;M)=0.951 | bin: MI(X;M)=11.637, MI(Y;M)=0.980\n",
      "- Layer 2 upper: MI(X;M)=6.197, MI(Y;M)=0.025 | bin: MI(X;M)=7.285, MI(Y;M)=0.077\n",
      "- Layer 3 upper: MI(X;M)=5.321, MI(Y;M)=0.010 | bin: MI(X;M)=5.186, MI(Y;M)=0.026\n",
      "- Layer 4 upper: MI(X;M)=5.202, MI(Y;M)=0.010 | bin: MI(X;M)=5.374, MI(Y;M)=0.019\n",
      "- Layer 5 upper: MI(X;M)=2.199, MI(Y;M)=0.005 | bin: MI(X;M)=2.434, MI(Y;M)=0.006\n",
      "---- EPOCH 320\n",
      "- Layer 0 upper: MI(X;M)=11.678, MI(Y;M)=0.999 | bin: MI(X;M)=11.678, MI(Y;M)=0.999\n",
      "- Layer 1 upper: MI(X;M)=11.574, MI(Y;M)=0.949 | bin: MI(X;M)=11.626, MI(Y;M)=0.973\n",
      "- Layer 2 upper: MI(X;M)=6.281, MI(Y;M)=0.032 | bin: MI(X;M)=7.390, MI(Y;M)=0.074\n"
     ]
    },
    {
     "name": "stdout",
     "output_type": "stream",
     "text": [
      "- Layer 3 upper: MI(X;M)=5.383, MI(Y;M)=0.014 | bin: MI(X;M)=5.297, MI(Y;M)=0.029\n",
      "- Layer 4 upper: MI(X;M)=5.120, MI(Y;M)=0.013 | bin: MI(X;M)=5.238, MI(Y;M)=0.016\n",
      "- Layer 5 upper: MI(X;M)=2.029, MI(Y;M)=0.003 | bin: MI(X;M)=2.259, MI(Y;M)=0.003\n",
      "---- EPOCH 340\n",
      "- Layer 0 upper: MI(X;M)=11.678, MI(Y;M)=0.999 | bin: MI(X;M)=11.678, MI(Y;M)=0.999\n",
      "- Layer 1 upper: MI(X;M)=11.590, MI(Y;M)=0.953 | bin: MI(X;M)=11.637, MI(Y;M)=0.979\n",
      "- Layer 2 upper: MI(X;M)=6.336, MI(Y;M)=0.027 | bin: MI(X;M)=7.438, MI(Y;M)=0.072\n",
      "- Layer 3 upper: MI(X;M)=5.425, MI(Y;M)=0.012 | bin: MI(X;M)=5.401, MI(Y;M)=0.022\n",
      "- Layer 4 upper: MI(X;M)=5.064, MI(Y;M)=0.011 | bin: MI(X;M)=5.215, MI(Y;M)=0.020\n",
      "- Layer 5 upper: MI(X;M)=1.988, MI(Y;M)=0.006 | bin: MI(X;M)=2.206, MI(Y;M)=0.009\n",
      "---- EPOCH 360\n",
      "- Layer 0 upper: MI(X;M)=11.678, MI(Y;M)=0.999 | bin: MI(X;M)=11.678, MI(Y;M)=0.999\n",
      "- Layer 1 upper: MI(X;M)=11.601, MI(Y;M)=0.963 | bin: MI(X;M)=11.653, MI(Y;M)=0.985\n",
      "- Layer 2 upper: MI(X;M)=6.367, MI(Y;M)=0.031 | bin: MI(X;M)=7.443, MI(Y;M)=0.080\n",
      "- Layer 3 upper: MI(X;M)=5.424, MI(Y;M)=0.014 | bin: MI(X;M)=5.346, MI(Y;M)=0.029\n",
      "- Layer 4 upper: MI(X;M)=5.068, MI(Y;M)=0.014 | bin: MI(X;M)=5.257, MI(Y;M)=0.017\n",
      "- Layer 5 upper: MI(X;M)=2.100, MI(Y;M)=0.004 | bin: MI(X;M)=2.319, MI(Y;M)=0.003\n",
      "---- EPOCH 380\n",
      "- Layer 0 upper: MI(X;M)=11.678, MI(Y;M)=0.999 | bin: MI(X;M)=11.678, MI(Y;M)=0.999\n",
      "- Layer 1 upper: MI(X;M)=11.607, MI(Y;M)=0.965 | bin: MI(X;M)=11.645, MI(Y;M)=0.983\n",
      "- Layer 2 upper: MI(X;M)=6.399, MI(Y;M)=0.031 | bin: MI(X;M)=7.452, MI(Y;M)=0.073\n",
      "- Layer 3 upper: MI(X;M)=5.456, MI(Y;M)=0.012 | bin: MI(X;M)=5.400, MI(Y;M)=0.025\n",
      "- Layer 4 upper: MI(X;M)=4.939, MI(Y;M)=0.012 | bin: MI(X;M)=5.056, MI(Y;M)=0.018\n",
      "- Layer 5 upper: MI(X;M)=1.896, MI(Y;M)=0.005 | bin: MI(X;M)=2.081, MI(Y;M)=0.008\n",
      "---- EPOCH 400\n",
      "- Layer 0 upper: MI(X;M)=11.678, MI(Y;M)=0.999 | bin: MI(X;M)=11.678, MI(Y;M)=0.999\n",
      "- Layer 1 upper: MI(X;M)=11.613, MI(Y;M)=0.970 | bin: MI(X;M)=11.659, MI(Y;M)=0.991\n",
      "- Layer 2 upper: MI(X;M)=6.425, MI(Y;M)=0.027 | bin: MI(X;M)=7.474, MI(Y;M)=0.078\n",
      "- Layer 3 upper: MI(X;M)=5.448, MI(Y;M)=0.012 | bin: MI(X;M)=5.429, MI(Y;M)=0.025\n",
      "- Layer 4 upper: MI(X;M)=4.926, MI(Y;M)=0.011 | bin: MI(X;M)=5.091, MI(Y;M)=0.014\n",
      "- Layer 5 upper: MI(X;M)=1.926, MI(Y;M)=0.003 | bin: MI(X;M)=2.126, MI(Y;M)=0.008\n",
      "---- EPOCH 420\n",
      "- Layer 0 upper: MI(X;M)=11.678, MI(Y;M)=0.999 | bin: MI(X;M)=11.678, MI(Y;M)=0.999\n",
      "- Layer 1 upper: MI(X;M)=11.618, MI(Y;M)=0.968 | bin: MI(X;M)=11.658, MI(Y;M)=0.989\n",
      "- Layer 2 upper: MI(X;M)=6.442, MI(Y;M)=0.030 | bin: MI(X;M)=7.423, MI(Y;M)=0.076\n",
      "- Layer 3 upper: MI(X;M)=5.451, MI(Y;M)=0.011 | bin: MI(X;M)=5.481, MI(Y;M)=0.023\n",
      "- Layer 4 upper: MI(X;M)=4.870, MI(Y;M)=0.011 | bin: MI(X;M)=4.994, MI(Y;M)=0.012\n",
      "- Layer 5 upper: MI(X;M)=1.862, MI(Y;M)=0.007 | bin: MI(X;M)=2.033, MI(Y;M)=0.007\n",
      "---- EPOCH 440\n",
      "- Layer 0 upper: MI(X;M)=11.678, MI(Y;M)=0.999 | bin: MI(X;M)=11.678, MI(Y;M)=0.999\n",
      "- Layer 1 upper: MI(X;M)=11.621, MI(Y;M)=0.971 | bin: MI(X;M)=11.657, MI(Y;M)=0.987\n",
      "- Layer 2 upper: MI(X;M)=6.454, MI(Y;M)=0.026 | bin: MI(X;M)=7.411, MI(Y;M)=0.080\n",
      "- Layer 3 upper: MI(X;M)=5.443, MI(Y;M)=0.010 | bin: MI(X;M)=5.455, MI(Y;M)=0.022\n",
      "- Layer 4 upper: MI(X;M)=4.770, MI(Y;M)=0.010 | bin: MI(X;M)=4.962, MI(Y;M)=0.019\n",
      "- Layer 5 upper: MI(X;M)=1.778, MI(Y;M)=0.004 | bin: MI(X;M)=1.936, MI(Y;M)=0.007\n",
      "---- EPOCH 460\n",
      "- Layer 0 upper: MI(X;M)=11.678, MI(Y;M)=0.999 | bin: MI(X;M)=11.678, MI(Y;M)=0.999\n",
      "- Layer 1 upper: MI(X;M)=11.626, MI(Y;M)=0.973 | bin: MI(X;M)=11.661, MI(Y;M)=0.990\n",
      "- Layer 2 upper: MI(X;M)=6.483, MI(Y;M)=0.029 | bin: MI(X;M)=7.390, MI(Y;M)=0.085\n",
      "- Layer 3 upper: MI(X;M)=5.433, MI(Y;M)=0.011 | bin: MI(X;M)=5.514, MI(Y;M)=0.025\n",
      "- Layer 4 upper: MI(X;M)=4.822, MI(Y;M)=0.012 | bin: MI(X;M)=4.999, MI(Y;M)=0.020\n",
      "- Layer 5 upper: MI(X;M)=1.872, MI(Y;M)=0.005 | bin: MI(X;M)=2.048, MI(Y;M)=0.006\n",
      "---- EPOCH 480\n",
      "- Layer 0 upper: MI(X;M)=11.678, MI(Y;M)=0.999 | bin: MI(X;M)=11.678, MI(Y;M)=0.999\n",
      "- Layer 1 upper: MI(X;M)=11.630, MI(Y;M)=0.975 | bin: MI(X;M)=11.661, MI(Y;M)=0.989\n",
      "- Layer 2 upper: MI(X;M)=6.471, MI(Y;M)=0.034 | bin: MI(X;M)=7.409, MI(Y;M)=0.099\n",
      "- Layer 3 upper: MI(X;M)=5.414, MI(Y;M)=0.014 | bin: MI(X;M)=5.455, MI(Y;M)=0.028\n",
      "- Layer 4 upper: MI(X;M)=4.757, MI(Y;M)=0.013 | bin: MI(X;M)=4.898, MI(Y;M)=0.015\n",
      "- Layer 5 upper: MI(X;M)=1.787, MI(Y;M)=0.005 | bin: MI(X;M)=1.956, MI(Y;M)=0.007\n",
      "---- EPOCH 500\n",
      "- Layer 0 upper: MI(X;M)=11.678, MI(Y;M)=0.999 | bin: MI(X;M)=11.678, MI(Y;M)=0.999\n",
      "- Layer 1 upper: MI(X;M)=11.630, MI(Y;M)=0.977 | bin: MI(X;M)=11.660, MI(Y;M)=0.989\n",
      "- Layer 2 upper: MI(X;M)=6.481, MI(Y;M)=0.029 | bin: MI(X;M)=7.400, MI(Y;M)=0.089\n",
      "- Layer 3 upper: MI(X;M)=5.396, MI(Y;M)=0.009 | bin: MI(X;M)=5.452, MI(Y;M)=0.021\n",
      "- Layer 4 upper: MI(X;M)=4.653, MI(Y;M)=0.008 | bin: MI(X;M)=4.780, MI(Y;M)=0.015\n",
      "- Layer 5 upper: MI(X;M)=1.761, MI(Y;M)=0.004 | bin: MI(X;M)=1.914, MI(Y;M)=0.007\n",
      "---- EPOCH 520\n",
      "- Layer 0 upper: MI(X;M)=11.678, MI(Y;M)=0.999 | bin: MI(X;M)=11.678, MI(Y;M)=0.999\n",
      "- Layer 1 upper: MI(X;M)=11.629, MI(Y;M)=0.975 | bin: MI(X;M)=11.663, MI(Y;M)=0.991\n",
      "- Layer 2 upper: MI(X;M)=6.479, MI(Y;M)=0.031 | bin: MI(X;M)=7.411, MI(Y;M)=0.093\n",
      "- Layer 3 upper: MI(X;M)=5.388, MI(Y;M)=0.012 | bin: MI(X;M)=5.413, MI(Y;M)=0.025\n",
      "- Layer 4 upper: MI(X;M)=4.640, MI(Y;M)=0.011 | bin: MI(X;M)=4.753, MI(Y;M)=0.017\n",
      "- Layer 5 upper: MI(X;M)=1.769, MI(Y;M)=0.004 | bin: MI(X;M)=1.932, MI(Y;M)=0.005\n",
      "---- EPOCH 540\n",
      "- Layer 0 upper: MI(X;M)=11.678, MI(Y;M)=0.999 | bin: MI(X;M)=11.678, MI(Y;M)=0.999\n",
      "- Layer 1 upper: MI(X;M)=11.628, MI(Y;M)=0.974 | bin: MI(X;M)=11.656, MI(Y;M)=0.989\n",
      "- Layer 2 upper: MI(X;M)=6.473, MI(Y;M)=0.032 | bin: MI(X;M)=7.329, MI(Y;M)=0.094\n",
      "- Layer 3 upper: MI(X;M)=5.373, MI(Y;M)=0.012 | bin: MI(X;M)=5.447, MI(Y;M)=0.027\n",
      "- Layer 4 upper: MI(X;M)=4.667, MI(Y;M)=0.010 | bin: MI(X;M)=4.903, MI(Y;M)=0.015\n",
      "- Layer 5 upper: MI(X;M)=1.801, MI(Y;M)=0.004 | bin: MI(X;M)=1.970, MI(Y;M)=0.005\n",
      "---- EPOCH 560\n",
      "- Layer 0 upper: MI(X;M)=11.678, MI(Y;M)=0.999 | bin: MI(X;M)=11.678, MI(Y;M)=0.999\n",
      "- Layer 1 upper: MI(X;M)=11.632, MI(Y;M)=0.979 | bin: MI(X;M)=11.658, MI(Y;M)=0.993\n",
      "- Layer 2 upper: MI(X;M)=6.478, MI(Y;M)=0.034 | bin: MI(X;M)=7.400, MI(Y;M)=0.085\n",
      "- Layer 3 upper: MI(X;M)=5.341, MI(Y;M)=0.014 | bin: MI(X;M)=5.374, MI(Y;M)=0.024\n",
      "- Layer 4 upper: MI(X;M)=4.492, MI(Y;M)=0.011 | bin: MI(X;M)=4.688, MI(Y;M)=0.023\n",
      "- Layer 5 upper: MI(X;M)=1.689, MI(Y;M)=0.004 | bin: MI(X;M)=1.841, MI(Y;M)=0.005\n",
      "---- EPOCH 580\n",
      "- Layer 0 upper: MI(X;M)=11.678, MI(Y;M)=0.999 | bin: MI(X;M)=11.678, MI(Y;M)=0.999\n",
      "- Layer 1 upper: MI(X;M)=11.631, MI(Y;M)=0.977 | bin: MI(X;M)=11.655, MI(Y;M)=0.988\n",
      "- Layer 2 upper: MI(X;M)=6.480, MI(Y;M)=0.034 | bin: MI(X;M)=7.364, MI(Y;M)=0.097\n",
      "- Layer 3 upper: MI(X;M)=5.338, MI(Y;M)=0.015 | bin: MI(X;M)=5.364, MI(Y;M)=0.031\n",
      "- Layer 4 upper: MI(X;M)=4.520, MI(Y;M)=0.012 | bin: MI(X;M)=4.658, MI(Y;M)=0.020\n",
      "- Layer 5 upper: MI(X;M)=1.711, MI(Y;M)=0.005 | bin: MI(X;M)=1.858, MI(Y;M)=0.006\n",
      "---- EPOCH 600\n",
      "- Layer 0 upper: MI(X;M)=11.678, MI(Y;M)=0.999 | bin: MI(X;M)=11.678, MI(Y;M)=0.999\n",
      "- Layer 1 upper: MI(X;M)=11.629, MI(Y;M)=0.974 | bin: MI(X;M)=11.657, MI(Y;M)=0.989\n",
      "- Layer 2 upper: MI(X;M)=6.478, MI(Y;M)=0.035 | bin: MI(X;M)=7.351, MI(Y;M)=0.097\n",
      "- Layer 3 upper: MI(X;M)=5.319, MI(Y;M)=0.010 | bin: MI(X;M)=5.334, MI(Y;M)=0.025\n",
      "- Layer 4 upper: MI(X;M)=4.451, MI(Y;M)=0.010 | bin: MI(X;M)=4.608, MI(Y;M)=0.021\n",
      "- Layer 5 upper: MI(X;M)=1.675, MI(Y;M)=0.005 | bin: MI(X;M)=1.814, MI(Y;M)=0.009\n",
      "---- EPOCH 620\n",
      "- Layer 0 upper: MI(X;M)=11.678, MI(Y;M)=0.999 | bin: MI(X;M)=11.678, MI(Y;M)=0.999\n",
      "- Layer 1 upper: MI(X;M)=11.629, MI(Y;M)=0.976 | bin: MI(X;M)=11.661, MI(Y;M)=0.991\n",
      "- Layer 2 upper: MI(X;M)=6.481, MI(Y;M)=0.036 | bin: MI(X;M)=7.410, MI(Y;M)=0.101\n",
      "- Layer 3 upper: MI(X;M)=5.276, MI(Y;M)=0.014 | bin: MI(X;M)=5.349, MI(Y;M)=0.029\n",
      "- Layer 4 upper: MI(X;M)=4.372, MI(Y;M)=0.013 | bin: MI(X;M)=4.487, MI(Y;M)=0.018\n",
      "- Layer 5 upper: MI(X;M)=1.646, MI(Y;M)=0.003 | bin: MI(X;M)=1.773, MI(Y;M)=0.004\n",
      "---- EPOCH 640\n",
      "- Layer 0 upper: MI(X;M)=11.678, MI(Y;M)=0.999 | bin: MI(X;M)=11.678, MI(Y;M)=0.999\n",
      "- Layer 1 upper: MI(X;M)=11.632, MI(Y;M)=0.978 | bin: MI(X;M)=11.657, MI(Y;M)=0.991\n",
      "- Layer 2 upper: MI(X;M)=6.467, MI(Y;M)=0.029 | bin: MI(X;M)=7.344, MI(Y;M)=0.100\n",
      "- Layer 3 upper: MI(X;M)=5.244, MI(Y;M)=0.011 | bin: MI(X;M)=5.332, MI(Y;M)=0.024\n",
      "- Layer 4 upper: MI(X;M)=4.208, MI(Y;M)=0.010 | bin: MI(X;M)=4.211, MI(Y;M)=0.020\n",
      "- Layer 5 upper: MI(X;M)=1.588, MI(Y;M)=0.005 | bin: MI(X;M)=1.717, MI(Y;M)=0.006\n",
      "---- EPOCH 660\n"
     ]
    },
    {
     "name": "stdout",
     "output_type": "stream",
     "text": [
      "- Layer 0 upper: MI(X;M)=11.678, MI(Y;M)=0.999 | bin: MI(X;M)=11.678, MI(Y;M)=0.999\n",
      "- Layer 1 upper: MI(X;M)=11.632, MI(Y;M)=0.978 | bin: MI(X;M)=11.662, MI(Y;M)=0.992\n",
      "- Layer 2 upper: MI(X;M)=6.475, MI(Y;M)=0.036 | bin: MI(X;M)=7.413, MI(Y;M)=0.097\n",
      "- Layer 3 upper: MI(X;M)=5.219, MI(Y;M)=0.014 | bin: MI(X;M)=5.254, MI(Y;M)=0.027\n",
      "- Layer 4 upper: MI(X;M)=4.248, MI(Y;M)=0.015 | bin: MI(X;M)=4.299, MI(Y;M)=0.020\n",
      "- Layer 5 upper: MI(X;M)=1.574, MI(Y;M)=0.007 | bin: MI(X;M)=1.707, MI(Y;M)=0.010\n",
      "---- EPOCH 680\n",
      "- Layer 0 upper: MI(X;M)=11.678, MI(Y;M)=0.999 | bin: MI(X;M)=11.678, MI(Y;M)=0.999\n",
      "- Layer 1 upper: MI(X;M)=11.635, MI(Y;M)=0.977 | bin: MI(X;M)=11.659, MI(Y;M)=0.989\n",
      "- Layer 2 upper: MI(X;M)=6.468, MI(Y;M)=0.035 | bin: MI(X;M)=7.428, MI(Y;M)=0.096\n",
      "- Layer 3 upper: MI(X;M)=5.175, MI(Y;M)=0.017 | bin: MI(X;M)=5.293, MI(Y;M)=0.032\n",
      "- Layer 4 upper: MI(X;M)=4.093, MI(Y;M)=0.015 | bin: MI(X;M)=4.112, MI(Y;M)=0.024\n",
      "- Layer 5 upper: MI(X;M)=1.535, MI(Y;M)=0.005 | bin: MI(X;M)=1.657, MI(Y;M)=0.007\n",
      "---- EPOCH 700\n",
      "- Layer 0 upper: MI(X;M)=11.678, MI(Y;M)=0.999 | bin: MI(X;M)=11.678, MI(Y;M)=0.999\n",
      "- Layer 1 upper: MI(X;M)=11.633, MI(Y;M)=0.976 | bin: MI(X;M)=11.653, MI(Y;M)=0.983\n",
      "- Layer 2 upper: MI(X;M)=6.471, MI(Y;M)=0.033 | bin: MI(X;M)=7.454, MI(Y;M)=0.096\n",
      "- Layer 3 upper: MI(X;M)=5.153, MI(Y;M)=0.012 | bin: MI(X;M)=5.284, MI(Y;M)=0.023\n",
      "- Layer 4 upper: MI(X;M)=4.060, MI(Y;M)=0.011 | bin: MI(X;M)=4.103, MI(Y;M)=0.020\n",
      "- Layer 5 upper: MI(X;M)=1.533, MI(Y;M)=0.004 | bin: MI(X;M)=1.654, MI(Y;M)=0.007\n",
      "---- EPOCH 720\n",
      "- Layer 0 upper: MI(X;M)=11.678, MI(Y;M)=0.999 | bin: MI(X;M)=11.678, MI(Y;M)=0.999\n",
      "- Layer 1 upper: MI(X;M)=11.634, MI(Y;M)=0.980 | bin: MI(X;M)=11.658, MI(Y;M)=0.992\n",
      "- Layer 2 upper: MI(X;M)=6.454, MI(Y;M)=0.033 | bin: MI(X;M)=7.397, MI(Y;M)=0.088\n",
      "- Layer 3 upper: MI(X;M)=5.118, MI(Y;M)=0.011 | bin: MI(X;M)=5.262, MI(Y;M)=0.027\n",
      "- Layer 4 upper: MI(X;M)=4.037, MI(Y;M)=0.010 | bin: MI(X;M)=4.137, MI(Y;M)=0.017\n",
      "- Layer 5 upper: MI(X;M)=1.527, MI(Y;M)=0.005 | bin: MI(X;M)=1.662, MI(Y;M)=0.008\n",
      "---- EPOCH 740\n",
      "- Layer 0 upper: MI(X;M)=11.678, MI(Y;M)=0.999 | bin: MI(X;M)=11.678, MI(Y;M)=0.999\n",
      "- Layer 1 upper: MI(X;M)=11.635, MI(Y;M)=0.978 | bin: MI(X;M)=11.660, MI(Y;M)=0.989\n",
      "- Layer 2 upper: MI(X;M)=6.449, MI(Y;M)=0.035 | bin: MI(X;M)=7.458, MI(Y;M)=0.101\n",
      "- Layer 3 upper: MI(X;M)=5.090, MI(Y;M)=0.015 | bin: MI(X;M)=5.279, MI(Y;M)=0.024\n",
      "- Layer 4 upper: MI(X;M)=4.017, MI(Y;M)=0.009 | bin: MI(X;M)=4.138, MI(Y;M)=0.018\n",
      "- Layer 5 upper: MI(X;M)=1.499, MI(Y;M)=0.003 | bin: MI(X;M)=1.605, MI(Y;M)=0.006\n",
      "---- EPOCH 760\n",
      "- Layer 0 upper: MI(X;M)=11.678, MI(Y;M)=0.999 | bin: MI(X;M)=11.678, MI(Y;M)=0.999\n",
      "- Layer 1 upper: MI(X;M)=11.633, MI(Y;M)=0.981 | bin: MI(X;M)=11.655, MI(Y;M)=0.990\n",
      "- Layer 2 upper: MI(X;M)=6.443, MI(Y;M)=0.034 | bin: MI(X;M)=7.412, MI(Y;M)=0.104\n",
      "- Layer 3 upper: MI(X;M)=5.039, MI(Y;M)=0.014 | bin: MI(X;M)=5.213, MI(Y;M)=0.030\n",
      "- Layer 4 upper: MI(X;M)=3.929, MI(Y;M)=0.011 | bin: MI(X;M)=4.078, MI(Y;M)=0.018\n",
      "- Layer 5 upper: MI(X;M)=1.473, MI(Y;M)=0.005 | bin: MI(X;M)=1.579, MI(Y;M)=0.007\n",
      "---- EPOCH 780\n",
      "- Layer 0 upper: MI(X;M)=11.678, MI(Y;M)=0.999 | bin: MI(X;M)=11.678, MI(Y;M)=0.999\n",
      "- Layer 1 upper: MI(X;M)=11.635, MI(Y;M)=0.978 | bin: MI(X;M)=11.659, MI(Y;M)=0.990\n",
      "- Layer 2 upper: MI(X;M)=6.445, MI(Y;M)=0.033 | bin: MI(X;M)=7.452, MI(Y;M)=0.094\n",
      "- Layer 3 upper: MI(X;M)=5.017, MI(Y;M)=0.016 | bin: MI(X;M)=5.212, MI(Y;M)=0.035\n",
      "- Layer 4 upper: MI(X;M)=3.823, MI(Y;M)=0.014 | bin: MI(X;M)=3.782, MI(Y;M)=0.028\n",
      "- Layer 5 upper: MI(X;M)=1.445, MI(Y;M)=0.005 | bin: MI(X;M)=1.549, MI(Y;M)=0.007\n",
      "---- EPOCH 800\n",
      "- Layer 0 upper: MI(X;M)=11.678, MI(Y;M)=0.999 | bin: MI(X;M)=11.678, MI(Y;M)=0.999\n",
      "- Layer 1 upper: MI(X;M)=11.637, MI(Y;M)=0.979 | bin: MI(X;M)=11.656, MI(Y;M)=0.988\n",
      "- Layer 2 upper: MI(X;M)=6.451, MI(Y;M)=0.042 | bin: MI(X;M)=7.446, MI(Y;M)=0.100\n",
      "- Layer 3 upper: MI(X;M)=4.995, MI(Y;M)=0.019 | bin: MI(X;M)=5.195, MI(Y;M)=0.033\n",
      "- Layer 4 upper: MI(X;M)=3.871, MI(Y;M)=0.017 | bin: MI(X;M)=3.995, MI(Y;M)=0.028\n",
      "- Layer 5 upper: MI(X;M)=1.443, MI(Y;M)=0.006 | bin: MI(X;M)=1.537, MI(Y;M)=0.008\n",
      "---- EPOCH 820\n",
      "- Layer 0 upper: MI(X;M)=11.678, MI(Y;M)=0.999 | bin: MI(X;M)=11.678, MI(Y;M)=0.999\n",
      "- Layer 1 upper: MI(X;M)=11.637, MI(Y;M)=0.980 | bin: MI(X;M)=11.659, MI(Y;M)=0.989\n",
      "- Layer 2 upper: MI(X;M)=6.448, MI(Y;M)=0.035 | bin: MI(X;M)=7.436, MI(Y;M)=0.090\n",
      "- Layer 3 upper: MI(X;M)=4.985, MI(Y;M)=0.013 | bin: MI(X;M)=5.213, MI(Y;M)=0.025\n",
      "- Layer 4 upper: MI(X;M)=4.047, MI(Y;M)=0.010 | bin: MI(X;M)=4.447, MI(Y;M)=0.018\n",
      "- Layer 5 upper: MI(X;M)=1.482, MI(Y;M)=0.007 | bin: MI(X;M)=1.610, MI(Y;M)=0.010\n",
      "---- EPOCH 840\n",
      "- Layer 0 upper: MI(X;M)=11.678, MI(Y;M)=0.999 | bin: MI(X;M)=11.678, MI(Y;M)=0.999\n",
      "- Layer 1 upper: MI(X;M)=11.638, MI(Y;M)=0.981 | bin: MI(X;M)=11.656, MI(Y;M)=0.988\n",
      "- Layer 2 upper: MI(X;M)=6.434, MI(Y;M)=0.034 | bin: MI(X;M)=7.435, MI(Y;M)=0.094\n",
      "- Layer 3 upper: MI(X;M)=4.968, MI(Y;M)=0.012 | bin: MI(X;M)=5.169, MI(Y;M)=0.027\n",
      "- Layer 4 upper: MI(X;M)=3.933, MI(Y;M)=0.012 | bin: MI(X;M)=4.392, MI(Y;M)=0.022\n",
      "- Layer 5 upper: MI(X;M)=1.520, MI(Y;M)=0.006 | bin: MI(X;M)=1.642, MI(Y;M)=0.008\n",
      "---- EPOCH 860\n",
      "- Layer 0 upper: MI(X;M)=11.678, MI(Y;M)=0.999 | bin: MI(X;M)=11.678, MI(Y;M)=0.999\n",
      "- Layer 1 upper: MI(X;M)=11.636, MI(Y;M)=0.981 | bin: MI(X;M)=11.657, MI(Y;M)=0.989\n",
      "- Layer 2 upper: MI(X;M)=6.419, MI(Y;M)=0.034 | bin: MI(X;M)=7.444, MI(Y;M)=0.096\n",
      "- Layer 3 upper: MI(X;M)=4.898, MI(Y;M)=0.016 | bin: MI(X;M)=5.141, MI(Y;M)=0.028\n",
      "- Layer 4 upper: MI(X;M)=3.783, MI(Y;M)=0.015 | bin: MI(X;M)=4.035, MI(Y;M)=0.019\n",
      "- Layer 5 upper: MI(X;M)=1.448, MI(Y;M)=0.005 | bin: MI(X;M)=1.553, MI(Y;M)=0.008\n",
      "---- EPOCH 880\n",
      "- Layer 0 upper: MI(X;M)=11.678, MI(Y;M)=0.999 | bin: MI(X;M)=11.678, MI(Y;M)=0.999\n",
      "- Layer 1 upper: MI(X;M)=11.636, MI(Y;M)=0.979 | bin: MI(X;M)=11.657, MI(Y;M)=0.988\n",
      "- Layer 2 upper: MI(X;M)=6.416, MI(Y;M)=0.040 | bin: MI(X;M)=7.460, MI(Y;M)=0.100\n",
      "- Layer 3 upper: MI(X;M)=4.876, MI(Y;M)=0.015 | bin: MI(X;M)=5.144, MI(Y;M)=0.031\n",
      "- Layer 4 upper: MI(X;M)=3.831, MI(Y;M)=0.013 | bin: MI(X;M)=4.455, MI(Y;M)=0.018\n",
      "- Layer 5 upper: MI(X;M)=1.467, MI(Y;M)=0.005 | bin: MI(X;M)=1.569, MI(Y;M)=0.007\n",
      "---- EPOCH 900\n",
      "- Layer 0 upper: MI(X;M)=11.678, MI(Y;M)=0.999 | bin: MI(X;M)=11.678, MI(Y;M)=0.999\n",
      "- Layer 1 upper: MI(X;M)=11.642, MI(Y;M)=0.983 | bin: MI(X;M)=11.667, MI(Y;M)=0.993\n",
      "- Layer 2 upper: MI(X;M)=6.404, MI(Y;M)=0.040 | bin: MI(X;M)=7.413, MI(Y;M)=0.102\n",
      "- Layer 3 upper: MI(X;M)=4.793, MI(Y;M)=0.016 | bin: MI(X;M)=5.017, MI(Y;M)=0.028\n",
      "- Layer 4 upper: MI(X;M)=3.641, MI(Y;M)=0.013 | bin: MI(X;M)=3.777, MI(Y;M)=0.024\n",
      "- Layer 5 upper: MI(X;M)=1.391, MI(Y;M)=0.004 | bin: MI(X;M)=1.477, MI(Y;M)=0.008\n",
      "---- EPOCH 920\n",
      "- Layer 0 upper: MI(X;M)=11.678, MI(Y;M)=0.999 | bin: MI(X;M)=11.678, MI(Y;M)=0.999\n",
      "- Layer 1 upper: MI(X;M)=11.641, MI(Y;M)=0.982 | bin: MI(X;M)=11.669, MI(Y;M)=0.993\n",
      "- Layer 2 upper: MI(X;M)=6.409, MI(Y;M)=0.037 | bin: MI(X;M)=7.462, MI(Y;M)=0.101\n",
      "- Layer 3 upper: MI(X;M)=4.773, MI(Y;M)=0.012 | bin: MI(X;M)=5.026, MI(Y;M)=0.020\n",
      "- Layer 4 upper: MI(X;M)=3.722, MI(Y;M)=0.010 | bin: MI(X;M)=4.170, MI(Y;M)=0.020\n",
      "- Layer 5 upper: MI(X;M)=1.397, MI(Y;M)=0.003 | bin: MI(X;M)=1.491, MI(Y;M)=0.004\n",
      "---- EPOCH 940\n",
      "- Layer 0 upper: MI(X;M)=11.678, MI(Y;M)=0.999 | bin: MI(X;M)=11.678, MI(Y;M)=0.999\n",
      "- Layer 1 upper: MI(X;M)=11.645, MI(Y;M)=0.984 | bin: MI(X;M)=11.662, MI(Y;M)=0.994\n",
      "- Layer 2 upper: MI(X;M)=6.394, MI(Y;M)=0.037 | bin: MI(X;M)=7.406, MI(Y;M)=0.097\n",
      "- Layer 3 upper: MI(X;M)=4.719, MI(Y;M)=0.014 | bin: MI(X;M)=4.929, MI(Y;M)=0.026\n",
      "- Layer 4 upper: MI(X;M)=3.664, MI(Y;M)=0.010 | bin: MI(X;M)=4.205, MI(Y;M)=0.020\n",
      "- Layer 5 upper: MI(X;M)=1.428, MI(Y;M)=0.003 | bin: MI(X;M)=1.537, MI(Y;M)=0.005\n",
      "---- EPOCH 960\n",
      "- Layer 0 upper: MI(X;M)=11.678, MI(Y;M)=0.999 | bin: MI(X;M)=11.678, MI(Y;M)=0.999\n",
      "- Layer 1 upper: MI(X;M)=11.646, MI(Y;M)=0.984 | bin: MI(X;M)=11.666, MI(Y;M)=0.995\n",
      "- Layer 2 upper: MI(X;M)=6.390, MI(Y;M)=0.040 | bin: MI(X;M)=7.434, MI(Y;M)=0.106\n",
      "- Layer 3 upper: MI(X;M)=4.655, MI(Y;M)=0.016 | bin: MI(X;M)=4.857, MI(Y;M)=0.030\n",
      "- Layer 4 upper: MI(X;M)=3.532, MI(Y;M)=0.014 | bin: MI(X;M)=3.711, MI(Y;M)=0.019\n",
      "- Layer 5 upper: MI(X;M)=1.384, MI(Y;M)=0.004 | bin: MI(X;M)=1.462, MI(Y;M)=0.008\n",
      "---- EPOCH 980\n",
      "- Layer 0 upper: MI(X;M)=11.678, MI(Y;M)=0.999 | bin: MI(X;M)=11.678, MI(Y;M)=0.999\n"
     ]
    },
    {
     "name": "stdout",
     "output_type": "stream",
     "text": [
      "- Layer 1 upper: MI(X;M)=11.645, MI(Y;M)=0.983 | bin: MI(X;M)=11.662, MI(Y;M)=0.990\n",
      "- Layer 2 upper: MI(X;M)=6.384, MI(Y;M)=0.036 | bin: MI(X;M)=7.381, MI(Y;M)=0.106\n",
      "- Layer 3 upper: MI(X;M)=4.609, MI(Y;M)=0.013 | bin: MI(X;M)=4.770, MI(Y;M)=0.023\n",
      "- Layer 4 upper: MI(X;M)=3.495, MI(Y;M)=0.009 | bin: MI(X;M)=3.688, MI(Y;M)=0.017\n",
      "- Layer 5 upper: MI(X;M)=1.346, MI(Y;M)=0.004 | bin: MI(X;M)=1.440, MI(Y;M)=0.008\n",
      "---- EPOCH 1000\n",
      "- Layer 0 upper: MI(X;M)=11.678, MI(Y;M)=0.999 | bin: MI(X;M)=11.678, MI(Y;M)=0.999\n",
      "- Layer 1 upper: MI(X;M)=11.651, MI(Y;M)=0.987 | bin: MI(X;M)=11.665, MI(Y;M)=0.993\n",
      "- Layer 2 upper: MI(X;M)=6.366, MI(Y;M)=0.037 | bin: MI(X;M)=7.358, MI(Y;M)=0.106\n",
      "- Layer 3 upper: MI(X;M)=4.605, MI(Y;M)=0.014 | bin: MI(X;M)=4.841, MI(Y;M)=0.030\n",
      "- Layer 4 upper: MI(X;M)=3.529, MI(Y;M)=0.013 | bin: MI(X;M)=3.805, MI(Y;M)=0.018\n",
      "- Layer 5 upper: MI(X;M)=1.372, MI(Y;M)=0.004 | bin: MI(X;M)=1.464, MI(Y;M)=0.004\n",
      "---- EPOCH 1020\n",
      "- Layer 0 upper: MI(X;M)=11.678, MI(Y;M)=0.999 | bin: MI(X;M)=11.678, MI(Y;M)=0.999\n",
      "- Layer 1 upper: MI(X;M)=11.648, MI(Y;M)=0.985 | bin: MI(X;M)=11.665, MI(Y;M)=0.993\n",
      "- Layer 2 upper: MI(X;M)=6.344, MI(Y;M)=0.043 | bin: MI(X;M)=7.353, MI(Y;M)=0.115\n",
      "- Layer 3 upper: MI(X;M)=4.554, MI(Y;M)=0.015 | bin: MI(X;M)=4.686, MI(Y;M)=0.025\n",
      "- Layer 4 upper: MI(X;M)=3.542, MI(Y;M)=0.011 | bin: MI(X;M)=3.960, MI(Y;M)=0.016\n",
      "- Layer 5 upper: MI(X;M)=1.349, MI(Y;M)=0.006 | bin: MI(X;M)=1.448, MI(Y;M)=0.010\n",
      "---- EPOCH 1040\n",
      "- Layer 0 upper: MI(X;M)=11.678, MI(Y;M)=0.999 | bin: MI(X;M)=11.678, MI(Y;M)=0.999\n",
      "- Layer 1 upper: MI(X;M)=11.648, MI(Y;M)=0.985 | bin: MI(X;M)=11.662, MI(Y;M)=0.992\n",
      "- Layer 2 upper: MI(X;M)=6.329, MI(Y;M)=0.044 | bin: MI(X;M)=7.342, MI(Y;M)=0.113\n",
      "- Layer 3 upper: MI(X;M)=4.503, MI(Y;M)=0.015 | bin: MI(X;M)=4.710, MI(Y;M)=0.032\n",
      "- Layer 4 upper: MI(X;M)=3.526, MI(Y;M)=0.014 | bin: MI(X;M)=3.929, MI(Y;M)=0.021\n",
      "- Layer 5 upper: MI(X;M)=1.389, MI(Y;M)=0.005 | bin: MI(X;M)=1.472, MI(Y;M)=0.008\n",
      "---- EPOCH 1060\n",
      "- Layer 0 upper: MI(X;M)=11.678, MI(Y;M)=0.999 | bin: MI(X;M)=11.678, MI(Y;M)=0.999\n",
      "- Layer 1 upper: MI(X;M)=11.646, MI(Y;M)=0.983 | bin: MI(X;M)=11.671, MI(Y;M)=0.998\n",
      "- Layer 2 upper: MI(X;M)=6.311, MI(Y;M)=0.037 | bin: MI(X;M)=7.340, MI(Y;M)=0.114\n",
      "- Layer 3 upper: MI(X;M)=4.427, MI(Y;M)=0.012 | bin: MI(X;M)=4.574, MI(Y;M)=0.027\n",
      "- Layer 4 upper: MI(X;M)=3.302, MI(Y;M)=0.010 | bin: MI(X;M)=3.399, MI(Y;M)=0.015\n",
      "- Layer 5 upper: MI(X;M)=1.324, MI(Y;M)=0.006 | bin: MI(X;M)=1.402, MI(Y;M)=0.010\n",
      "---- EPOCH 1080\n",
      "- Layer 0 upper: MI(X;M)=11.678, MI(Y;M)=0.999 | bin: MI(X;M)=11.678, MI(Y;M)=0.999\n",
      "- Layer 1 upper: MI(X;M)=11.644, MI(Y;M)=0.986 | bin: MI(X;M)=11.666, MI(Y;M)=0.993\n",
      "- Layer 2 upper: MI(X;M)=6.290, MI(Y;M)=0.037 | bin: MI(X;M)=7.255, MI(Y;M)=0.102\n",
      "- Layer 3 upper: MI(X;M)=4.508, MI(Y;M)=0.013 | bin: MI(X;M)=4.914, MI(Y;M)=0.030\n",
      "- Layer 4 upper: MI(X;M)=3.657, MI(Y;M)=0.010 | bin: MI(X;M)=3.970, MI(Y;M)=0.018\n",
      "- Layer 5 upper: MI(X;M)=1.452, MI(Y;M)=0.004 | bin: MI(X;M)=1.575, MI(Y;M)=0.004\n",
      "---- EPOCH 1100\n",
      "- Layer 0 upper: MI(X;M)=11.678, MI(Y;M)=0.999 | bin: MI(X;M)=11.678, MI(Y;M)=0.999\n",
      "- Layer 1 upper: MI(X;M)=11.647, MI(Y;M)=0.987 | bin: MI(X;M)=11.663, MI(Y;M)=0.994\n",
      "- Layer 2 upper: MI(X;M)=6.277, MI(Y;M)=0.039 | bin: MI(X;M)=7.212, MI(Y;M)=0.110\n",
      "- Layer 3 upper: MI(X;M)=4.326, MI(Y;M)=0.013 | bin: MI(X;M)=4.565, MI(Y;M)=0.027\n",
      "- Layer 4 upper: MI(X;M)=3.212, MI(Y;M)=0.010 | bin: MI(X;M)=3.162, MI(Y;M)=0.015\n",
      "- Layer 5 upper: MI(X;M)=1.296, MI(Y;M)=0.004 | bin: MI(X;M)=1.360, MI(Y;M)=0.009\n",
      "---- EPOCH 1120\n",
      "- Layer 0 upper: MI(X;M)=11.678, MI(Y;M)=0.999 | bin: MI(X;M)=11.678, MI(Y;M)=0.999\n",
      "- Layer 1 upper: MI(X;M)=11.648, MI(Y;M)=0.986 | bin: MI(X;M)=11.665, MI(Y;M)=0.993\n",
      "- Layer 2 upper: MI(X;M)=6.239, MI(Y;M)=0.037 | bin: MI(X;M)=7.153, MI(Y;M)=0.098\n",
      "- Layer 3 upper: MI(X;M)=4.292, MI(Y;M)=0.012 | bin: MI(X;M)=4.522, MI(Y;M)=0.031\n",
      "- Layer 4 upper: MI(X;M)=3.202, MI(Y;M)=0.011 | bin: MI(X;M)=3.283, MI(Y;M)=0.018\n",
      "- Layer 5 upper: MI(X;M)=1.280, MI(Y;M)=0.006 | bin: MI(X;M)=1.351, MI(Y;M)=0.007\n",
      "---- EPOCH 1140\n",
      "- Layer 0 upper: MI(X;M)=11.677, MI(Y;M)=0.999 | bin: MI(X;M)=11.678, MI(Y;M)=0.999\n",
      "- Layer 1 upper: MI(X;M)=11.649, MI(Y;M)=0.985 | bin: MI(X;M)=11.671, MI(Y;M)=0.995\n",
      "- Layer 2 upper: MI(X;M)=6.233, MI(Y;M)=0.040 | bin: MI(X;M)=7.201, MI(Y;M)=0.119\n",
      "- Layer 3 upper: MI(X;M)=4.250, MI(Y;M)=0.015 | bin: MI(X;M)=4.581, MI(Y;M)=0.029\n",
      "- Layer 4 upper: MI(X;M)=3.101, MI(Y;M)=0.009 | bin: MI(X;M)=2.977, MI(Y;M)=0.019\n",
      "- Layer 5 upper: MI(X;M)=1.242, MI(Y;M)=0.004 | bin: MI(X;M)=1.304, MI(Y;M)=0.005\n",
      "---- EPOCH 1160\n",
      "- Layer 0 upper: MI(X;M)=11.677, MI(Y;M)=0.999 | bin: MI(X;M)=11.678, MI(Y;M)=0.999\n",
      "- Layer 1 upper: MI(X;M)=11.646, MI(Y;M)=0.986 | bin: MI(X;M)=11.665, MI(Y;M)=0.994\n",
      "- Layer 2 upper: MI(X;M)=6.209, MI(Y;M)=0.035 | bin: MI(X;M)=7.135, MI(Y;M)=0.104\n",
      "- Layer 3 upper: MI(X;M)=4.316, MI(Y;M)=0.015 | bin: MI(X;M)=4.643, MI(Y;M)=0.035\n",
      "- Layer 4 upper: MI(X;M)=3.458, MI(Y;M)=0.012 | bin: MI(X;M)=3.614, MI(Y;M)=0.022\n",
      "- Layer 5 upper: MI(X;M)=1.327, MI(Y;M)=0.004 | bin: MI(X;M)=1.408, MI(Y;M)=0.005\n",
      "---- EPOCH 1180\n",
      "- Layer 0 upper: MI(X;M)=11.677, MI(Y;M)=0.999 | bin: MI(X;M)=11.678, MI(Y;M)=0.999\n",
      "- Layer 1 upper: MI(X;M)=11.647, MI(Y;M)=0.983 | bin: MI(X;M)=11.664, MI(Y;M)=0.991\n",
      "- Layer 2 upper: MI(X;M)=6.170, MI(Y;M)=0.035 | bin: MI(X;M)=7.088, MI(Y;M)=0.095\n",
      "- Layer 3 upper: MI(X;M)=4.251, MI(Y;M)=0.014 | bin: MI(X;M)=4.561, MI(Y;M)=0.027\n",
      "- Layer 4 upper: MI(X;M)=3.288, MI(Y;M)=0.009 | bin: MI(X;M)=3.523, MI(Y;M)=0.021\n",
      "- Layer 5 upper: MI(X;M)=1.266, MI(Y;M)=0.004 | bin: MI(X;M)=1.347, MI(Y;M)=0.006\n"
     ]
    }
   ],
   "source": [
    "#### This is an auxiliary dictionary to store the results for each epoch\n",
    "# Data structure used to store results\n",
    "measures = OrderedDict()\n",
    "measures['tanh'] = {}\n",
    "#measures['relu'] = {}\n",
    "PLOT_LAYERS    = None \n",
    "NUM_LABELS = 2\n",
    "\n",
    "\n",
    "#### Main loop: over epochs\n",
    "\n",
    "for epoch in range(0, len(training_info['data']), 20):\n",
    "#for epoch in range(0, 1):\n",
    "    \n",
    "    cepochdata = defaultdict(list) \n",
    "    \n",
    "    #training_info['data'][epoch]\n",
    "    \n",
    "    print('---- EPOCH %d' % epoch)\n",
    "    \n",
    "    \n",
    "    #####################################################################\n",
    "    num_layers = len(training_info['data'][epoch]['activity'])\n",
    "\n",
    "    if PLOT_LAYERS is None:\n",
    "        PLOT_LAYERS = []\n",
    "        for lndx in range(num_layers):\n",
    "            #if d['data']['activity_tst'][lndx].shape[1] < 200 and lndx != num_layers - 1:\n",
    "            PLOT_LAYERS.append(lndx)\n",
    "    #####################################################################\n",
    "    \n",
    "    for layer in range(len(training_info['data'][epoch]['activity'])):\n",
    "        \n",
    "        activity = training_info['data'][epoch]['activity'][layer] \n",
    "        \n",
    "        #print(epoch)\n",
    "        #print(layer)\n",
    "        #print(activity)\n",
    "        #break\n",
    "        \n",
    "        #### Compute marginal entropies\n",
    "        h_upper = entropy_func_upper([activity, ])[0]\n",
    "        if DO_LOWER: # Why computing lower bound would not be necessary?\n",
    "            h_lower = entropy_func_lower([activity, ])[0]\n",
    "            \n",
    "        #### Layer activity given input. This is simply the entropy of the Gaussian noise\n",
    "        hM_given_X = kde.kde_condentropy(activity, noise_variance)\n",
    "        \n",
    "        #### Compute conditional entropies of layer activity output\n",
    "        hM_given_Y_upper= 0.0\n",
    "        for i in range(NUM_LABELS):\n",
    "            hcond_upper = entropy_func_upper([activity[saved_labelixs[i],:],])[0]\n",
    "            hM_given_Y_upper += labelprobs[i] * hcond_upper\n",
    "            \n",
    "        if DO_LOWER:\n",
    "            hM_given_Y_lower=0.0\n",
    "            for i in range(NUM_LABELS):\n",
    "                hcond_lower = entropy_func_lower([activity[saved_labelixs[i],:],])[0]\n",
    "                hM_given_Y_lower += labelprobs[i] * hcond_lower\n",
    "                \n",
    "        cepochdata['MI_XM_upper'].append( nats2bits * (h_upper - hM_given_X) )\n",
    "        cepochdata['MI_YM_upper'].append( nats2bits * (h_upper - hM_given_Y_upper) )\n",
    "        cepochdata['H_M_upper'  ].append( nats2bits * h_upper )\n",
    "        pstr = 'upper: MI(X;M)=%0.3f, MI(Y;M)=%0.3f' % (cepochdata['MI_XM_upper'][-1], \n",
    "                                                        cepochdata['MI_YM_upper'][-1])\n",
    "        \n",
    "        #print(cepochdata)\n",
    "        \n",
    "        ### Compute lower bounds\n",
    "        if DO_LOWER: \n",
    "            cepochdata['MI_XM_lower'].append( nats2bits * (h_lower - hM_given_X) )\n",
    "            cepochdata['MI_YM_lower'].append( nats2bits * (h_lower - hM_given_Y_lower) )\n",
    "            cepochdata['H_M_lower'  ].append( nats2bits * h_lower )\n",
    "            pstr += ' | lower: MI(X;M)=%0.3f, MI(Y;M)=%0.3f' % (cepochdata['MI_XM_lower'][-1], \n",
    "                                                                cepochdata['MI_YM_lower'][-1])\n",
    "        ### Compute binned estimates\n",
    "        if DO_BINNED:\n",
    "            binxm, binym = simplebinmi.bin_calc_information2(saved_labelixs, activity, binsize)\n",
    "            cepochdata['MI_XM_bin'].append( nats2bits * binxm )\n",
    "            cepochdata['MI_YM_bin'].append( nats2bits * binym )\n",
    "            pstr += ' | bin: MI(X;M)=%0.3f, MI(Y;M)=%0.3f' % (cepochdata['MI_XM_bin'][-1], \n",
    "                                                              cepochdata['MI_YM_bin'][-1])\n",
    "            \n",
    "        print('- Layer %d %s' % (layer, pstr) )\n",
    "        \n",
    "    measures['tanh'][epoch] = cepochdata\n",
    "        "
   ]
  },
  {
   "cell_type": "code",
   "execution_count": 27,
   "metadata": {},
   "outputs": [],
   "source": [
    "DO_SAVE = False"
   ]
  },
  {
   "cell_type": "markdown",
   "metadata": {},
   "source": [
    "## Plot"
   ]
  },
  {
   "cell_type": "code",
   "execution_count": 28,
   "metadata": {},
   "outputs": [
    {
     "name": "stderr",
     "output_type": "stream",
     "text": [
      "/home/rodrigo/anaconda3/lib/python3.6/site-packages/matplotlib/figure.py:2022: UserWarning: This figure includes Axes that are not compatible with tight_layout, so results might be incorrect.\n",
      "  warnings.warn(\"This figure includes Axes that are not compatible \"\n"
     ]
    },
    {
     "data": {
      "image/png": "[encoded data removed]",
      "text/plain": [
       "<matplotlib.figure.Figure at 0x7f1d7f706240>"
      ]
     },
     "metadata": {},
     "output_type": "display_data"
    }
   ],
   "source": [
    "COLORBAR_MAX_EPOCHS= 1200\n",
    "max_epoch = max( (max(vals.keys()) if len(vals) else 0) for vals in measures.values())\n",
    "sm = plt.cm.ScalarMappable(cmap='gnuplot', norm=plt.Normalize(vmin=0, vmax=COLORBAR_MAX_EPOCHS))\n",
    "sm._A = []\n",
    "\n",
    "fig=plt.figure(figsize=(10,5))\n",
    "for actndx, (activation, vals) in enumerate(measures.items()):\n",
    "    epochs = sorted(vals.keys())\n",
    "    \n",
    "    #print(vals)\n",
    "    \n",
    "    if not len(epochs):\n",
    "        continue\n",
    "    plt.subplot(1,2,actndx+1)    \n",
    "    for epoch in epochs:\n",
    "        c = sm.to_rgba(epoch)\n",
    "        xmvals = np.array(vals[epoch]['MI_XM_'+infoplane_measure])[PLOT_LAYERS]\n",
    "        ymvals = np.array(vals[epoch]['MI_YM_'+infoplane_measure])[PLOT_LAYERS]\n",
    "        \n",
    "       \n",
    "        plt.plot(xmvals, ymvals, c=c, alpha=0.1, zorder=1)\n",
    "        plt.scatter(xmvals, ymvals, s=20, facecolors=[c for _ in PLOT_LAYERS], edgecolor='none', zorder=2)\n",
    "\n",
    "    plt.ylim([0, 1])\n",
    "    plt.xlim([0, 12])\n",
    "#     plt.ylim([0, 3.5])\n",
    "#     plt.xlim([0, 14])\n",
    "    plt.xlabel('$I(X;T)$', fontsize= 15)\n",
    "    plt.ylabel('$I(Y;T)$', fontsize= 15)\n",
    "    plt.title(activation, fontsize= 20)\n",
    "    \n",
    "cbaxes = fig.add_axes([1.0, 0.125, 0.03, 0.8]) \n",
    "plt.colorbar(sm, label='Epoch', cax=cbaxes)\n",
    "plt.tight_layout()\n",
    "\n",
    "if DO_SAVE:\n",
    "    #plt.savefig('plots/' + DIR_TEMPLATE % ('infoplane_'+ARCH),bbox_inches='tight')\n",
    "    plt.savefig('plots/info_plane_no_mini_batch')"
   ]
  },
  {
   "cell_type": "code",
   "execution_count": null,
   "metadata": {},
   "outputs": [],
   "source": []
  }
 ],
 "metadata": {
  "kernelspec": {
   "display_name": "Python 3",
   "language": "python",
   "name": "python3"
  },
  "language_info": {
   "codemirror_mode": {
    "name": "ipython",
    "version": 3
   },
   "file_extension": ".py",
   "mimetype": "text/x-python",
   "name": "python",
   "nbconvert_exporter": "python",
   "pygments_lexer": "ipython3",
   "version": "3.6.4"
  },
  "latex_envs": {
   "LaTeX_envs_menu_present": true,
   "autoclose": false,
   "autocomplete": true,
   "bibliofile": "biblio.bib",
   "cite_by": "apalike",
   "current_citInitial": 1,
   "eqLabelWithNumbers": true,
   "eqNumInitial": 1,
   "hotkeys": {
    "equation": "Ctrl-E",
    "itemize": "Ctrl-I"
   },
   "labels_anchors": false,
   "latex_user_defs": false,
   "report_style_numbering": false,
   "user_envs_cfg": false
  }
 },
 "nbformat": 4,
 "nbformat_minor": 2
}

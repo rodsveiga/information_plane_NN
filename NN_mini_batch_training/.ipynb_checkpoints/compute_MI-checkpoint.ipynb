{
 "cells": [
  {
   "cell_type": "markdown",
   "metadata": {},
   "source": [
    "# Computing Mutual Information"
   ]
  },
  {
   "cell_type": "code",
   "execution_count": 3,
   "metadata": {},
   "outputs": [],
   "source": [
    "import pickle\n",
    "import numpy as np\n",
    "%matplotlib inline\n",
    "import matplotlib.pyplot as plt\n",
    "import matplotlib.gridspec as gridspec\n",
    "import keras.backend as K\n",
    "from collections import defaultdict, OrderedDict\n",
    "import seaborn as sns\n",
    "sns.set_style('darkgrid')\n",
    "\n",
    "# Saxe imports\n",
    "import sys\n",
    "sys.path.insert(0, '../estimators')\n",
    "import utils\n",
    "import kde\n",
    "import simplebinmi"
   ]
  },
  {
   "cell_type": "code",
   "execution_count": 4,
   "metadata": {},
   "outputs": [],
   "source": [
    "def load_obj(name):\n",
    "    with open('../training_files/' + name + '.pkl', 'rb') as f:\n",
    "        return pickle.load(f)"
   ]
  },
  {
   "cell_type": "markdown",
   "metadata": {},
   "source": [
    "## Auxiliary functions for KDE estimator"
   ]
  },
  {
   "cell_type": "code",
   "execution_count": 27,
   "metadata": {},
   "outputs": [],
   "source": [
    "# Functions to return upper and lower bounds on entropy of layer activity\n",
    "noise_variance = 0.001                    # Added Gaussian noise variance\n",
    "binsize = 0.07                           # size of bins for binning method\n",
    "Klayer_activity = K.placeholder(ndim=2)  # Keras placeholder \n",
    "entropy_func_upper = K.function([Klayer_activity,], [kde.entropy_estimator_kl(Klayer_activity, noise_variance),])\n",
    "entropy_func_lower = K.function([Klayer_activity,], [kde.entropy_estimator_bd(Klayer_activity, noise_variance),])\n",
    "\n",
    "# nats to bits conversion factor\n",
    "nats2bits = 1.0/np.log(2) "
   ]
  },
  {
   "cell_type": "code",
   "execution_count": 28,
   "metadata": {},
   "outputs": [],
   "source": [
    "# Which measure to plot\n",
    "infoplane_measure = 'upper'\n",
    "# infoplane_measure = 'bin'\n",
    "\n",
    "DO_SAVE        = False    # Whether to save plots or just show them\n",
    "DO_LOWER       = (infoplane_measure == 'lower')   # Whether to compute lower bounds also\n",
    "DO_BINNED      = (infoplane_measure == 'bin')     # Whether to compute MI estimates based on binning"
   ]
  },
  {
   "cell_type": "code",
   "execution_count": 29,
   "metadata": {},
   "outputs": [],
   "source": [
    "DO_BINNED = True"
   ]
  },
  {
   "cell_type": "code",
   "execution_count": 30,
   "metadata": {},
   "outputs": [
    {
     "data": {
      "text/plain": [
       "False"
      ]
     },
     "execution_count": 30,
     "metadata": {},
     "output_type": "execute_result"
    }
   ],
   "source": [
    "DO_LOWER"
   ]
  },
  {
   "cell_type": "markdown",
   "metadata": {},
   "source": [
    "## Training information"
   ]
  },
  {
   "cell_type": "code",
   "execution_count": 31,
   "metadata": {},
   "outputs": [],
   "source": [
    "training_info = load_obj('tishby_mini_batch')"
   ]
  },
  {
   "cell_type": "code",
   "execution_count": 32,
   "metadata": {},
   "outputs": [
    {
     "data": {
      "text/plain": [
       "array([[ 0.64719546, -0.6079885 ,  0.62864053, ..., -0.59245956,\n",
       "         0.59206045, -0.59471905],\n",
       "       [ 0.5736202 , -0.38818425,  0.33562163, ..., -0.5499551 ,\n",
       "         0.49342132, -0.4509977 ],\n",
       "       [ 0.64948815, -0.6022598 ,  0.42514387, ..., -0.59783626,\n",
       "         0.52163357, -0.4668715 ],\n",
       "       ...,\n",
       "       [ 0.17777555, -0.11214931, -0.03606335, ..., -0.00677286,\n",
       "        -0.13047618,  0.0683858 ],\n",
       "       [ 0.21544594, -0.13877726,  0.03683   , ..., -0.06037788,\n",
       "         0.09243107, -0.05643332],\n",
       "       [ 0.16430737, -0.05883084, -0.09026248, ..., -0.02941585,\n",
       "        -0.03306366,  0.08125909]], dtype=float32)"
      ]
     },
     "execution_count": 32,
     "metadata": {},
     "output_type": "execute_result"
    }
   ],
   "source": [
    "training_info['data'][0]['activity'][0]"
   ]
  },
  {
   "cell_type": "code",
   "execution_count": 33,
   "metadata": {},
   "outputs": [
    {
     "data": {
      "text/plain": [
       "array([[-0.16981071, -0.9864133 ,  0.9614794 , ..., -0.6254384 ,\n",
       "        -0.91349876, -0.2097207 ],\n",
       "       [-0.37871858, -0.22814746, -0.05718809, ...,  0.21727121,\n",
       "         0.9684922 , -0.9966788 ],\n",
       "       [ 0.85316086, -0.9957581 , -0.9684683 , ..., -0.42137504,\n",
       "        -0.96286106,  0.58115625],\n",
       "       ...,\n",
       "       [-0.5352886 ,  0.0519235 ,  0.5232204 , ..., -0.82524776,\n",
       "         0.3110521 ,  0.5700306 ],\n",
       "       [ 0.7109043 , -0.9938832 , -0.2942953 , ..., -0.94109803,\n",
       "        -0.99920094, -0.686349  ],\n",
       "       [ 0.9675788 ,  0.03536168, -0.9898136 , ..., -0.30063117,\n",
       "         0.68157494, -0.99956757]], dtype=float32)"
      ]
     },
     "execution_count": 33,
     "metadata": {},
     "output_type": "execute_result"
    }
   ],
   "source": [
    "training_info['data'][1199]['activity'][0]"
   ]
  },
  {
   "cell_type": "code",
   "execution_count": 34,
   "metadata": {},
   "outputs": [
    {
     "data": {
      "text/plain": [
       "array([[0.48823413, 0.5117659 ],\n",
       "       [0.48872674, 0.5112733 ],\n",
       "       [0.48832694, 0.51167303],\n",
       "       ...,\n",
       "       [0.5000002 , 0.4999998 ],\n",
       "       [0.5000001 , 0.4999999 ],\n",
       "       [0.5000004 , 0.49999964]], dtype=float32)"
      ]
     },
     "execution_count": 34,
     "metadata": {},
     "output_type": "execute_result"
    }
   ],
   "source": [
    "training_info['data'][0]['activity'][-1]"
   ]
  },
  {
   "cell_type": "code",
   "execution_count": 35,
   "metadata": {},
   "outputs": [
    {
     "data": {
      "text/plain": [
       "array([[9.9999994e-01, 6.9436510e-08],\n",
       "       [9.9999994e-01, 3.2231164e-08],\n",
       "       [9.9999994e-01, 3.2230613e-08],\n",
       "       ...,\n",
       "       [9.9999994e-01, 3.2555040e-08],\n",
       "       [2.4793321e-08, 1.0000000e+00],\n",
       "       [2.4803445e-08, 1.0000000e+00]], dtype=float32)"
      ]
     },
     "execution_count": 35,
     "metadata": {},
     "output_type": "execute_result"
    }
   ],
   "source": [
    "training_info['data'][1199]['activity'][-1]"
   ]
  },
  {
   "cell_type": "markdown",
   "metadata": {},
   "source": [
    "## Input data"
   ]
  },
  {
   "cell_type": "code",
   "execution_count": 10,
   "metadata": {},
   "outputs": [],
   "source": [
    "train, test = utils.get_IB_data('2017_12_21_16_51_3_275766')"
   ]
  },
  {
   "cell_type": "code",
   "execution_count": 11,
   "metadata": {},
   "outputs": [
    {
     "data": {
      "text/plain": [
       "array([[0, 0, 0, ..., 1, 1, 1],\n",
       "       [0, 1, 0, ..., 0, 0, 1],\n",
       "       [1, 1, 0, ..., 0, 1, 0],\n",
       "       ...,\n",
       "       [0, 1, 0, ..., 0, 0, 1],\n",
       "       [1, 0, 0, ..., 1, 1, 1],\n",
       "       [0, 0, 0, ..., 1, 1, 1]], dtype=uint8)"
      ]
     },
     "execution_count": 11,
     "metadata": {},
     "output_type": "execute_result"
    }
   ],
   "source": [
    "train.X"
   ]
  },
  {
   "cell_type": "code",
   "execution_count": 17,
   "metadata": {},
   "outputs": [
    {
     "data": {
      "text/plain": [
       "(3277, 12)"
      ]
     },
     "execution_count": 17,
     "metadata": {},
     "output_type": "execute_result"
    }
   ],
   "source": [
    "train.X.shape"
   ]
  },
  {
   "cell_type": "code",
   "execution_count": 18,
   "metadata": {},
   "outputs": [
    {
     "data": {
      "text/plain": [
       "array([[0., 1.],\n",
       "       [1., 0.],\n",
       "       [0., 1.],\n",
       "       ...,\n",
       "       [1., 0.],\n",
       "       [0., 1.],\n",
       "       [1., 0.]], dtype=float32)"
      ]
     },
     "execution_count": 18,
     "metadata": {},
     "output_type": "execute_result"
    }
   ],
   "source": [
    "train.Y"
   ]
  },
  {
   "cell_type": "code",
   "execution_count": 19,
   "metadata": {},
   "outputs": [
    {
     "data": {
      "text/plain": [
       "(3277, 2)"
      ]
     },
     "execution_count": 19,
     "metadata": {},
     "output_type": "execute_result"
    }
   ],
   "source": [
    "train.Y.shape"
   ]
  },
  {
   "cell_type": "code",
   "execution_count": 20,
   "metadata": {},
   "outputs": [
    {
     "data": {
      "text/plain": [
       "array([1, 0, 1, ..., 0, 1, 0], dtype=uint8)"
      ]
     },
     "execution_count": 20,
     "metadata": {},
     "output_type": "execute_result"
    }
   ],
   "source": [
    "train.y"
   ]
  },
  {
   "cell_type": "code",
   "execution_count": 21,
   "metadata": {},
   "outputs": [
    {
     "data": {
      "text/plain": [
       "(3277,)"
      ]
     },
     "execution_count": 21,
     "metadata": {},
     "output_type": "execute_result"
    }
   ],
   "source": [
    "train.y.shape"
   ]
  },
  {
   "cell_type": "markdown",
   "metadata": {},
   "source": [
    "### Label dictionary `saved_labelixs` "
   ]
  },
  {
   "cell_type": "code",
   "execution_count": 22,
   "metadata": {},
   "outputs": [],
   "source": [
    "# Save indexes of tests data for each of the output classes\n",
    "saved_labelixs = {}\n",
    "FULL_MI = False\n",
    "NUM_LABELS = 2\n",
    "\n",
    "y = train.y\n",
    "Y = train.Y\n",
    "\n",
    "#y = test.y\n",
    "#Y = test.Y\n",
    "\n",
    "if FULL_MI:\n",
    "    full = utils.construct_full_dataset(train,test)\n",
    "    y = full.y\n",
    "    Y = full.Y\n",
    "\n",
    "for i in range(NUM_LABELS):\n",
    "    saved_labelixs[i] = y == i\n",
    "\n",
    "labelprobs = np.mean(Y, axis=0)"
   ]
  },
  {
   "cell_type": "code",
   "execution_count": 23,
   "metadata": {},
   "outputs": [
    {
     "data": {
      "text/plain": [
       "array([0.48672566, 0.5132743 ], dtype=float32)"
      ]
     },
     "execution_count": 23,
     "metadata": {},
     "output_type": "execute_result"
    }
   ],
   "source": [
    "labelprobs"
   ]
  },
  {
   "cell_type": "markdown",
   "metadata": {},
   "source": [
    "## Computing MI"
   ]
  },
  {
   "cell_type": "code",
   "execution_count": 36,
   "metadata": {},
   "outputs": [
    {
     "data": {
      "text/plain": [
       "dict_keys(['epoch', 'loss', 'loss_gen', 'data'])"
      ]
     },
     "execution_count": 36,
     "metadata": {},
     "output_type": "execute_result"
    }
   ],
   "source": [
    "training_info.keys()"
   ]
  },
  {
   "cell_type": "code",
   "execution_count": 37,
   "metadata": {},
   "outputs": [
    {
     "data": {
      "text/plain": [
       "1200"
      ]
     },
     "execution_count": 37,
     "metadata": {},
     "output_type": "execute_result"
    }
   ],
   "source": [
    "len(training_info['data'])"
   ]
  },
  {
   "cell_type": "code",
   "execution_count": 38,
   "metadata": {},
   "outputs": [
    {
     "data": {
      "text/plain": [
       "1200"
      ]
     },
     "execution_count": 38,
     "metadata": {},
     "output_type": "execute_result"
    }
   ],
   "source": [
    "len(training_info['data'])"
   ]
  },
  {
   "cell_type": "code",
   "execution_count": 39,
   "metadata": {},
   "outputs": [
    {
     "data": {
      "text/plain": [
       "array([[9.9999994e-01, 6.9436510e-08],\n",
       "       [9.9999994e-01, 3.2231164e-08],\n",
       "       [9.9999994e-01, 3.2230613e-08],\n",
       "       ...,\n",
       "       [9.9999994e-01, 3.2555040e-08],\n",
       "       [2.4793321e-08, 1.0000000e+00],\n",
       "       [2.4803445e-08, 1.0000000e+00]], dtype=float32)"
      ]
     },
     "execution_count": 39,
     "metadata": {},
     "output_type": "execute_result"
    }
   ],
   "source": [
    "activity = training_info['data'][1199]['activity'][5]\n",
    "activity"
   ]
  },
  {
   "cell_type": "markdown",
   "metadata": {},
   "source": [
    "### Take a look to full batch and compare"
   ]
  },
  {
   "cell_type": "code",
   "execution_count": 48,
   "metadata": {},
   "outputs": [],
   "source": [
    "training_info_full = load_obj('tishby_epoch_8000_loss_019906')"
   ]
  },
  {
   "cell_type": "code",
   "execution_count": 50,
   "metadata": {},
   "outputs": [
    {
     "data": {
      "text/plain": [
       "array([[0.00944319, 0.99055684],\n",
       "       [0.5042464 , 0.49575353],\n",
       "       [0.07286023, 0.92713976],\n",
       "       ...,\n",
       "       [0.98710144, 0.01289854],\n",
       "       [0.0158016 , 0.9841984 ],\n",
       "       [0.98747414, 0.01252583]], dtype=float32)"
      ]
     },
     "execution_count": 50,
     "metadata": {},
     "output_type": "execute_result"
    }
   ],
   "source": [
    "activity_full = training_info_full['data'][7999]['activity'][5]\n",
    "activity_full"
   ]
  },
  {
   "cell_type": "code",
   "execution_count": 53,
   "metadata": {},
   "outputs": [
    {
     "name": "stdout",
     "output_type": "stream",
     "text": [
      "3277\n",
      "3277\n"
     ]
    }
   ],
   "source": [
    "print(len(activity))\n",
    "print(len(activity_full))"
   ]
  },
  {
   "cell_type": "code",
   "execution_count": 55,
   "metadata": {},
   "outputs": [
    {
     "data": {
      "text/plain": [
       "array([[0., 1.],\n",
       "       [1., 0.],\n",
       "       [0., 1.],\n",
       "       ...,\n",
       "       [0., 1.],\n",
       "       [1., 0.],\n",
       "       [0., 1.]], dtype=float32)"
      ]
     },
     "execution_count": 55,
     "metadata": {},
     "output_type": "execute_result"
    }
   ],
   "source": [
    "np.rint(activity)"
   ]
  },
  {
   "cell_type": "code",
   "execution_count": 59,
   "metadata": {},
   "outputs": [
    {
     "data": {
      "text/plain": [
       "array([1595., 1682.], dtype=float32)"
      ]
     },
     "execution_count": 59,
     "metadata": {},
     "output_type": "execute_result"
    }
   ],
   "source": [
    "np.sum(np.rint(activity), axis=0)"
   ]
  },
  {
   "cell_type": "code",
   "execution_count": 60,
   "metadata": {},
   "outputs": [
    {
     "data": {
      "text/plain": [
       "array([1565., 1712.], dtype=float32)"
      ]
     },
     "execution_count": 60,
     "metadata": {},
     "output_type": "execute_result"
    }
   ],
   "source": [
    "np.sum(np.rint(activity_full), axis=0)"
   ]
  },
  {
   "cell_type": "markdown",
   "metadata": {},
   "source": [
    "### Calculating for the last layer and last epoch"
   ]
  },
  {
   "cell_type": "code",
   "execution_count": 61,
   "metadata": {},
   "outputs": [
    {
     "data": {
      "text/plain": [
       "-3.3770828"
      ]
     },
     "execution_count": 61,
     "metadata": {},
     "output_type": "execute_result"
    }
   ],
   "source": [
    "h_upper = entropy_func_upper([activity, ])[0]\n",
    "h_upper"
   ]
  },
  {
   "cell_type": "code",
   "execution_count": 63,
   "metadata": {},
   "outputs": [
    {
     "data": {
      "text/plain": [
       "-1.9186409"
      ]
     },
     "execution_count": 63,
     "metadata": {},
     "output_type": "execute_result"
    }
   ],
   "source": [
    "h_upper = entropy_func_upper([activity_full, ])[0]\n",
    "h_upper"
   ]
  },
  {
   "cell_type": "code",
   "execution_count": 42,
   "metadata": {},
   "outputs": [
    {
     "name": "stdout",
     "output_type": "stream",
     "text": [
      "-3.3770614\n",
      "0.48672566\n",
      "[False  True False ...  True False  True]\n",
      "---------\n",
      "-3.3771057\n",
      "0.5132743\n",
      "[ True False  True ... False  True False]\n",
      "---------\n"
     ]
    }
   ],
   "source": [
    "hM_given_Y_upper= 0.0\n",
    "NUM_LABELS = 2\n",
    "for i in range(NUM_LABELS):\n",
    "    hcond_upper = entropy_func_upper([activity[saved_labelixs[i],:],])[0]\n",
    "    print(hcond_upper)\n",
    "    print(labelprobs[i])\n",
    "    print(saved_labelixs[i])\n",
    "    print('---------')\n",
    "    hM_given_Y_upper += labelprobs[i] * hcond_upper"
   ]
  },
  {
   "cell_type": "code",
   "execution_count": 64,
   "metadata": {},
   "outputs": [
    {
     "name": "stdout",
     "output_type": "stream",
     "text": [
      "-2.425697\n",
      "0.48672566\n",
      "[False  True False ...  True False  True]\n",
      "---------\n",
      "-2.436992\n",
      "0.5132743\n",
      "[ True False  True ... False  True False]\n",
      "---------\n"
     ]
    }
   ],
   "source": [
    "hM_given_Y_upper= 0.0\n",
    "NUM_LABELS = 2\n",
    "for i in range(NUM_LABELS):\n",
    "    hcond_upper = entropy_func_upper([activity_full[saved_labelixs[i],:],])[0]\n",
    "    print(hcond_upper)\n",
    "    print(labelprobs[i])\n",
    "    print(saved_labelixs[i])\n",
    "    print('---------')\n",
    "    hM_given_Y_upper += labelprobs[i] * hcond_upper"
   ]
  },
  {
   "cell_type": "code",
   "execution_count": 65,
   "metadata": {},
   "outputs": [
    {
     "data": {
      "text/plain": [
       "-2.431494355201721"
      ]
     },
     "execution_count": 65,
     "metadata": {},
     "output_type": "execute_result"
    }
   ],
   "source": [
    "hM_given_Y_upper"
   ]
  },
  {
   "cell_type": "code",
   "execution_count": 66,
   "metadata": {},
   "outputs": [
    {
     "data": {
      "text/plain": [
       "0.5128535032272339"
      ]
     },
     "execution_count": 66,
     "metadata": {},
     "output_type": "execute_result"
    }
   ],
   "source": [
    "h_upper - hM_given_Y_upper"
   ]
  },
  {
   "cell_type": "code",
   "execution_count": 45,
   "metadata": {},
   "outputs": [
    {
     "name": "stdout",
     "output_type": "stream",
     "text": [
      "---- EPOCH 0\n",
      "- Layer 0 upper: MI(X;M)=11.659, MI(Y;M)=0.990 | bin: MI(X;M)=11.675, MI(Y;M)=0.997\n",
      "- Layer 1 upper: MI(X;M)=4.289, MI(Y;M)=0.012 | bin: MI(X;M)=6.250, MI(Y;M)=0.068\n",
      "- Layer 2 upper: MI(X;M)=2.684, MI(Y;M)=0.002 | bin: MI(X;M)=3.796, MI(Y;M)=0.009\n",
      "- Layer 3 upper: MI(X;M)=1.731, MI(Y;M)=0.001 | bin: MI(X;M)=2.764, MI(Y;M)=0.004\n",
      "- Layer 4 upper: MI(X;M)=0.516, MI(Y;M)=0.000 | bin: MI(X;M)=1.103, MI(Y;M)=0.001\n",
      "- Layer 5 upper: MI(X;M)=0.057, MI(Y;M)=0.000 | bin: MI(X;M)=0.283, MI(Y;M)=0.000\n",
      "---- EPOCH 20\n",
      "- Layer 0 upper: MI(X;M)=11.641, MI(Y;M)=0.980 | bin: MI(X;M)=11.671, MI(Y;M)=0.996\n",
      "- Layer 1 upper: MI(X;M)=4.580, MI(Y;M)=0.010 | bin: MI(X;M)=5.714, MI(Y;M)=0.082\n",
      "- Layer 2 upper: MI(X;M)=4.416, MI(Y;M)=0.008 | bin: MI(X;M)=4.863, MI(Y;M)=0.022\n",
      "- Layer 3 upper: MI(X;M)=4.370, MI(Y;M)=0.007 | bin: MI(X;M)=4.728, MI(Y;M)=0.014\n",
      "- Layer 4 upper: MI(X;M)=4.484, MI(Y;M)=0.007 | bin: MI(X;M)=4.684, MI(Y;M)=0.019\n",
      "- Layer 5 upper: MI(X;M)=3.041, MI(Y;M)=0.002 | bin: MI(X;M)=3.628, MI(Y;M)=0.005\n",
      "---- EPOCH 40\n",
      "- Layer 0 upper: MI(X;M)=11.676, MI(Y;M)=0.998 | bin: MI(X;M)=11.678, MI(Y;M)=0.999\n",
      "- Layer 1 upper: MI(X;M)=5.090, MI(Y;M)=0.018 | bin: MI(X;M)=6.199, MI(Y;M)=0.103\n",
      "- Layer 2 upper: MI(X;M)=4.294, MI(Y;M)=0.008 | bin: MI(X;M)=4.699, MI(Y;M)=0.020\n",
      "- Layer 3 upper: MI(X;M)=4.197, MI(Y;M)=0.006 | bin: MI(X;M)=4.626, MI(Y;M)=0.012\n",
      "- Layer 4 upper: MI(X;M)=4.514, MI(Y;M)=0.007 | bin: MI(X;M)=4.735, MI(Y;M)=0.015\n",
      "- Layer 5 upper: MI(X;M)=3.145, MI(Y;M)=0.004 | bin: MI(X;M)=3.697, MI(Y;M)=0.005\n",
      "---- EPOCH 60\n",
      "- Layer 0 upper: MI(X;M)=11.677, MI(Y;M)=0.999 | bin: MI(X;M)=11.678, MI(Y;M)=0.999\n",
      "- Layer 1 upper: MI(X;M)=7.201, MI(Y;M)=0.078 | bin: MI(X;M)=8.597, MI(Y;M)=0.226\n",
      "- Layer 2 upper: MI(X;M)=4.854, MI(Y;M)=0.010 | bin: MI(X;M)=5.323, MI(Y;M)=0.034\n",
      "- Layer 3 upper: MI(X;M)=4.703, MI(Y;M)=0.008 | bin: MI(X;M)=5.240, MI(Y;M)=0.016\n",
      "- Layer 4 upper: MI(X;M)=5.118, MI(Y;M)=0.011 | bin: MI(X;M)=5.226, MI(Y;M)=0.016\n",
      "- Layer 5 upper: MI(X;M)=3.479, MI(Y;M)=0.005 | bin: MI(X;M)=3.974, MI(Y;M)=0.006\n",
      "---- EPOCH 80\n",
      "- Layer 0 upper: MI(X;M)=11.678, MI(Y;M)=0.999 | bin: MI(X;M)=11.678, MI(Y;M)=0.999\n",
      "- Layer 1 upper: MI(X;M)=8.474, MI(Y;M)=0.185 | bin: MI(X;M)=9.710, MI(Y;M)=0.381\n",
      "- Layer 2 upper: MI(X;M)=4.860, MI(Y;M)=0.008 | bin: MI(X;M)=5.493, MI(Y;M)=0.038\n",
      "- Layer 3 upper: MI(X;M)=4.699, MI(Y;M)=0.006 | bin: MI(X;M)=5.177, MI(Y;M)=0.016\n",
      "- Layer 4 upper: MI(X;M)=5.065, MI(Y;M)=0.008 | bin: MI(X;M)=5.152, MI(Y;M)=0.018\n",
      "- Layer 5 upper: MI(X;M)=3.326, MI(Y;M)=0.005 | bin: MI(X;M)=3.794, MI(Y;M)=0.006\n",
      "---- EPOCH 100\n",
      "- Layer 0 upper: MI(X;M)=11.678, MI(Y;M)=0.999 | bin: MI(X;M)=11.678, MI(Y;M)=0.999\n",
      "- Layer 1 upper: MI(X;M)=9.427, MI(Y;M)=0.337 | bin: MI(X;M)=10.403, MI(Y;M)=0.568\n",
      "- Layer 2 upper: MI(X;M)=4.884, MI(Y;M)=0.011 | bin: MI(X;M)=5.647, MI(Y;M)=0.041\n",
      "- Layer 3 upper: MI(X;M)=4.693, MI(Y;M)=0.009 | bin: MI(X;M)=5.126, MI(Y;M)=0.019\n",
      "- Layer 4 upper: MI(X;M)=5.119, MI(Y;M)=0.010 | bin: MI(X;M)=5.226, MI(Y;M)=0.018\n",
      "- Layer 5 upper: MI(X;M)=3.219, MI(Y;M)=0.005 | bin: MI(X;M)=3.659, MI(Y;M)=0.010\n",
      "---- EPOCH 120\n",
      "- Layer 0 upper: MI(X;M)=11.678, MI(Y;M)=0.999 | bin: MI(X;M)=11.678, MI(Y;M)=0.999\n",
      "- Layer 1 upper: MI(X;M)=9.861, MI(Y;M)=0.431 | bin: MI(X;M)=10.675, MI(Y;M)=0.630\n",
      "- Layer 2 upper: MI(X;M)=4.899, MI(Y;M)=0.013 | bin: MI(X;M)=5.735, MI(Y;M)=0.046\n",
      "- Layer 3 upper: MI(X;M)=4.665, MI(Y;M)=0.010 | bin: MI(X;M)=5.056, MI(Y;M)=0.015\n",
      "- Layer 4 upper: MI(X;M)=5.138, MI(Y;M)=0.010 | bin: MI(X;M)=5.295, MI(Y;M)=0.014\n",
      "- Layer 5 upper: MI(X;M)=3.191, MI(Y;M)=0.004 | bin: MI(X;M)=3.611, MI(Y;M)=0.003\n",
      "---- EPOCH 140\n",
      "- Layer 0 upper: MI(X;M)=11.678, MI(Y;M)=0.999 | bin: MI(X;M)=11.678, MI(Y;M)=0.999\n",
      "- Layer 1 upper: MI(X;M)=10.132, MI(Y;M)=0.495 | bin: MI(X;M)=10.838, MI(Y;M)=0.674\n",
      "- Layer 2 upper: MI(X;M)=4.974, MI(Y;M)=0.011 | bin: MI(X;M)=5.835, MI(Y;M)=0.045\n",
      "- Layer 3 upper: MI(X;M)=4.751, MI(Y;M)=0.008 | bin: MI(X;M)=5.065, MI(Y;M)=0.016\n",
      "- Layer 4 upper: MI(X;M)=5.186, MI(Y;M)=0.010 | bin: MI(X;M)=5.318, MI(Y;M)=0.020\n",
      "- Layer 5 upper: MI(X;M)=3.015, MI(Y;M)=0.006 | bin: MI(X;M)=3.421, MI(Y;M)=0.008\n",
      "---- EPOCH 160\n",
      "- Layer 0 upper: MI(X;M)=11.678, MI(Y;M)=0.999 | bin: MI(X;M)=11.678, MI(Y;M)=0.999\n",
      "- Layer 1 upper: MI(X;M)=10.276, MI(Y;M)=0.531 | bin: MI(X;M)=10.913, MI(Y;M)=0.711\n",
      "- Layer 2 upper: MI(X;M)=5.107, MI(Y;M)=0.013 | bin: MI(X;M)=5.953, MI(Y;M)=0.047\n",
      "- Layer 3 upper: MI(X;M)=4.825, MI(Y;M)=0.009 | bin: MI(X;M)=5.113, MI(Y;M)=0.017\n",
      "- Layer 4 upper: MI(X;M)=5.169, MI(Y;M)=0.010 | bin: MI(X;M)=5.372, MI(Y;M)=0.013\n",
      "- Layer 5 upper: MI(X;M)=3.047, MI(Y;M)=0.004 | bin: MI(X;M)=3.438, MI(Y;M)=0.006\n",
      "---- EPOCH 180\n",
      "- Layer 0 upper: MI(X;M)=11.678, MI(Y;M)=0.999 | bin: MI(X;M)=11.678, MI(Y;M)=0.999\n",
      "- Layer 1 upper: MI(X;M)=10.260, MI(Y;M)=0.519 | bin: MI(X;M)=10.921, MI(Y;M)=0.699\n",
      "- Layer 2 upper: MI(X;M)=5.132, MI(Y;M)=0.014 | bin: MI(X;M)=5.922, MI(Y;M)=0.050\n",
      "- Layer 3 upper: MI(X;M)=4.845, MI(Y;M)=0.009 | bin: MI(X;M)=5.085, MI(Y;M)=0.022\n",
      "- Layer 4 upper: MI(X;M)=5.164, MI(Y;M)=0.009 | bin: MI(X;M)=5.317, MI(Y;M)=0.016\n",
      "- Layer 5 upper: MI(X;M)=2.968, MI(Y;M)=0.004 | bin: MI(X;M)=3.345, MI(Y;M)=0.005\n",
      "---- EPOCH 200\n",
      "- Layer 0 upper: MI(X;M)=11.678, MI(Y;M)=0.999 | bin: MI(X;M)=11.678, MI(Y;M)=0.999\n",
      "- Layer 1 upper: MI(X;M)=10.364, MI(Y;M)=0.552 | bin: MI(X;M)=10.992, MI(Y;M)=0.746\n",
      "- Layer 2 upper: MI(X;M)=5.202, MI(Y;M)=0.014 | bin: MI(X;M)=5.991, MI(Y;M)=0.040\n",
      "- Layer 3 upper: MI(X;M)=4.917, MI(Y;M)=0.010 | bin: MI(X;M)=5.108, MI(Y;M)=0.020\n",
      "- Layer 4 upper: MI(X;M)=5.171, MI(Y;M)=0.010 | bin: MI(X;M)=5.330, MI(Y;M)=0.020\n",
      "- Layer 5 upper: MI(X;M)=2.900, MI(Y;M)=0.005 | bin: MI(X;M)=3.259, MI(Y;M)=0.005\n",
      "---- EPOCH 220\n",
      "- Layer 0 upper: MI(X;M)=11.677, MI(Y;M)=0.999 | bin: MI(X;M)=11.678, MI(Y;M)=0.999\n",
      "- Layer 1 upper: MI(X;M)=10.653, MI(Y;M)=0.625 | bin: MI(X;M)=11.165, MI(Y;M)=0.794\n",
      "- Layer 2 upper: MI(X;M)=5.294, MI(Y;M)=0.020 | bin: MI(X;M)=6.068, MI(Y;M)=0.055\n",
      "- Layer 3 upper: MI(X;M)=4.974, MI(Y;M)=0.014 | bin: MI(X;M)=5.120, MI(Y;M)=0.019\n",
      "- Layer 4 upper: MI(X;M)=5.141, MI(Y;M)=0.014 | bin: MI(X;M)=5.333, MI(Y;M)=0.023\n",
      "- Layer 5 upper: MI(X;M)=2.889, MI(Y;M)=0.005 | bin: MI(X;M)=3.251, MI(Y;M)=0.006\n",
      "---- EPOCH 240\n",
      "- Layer 0 upper: MI(X;M)=11.678, MI(Y;M)=0.999 | bin: MI(X;M)=11.678, MI(Y;M)=0.999\n",
      "- Layer 1 upper: MI(X;M)=11.398, MI(Y;M)=0.876 | bin: MI(X;M)=11.555, MI(Y;M)=0.947\n",
      "- Layer 2 upper: MI(X;M)=5.708, MI(Y;M)=0.019 | bin: MI(X;M)=6.673, MI(Y;M)=0.059\n",
      "- Layer 3 upper: MI(X;M)=5.019, MI(Y;M)=0.008 | bin: MI(X;M)=5.101, MI(Y;M)=0.017\n",
      "- Layer 4 upper: MI(X;M)=5.191, MI(Y;M)=0.008 | bin: MI(X;M)=5.367, MI(Y;M)=0.013\n",
      "- Layer 5 upper: MI(X;M)=2.771, MI(Y;M)=0.004 | bin: MI(X;M)=3.089, MI(Y;M)=0.005\n",
      "---- EPOCH 260\n",
      "- Layer 0 upper: MI(X;M)=11.678, MI(Y;M)=0.999 | bin: MI(X;M)=11.678, MI(Y;M)=0.999\n",
      "- Layer 1 upper: MI(X;M)=11.425, MI(Y;M)=0.881 | bin: MI(X;M)=11.553, MI(Y;M)=0.937\n",
      "- Layer 2 upper: MI(X;M)=5.961, MI(Y;M)=0.021 | bin: MI(X;M)=6.936, MI(Y;M)=0.071\n",
      "- Layer 3 upper: MI(X;M)=5.114, MI(Y;M)=0.007 | bin: MI(X;M)=5.182, MI(Y;M)=0.016\n",
      "- Layer 4 upper: MI(X;M)=5.192, MI(Y;M)=0.007 | bin: MI(X;M)=5.339, MI(Y;M)=0.016\n",
      "- Layer 5 upper: MI(X;M)=2.705, MI(Y;M)=0.003 | bin: MI(X;M)=3.023, MI(Y;M)=0.006\n",
      "---- EPOCH 280\n",
      "- Layer 0 upper: MI(X;M)=11.678, MI(Y;M)=0.999 | bin: MI(X;M)=11.678, MI(Y;M)=0.999\n",
      "- Layer 1 upper: MI(X;M)=11.469, MI(Y;M)=0.898 | bin: MI(X;M)=11.582, MI(Y;M)=0.951\n",
      "- Layer 2 upper: MI(X;M)=6.082, MI(Y;M)=0.027 | bin: MI(X;M)=7.019, MI(Y;M)=0.076\n",
      "- Layer 3 upper: MI(X;M)=5.193, MI(Y;M)=0.014 | bin: MI(X;M)=5.215, MI(Y;M)=0.023\n",
      "- Layer 4 upper: MI(X;M)=5.250, MI(Y;M)=0.012 | bin: MI(X;M)=5.380, MI(Y;M)=0.016\n",
      "- Layer 5 upper: MI(X;M)=2.474, MI(Y;M)=0.006 | bin: MI(X;M)=2.749, MI(Y;M)=0.007\n",
      "---- EPOCH 300\n",
      "- Layer 0 upper: MI(X;M)=11.676, MI(Y;M)=0.999 | bin: MI(X;M)=11.678, MI(Y;M)=0.999\n",
      "- Layer 1 upper: MI(X;M)=11.398, MI(Y;M)=0.869 | bin: MI(X;M)=11.542, MI(Y;M)=0.934\n",
      "- Layer 2 upper: MI(X;M)=6.229, MI(Y;M)=0.029 | bin: MI(X;M)=7.287, MI(Y;M)=0.089\n",
      "- Layer 3 upper: MI(X;M)=5.320, MI(Y;M)=0.012 | bin: MI(X;M)=5.340, MI(Y;M)=0.021\n",
      "- Layer 4 upper: MI(X;M)=5.207, MI(Y;M)=0.012 | bin: MI(X;M)=5.255, MI(Y;M)=0.022\n",
      "- Layer 5 upper: MI(X;M)=2.127, MI(Y;M)=0.004 | bin: MI(X;M)=2.358, MI(Y;M)=0.006\n",
      "---- EPOCH 320\n",
      "- Layer 0 upper: MI(X;M)=11.675, MI(Y;M)=0.998 | bin: MI(X;M)=11.678, MI(Y;M)=0.999\n",
      "- Layer 1 upper: MI(X;M)=11.438, MI(Y;M)=0.890 | bin: MI(X;M)=11.582, MI(Y;M)=0.955\n",
      "- Layer 2 upper: MI(X;M)=6.346, MI(Y;M)=0.032 | bin: MI(X;M)=7.399, MI(Y;M)=0.091\n",
      "- Layer 3 upper: MI(X;M)=5.366, MI(Y;M)=0.012 | bin: MI(X;M)=5.355, MI(Y;M)=0.026\n"
     ]
    },
    {
     "name": "stdout",
     "output_type": "stream",
     "text": [
      "- Layer 4 upper: MI(X;M)=5.162, MI(Y;M)=0.011 | bin: MI(X;M)=5.202, MI(Y;M)=0.021\n",
      "- Layer 5 upper: MI(X;M)=2.088, MI(Y;M)=0.004 | bin: MI(X;M)=2.300, MI(Y;M)=0.005\n",
      "---- EPOCH 340\n",
      "- Layer 0 upper: MI(X;M)=11.677, MI(Y;M)=0.999 | bin: MI(X;M)=11.678, MI(Y;M)=0.999\n",
      "- Layer 1 upper: MI(X;M)=11.491, MI(Y;M)=0.912 | bin: MI(X;M)=11.596, MI(Y;M)=0.959\n",
      "- Layer 2 upper: MI(X;M)=6.397, MI(Y;M)=0.034 | bin: MI(X;M)=7.460, MI(Y;M)=0.093\n",
      "- Layer 3 upper: MI(X;M)=5.395, MI(Y;M)=0.016 | bin: MI(X;M)=5.408, MI(Y;M)=0.028\n",
      "- Layer 4 upper: MI(X;M)=5.098, MI(Y;M)=0.013 | bin: MI(X;M)=5.151, MI(Y;M)=0.021\n",
      "- Layer 5 upper: MI(X;M)=2.050, MI(Y;M)=0.007 | bin: MI(X;M)=2.275, MI(Y;M)=0.011\n",
      "---- EPOCH 360\n",
      "- Layer 0 upper: MI(X;M)=11.677, MI(Y;M)=0.999 | bin: MI(X;M)=11.678, MI(Y;M)=0.999\n",
      "- Layer 1 upper: MI(X;M)=11.520, MI(Y;M)=0.925 | bin: MI(X;M)=11.614, MI(Y;M)=0.969\n",
      "- Layer 2 upper: MI(X;M)=6.407, MI(Y;M)=0.031 | bin: MI(X;M)=7.388, MI(Y;M)=0.084\n",
      "- Layer 3 upper: MI(X;M)=5.433, MI(Y;M)=0.013 | bin: MI(X;M)=5.412, MI(Y;M)=0.023\n",
      "- Layer 4 upper: MI(X;M)=5.008, MI(Y;M)=0.013 | bin: MI(X;M)=5.051, MI(Y;M)=0.020\n",
      "- Layer 5 upper: MI(X;M)=1.902, MI(Y;M)=0.004 | bin: MI(X;M)=2.082, MI(Y;M)=0.005\n",
      "---- EPOCH 380\n",
      "- Layer 0 upper: MI(X;M)=11.676, MI(Y;M)=0.998 | bin: MI(X;M)=11.678, MI(Y;M)=0.999\n",
      "- Layer 1 upper: MI(X;M)=11.527, MI(Y;M)=0.925 | bin: MI(X;M)=11.613, MI(Y;M)=0.967\n",
      "- Layer 2 upper: MI(X;M)=6.391, MI(Y;M)=0.036 | bin: MI(X;M)=7.461, MI(Y;M)=0.098\n",
      "- Layer 3 upper: MI(X;M)=5.456, MI(Y;M)=0.015 | bin: MI(X;M)=5.435, MI(Y;M)=0.026\n",
      "- Layer 4 upper: MI(X;M)=4.896, MI(Y;M)=0.015 | bin: MI(X;M)=4.862, MI(Y;M)=0.019\n",
      "- Layer 5 upper: MI(X;M)=1.791, MI(Y;M)=0.009 | bin: MI(X;M)=1.947, MI(Y;M)=0.012\n",
      "---- EPOCH 400\n",
      "- Layer 0 upper: MI(X;M)=11.673, MI(Y;M)=0.997 | bin: MI(X;M)=11.677, MI(Y;M)=0.999\n",
      "- Layer 1 upper: MI(X;M)=11.514, MI(Y;M)=0.924 | bin: MI(X;M)=11.604, MI(Y;M)=0.959\n",
      "- Layer 2 upper: MI(X;M)=6.371, MI(Y;M)=0.031 | bin: MI(X;M)=7.397, MI(Y;M)=0.100\n",
      "- Layer 3 upper: MI(X;M)=5.463, MI(Y;M)=0.010 | bin: MI(X;M)=5.432, MI(Y;M)=0.025\n",
      "- Layer 4 upper: MI(X;M)=4.813, MI(Y;M)=0.010 | bin: MI(X;M)=4.780, MI(Y;M)=0.017\n",
      "- Layer 5 upper: MI(X;M)=1.733, MI(Y;M)=0.003 | bin: MI(X;M)=1.883, MI(Y;M)=0.004\n",
      "---- EPOCH 420\n",
      "- Layer 0 upper: MI(X;M)=11.675, MI(Y;M)=0.997 | bin: MI(X;M)=11.678, MI(Y;M)=0.999\n",
      "- Layer 1 upper: MI(X;M)=11.510, MI(Y;M)=0.922 | bin: MI(X;M)=11.598, MI(Y;M)=0.958\n",
      "- Layer 2 upper: MI(X;M)=6.345, MI(Y;M)=0.029 | bin: MI(X;M)=7.303, MI(Y;M)=0.096\n",
      "- Layer 3 upper: MI(X;M)=5.464, MI(Y;M)=0.014 | bin: MI(X;M)=5.414, MI(Y;M)=0.026\n",
      "- Layer 4 upper: MI(X;M)=4.771, MI(Y;M)=0.014 | bin: MI(X;M)=4.699, MI(Y;M)=0.018\n",
      "- Layer 5 upper: MI(X;M)=1.724, MI(Y;M)=0.007 | bin: MI(X;M)=1.862, MI(Y;M)=0.009\n",
      "---- EPOCH 440\n",
      "- Layer 0 upper: MI(X;M)=11.677, MI(Y;M)=0.999 | bin: MI(X;M)=11.678, MI(Y;M)=0.999\n",
      "- Layer 1 upper: MI(X;M)=11.531, MI(Y;M)=0.927 | bin: MI(X;M)=11.616, MI(Y;M)=0.967\n",
      "- Layer 2 upper: MI(X;M)=6.340, MI(Y;M)=0.034 | bin: MI(X;M)=7.266, MI(Y;M)=0.103\n",
      "- Layer 3 upper: MI(X;M)=5.459, MI(Y;M)=0.015 | bin: MI(X;M)=5.452, MI(Y;M)=0.022\n",
      "- Layer 4 upper: MI(X;M)=4.699, MI(Y;M)=0.013 | bin: MI(X;M)=4.573, MI(Y;M)=0.019\n",
      "- Layer 5 upper: MI(X;M)=1.675, MI(Y;M)=0.006 | bin: MI(X;M)=1.836, MI(Y;M)=0.008\n",
      "---- EPOCH 460\n",
      "- Layer 0 upper: MI(X;M)=11.676, MI(Y;M)=0.999 | bin: MI(X;M)=11.678, MI(Y;M)=0.999\n",
      "- Layer 1 upper: MI(X;M)=11.518, MI(Y;M)=0.927 | bin: MI(X;M)=11.606, MI(Y;M)=0.968\n",
      "- Layer 2 upper: MI(X;M)=6.345, MI(Y;M)=0.034 | bin: MI(X;M)=7.264, MI(Y;M)=0.095\n",
      "- Layer 3 upper: MI(X;M)=5.452, MI(Y;M)=0.015 | bin: MI(X;M)=5.430, MI(Y;M)=0.030\n",
      "- Layer 4 upper: MI(X;M)=4.657, MI(Y;M)=0.013 | bin: MI(X;M)=4.597, MI(Y;M)=0.022\n",
      "- Layer 5 upper: MI(X;M)=1.670, MI(Y;M)=0.005 | bin: MI(X;M)=1.812, MI(Y;M)=0.005\n",
      "---- EPOCH 480\n",
      "- Layer 0 upper: MI(X;M)=11.675, MI(Y;M)=0.998 | bin: MI(X;M)=11.678, MI(Y;M)=0.999\n",
      "- Layer 1 upper: MI(X;M)=11.535, MI(Y;M)=0.933 | bin: MI(X;M)=11.613, MI(Y;M)=0.972\n",
      "- Layer 2 upper: MI(X;M)=6.361, MI(Y;M)=0.035 | bin: MI(X;M)=7.254, MI(Y;M)=0.108\n",
      "- Layer 3 upper: MI(X;M)=5.427, MI(Y;M)=0.018 | bin: MI(X;M)=5.405, MI(Y;M)=0.029\n",
      "- Layer 4 upper: MI(X;M)=4.552, MI(Y;M)=0.017 | bin: MI(X;M)=4.452, MI(Y;M)=0.020\n",
      "- Layer 5 upper: MI(X;M)=1.633, MI(Y;M)=0.007 | bin: MI(X;M)=1.775, MI(Y;M)=0.010\n",
      "---- EPOCH 500\n",
      "- Layer 0 upper: MI(X;M)=11.675, MI(Y;M)=0.999 | bin: MI(X;M)=11.677, MI(Y;M)=0.999\n",
      "- Layer 1 upper: MI(X;M)=11.537, MI(Y;M)=0.935 | bin: MI(X;M)=11.618, MI(Y;M)=0.966\n",
      "- Layer 2 upper: MI(X;M)=6.357, MI(Y;M)=0.032 | bin: MI(X;M)=7.249, MI(Y;M)=0.096\n",
      "- Layer 3 upper: MI(X;M)=5.401, MI(Y;M)=0.014 | bin: MI(X;M)=5.355, MI(Y;M)=0.027\n",
      "- Layer 4 upper: MI(X;M)=4.512, MI(Y;M)=0.012 | bin: MI(X;M)=4.464, MI(Y;M)=0.020\n",
      "- Layer 5 upper: MI(X;M)=1.585, MI(Y;M)=0.003 | bin: MI(X;M)=1.722, MI(Y;M)=0.005\n",
      "---- EPOCH 520\n",
      "- Layer 0 upper: MI(X;M)=11.676, MI(Y;M)=0.999 | bin: MI(X;M)=11.678, MI(Y;M)=0.999\n",
      "- Layer 1 upper: MI(X;M)=11.568, MI(Y;M)=0.945 | bin: MI(X;M)=11.634, MI(Y;M)=0.977\n",
      "- Layer 2 upper: MI(X;M)=6.394, MI(Y;M)=0.033 | bin: MI(X;M)=7.269, MI(Y;M)=0.118\n",
      "- Layer 3 upper: MI(X;M)=5.386, MI(Y;M)=0.012 | bin: MI(X;M)=5.329, MI(Y;M)=0.028\n",
      "- Layer 4 upper: MI(X;M)=4.434, MI(Y;M)=0.011 | bin: MI(X;M)=4.246, MI(Y;M)=0.023\n",
      "- Layer 5 upper: MI(X;M)=1.545, MI(Y;M)=0.005 | bin: MI(X;M)=1.664, MI(Y;M)=0.006\n",
      "---- EPOCH 540\n",
      "- Layer 0 upper: MI(X;M)=11.674, MI(Y;M)=0.998 | bin: MI(X;M)=11.676, MI(Y;M)=0.998\n",
      "- Layer 1 upper: MI(X;M)=11.553, MI(Y;M)=0.936 | bin: MI(X;M)=11.622, MI(Y;M)=0.976\n",
      "- Layer 2 upper: MI(X;M)=6.419, MI(Y;M)=0.037 | bin: MI(X;M)=7.377, MI(Y;M)=0.114\n",
      "- Layer 3 upper: MI(X;M)=5.354, MI(Y;M)=0.016 | bin: MI(X;M)=5.324, MI(Y;M)=0.032\n",
      "- Layer 4 upper: MI(X;M)=4.229, MI(Y;M)=0.013 | bin: MI(X;M)=3.959, MI(Y;M)=0.022\n",
      "- Layer 5 upper: MI(X;M)=1.466, MI(Y;M)=0.006 | bin: MI(X;M)=1.561, MI(Y;M)=0.006\n",
      "---- EPOCH 560\n",
      "- Layer 0 upper: MI(X;M)=11.675, MI(Y;M)=0.998 | bin: MI(X;M)=11.676, MI(Y;M)=0.999\n",
      "- Layer 1 upper: MI(X;M)=11.557, MI(Y;M)=0.943 | bin: MI(X;M)=11.624, MI(Y;M)=0.971\n",
      "- Layer 2 upper: MI(X;M)=6.475, MI(Y;M)=0.035 | bin: MI(X;M)=7.384, MI(Y;M)=0.126\n",
      "- Layer 3 upper: MI(X;M)=5.323, MI(Y;M)=0.014 | bin: MI(X;M)=5.298, MI(Y;M)=0.026\n",
      "- Layer 4 upper: MI(X;M)=4.166, MI(Y;M)=0.011 | bin: MI(X;M)=3.846, MI(Y;M)=0.021\n",
      "- Layer 5 upper: MI(X;M)=1.482, MI(Y;M)=0.005 | bin: MI(X;M)=1.588, MI(Y;M)=0.007\n",
      "---- EPOCH 580\n",
      "- Layer 0 upper: MI(X;M)=11.675, MI(Y;M)=0.998 | bin: MI(X;M)=11.676, MI(Y;M)=0.999\n",
      "- Layer 1 upper: MI(X;M)=11.551, MI(Y;M)=0.942 | bin: MI(X;M)=11.619, MI(Y;M)=0.967\n",
      "- Layer 2 upper: MI(X;M)=6.488, MI(Y;M)=0.032 | bin: MI(X;M)=7.398, MI(Y;M)=0.124\n",
      "- Layer 3 upper: MI(X;M)=5.293, MI(Y;M)=0.008 | bin: MI(X;M)=5.284, MI(Y;M)=0.022\n",
      "- Layer 4 upper: MI(X;M)=4.134, MI(Y;M)=0.008 | bin: MI(X;M)=3.838, MI(Y;M)=0.020\n",
      "- Layer 5 upper: MI(X;M)=1.463, MI(Y;M)=0.004 | bin: MI(X;M)=1.550, MI(Y;M)=0.006\n",
      "---- EPOCH 600\n",
      "- Layer 0 upper: MI(X;M)=11.674, MI(Y;M)=0.997 | bin: MI(X;M)=11.678, MI(Y;M)=0.999\n",
      "- Layer 1 upper: MI(X;M)=11.564, MI(Y;M)=0.949 | bin: MI(X;M)=11.624, MI(Y;M)=0.975\n",
      "- Layer 2 upper: MI(X;M)=6.527, MI(Y;M)=0.040 | bin: MI(X;M)=7.360, MI(Y;M)=0.120\n",
      "- Layer 3 upper: MI(X;M)=5.261, MI(Y;M)=0.014 | bin: MI(X;M)=5.262, MI(Y;M)=0.031\n",
      "- Layer 4 upper: MI(X;M)=3.988, MI(Y;M)=0.012 | bin: MI(X;M)=3.651, MI(Y;M)=0.017\n",
      "- Layer 5 upper: MI(X;M)=1.409, MI(Y;M)=0.006 | bin: MI(X;M)=1.513, MI(Y;M)=0.009\n",
      "---- EPOCH 620\n",
      "- Layer 0 upper: MI(X;M)=11.673, MI(Y;M)=0.997 | bin: MI(X;M)=11.676, MI(Y;M)=0.998\n",
      "- Layer 1 upper: MI(X;M)=11.566, MI(Y;M)=0.946 | bin: MI(X;M)=11.615, MI(Y;M)=0.968\n",
      "- Layer 2 upper: MI(X;M)=6.573, MI(Y;M)=0.035 | bin: MI(X;M)=7.455, MI(Y;M)=0.116\n",
      "- Layer 3 upper: MI(X;M)=5.211, MI(Y;M)=0.013 | bin: MI(X;M)=5.193, MI(Y;M)=0.025\n",
      "- Layer 4 upper: MI(X;M)=3.876, MI(Y;M)=0.013 | bin: MI(X;M)=3.652, MI(Y;M)=0.022\n",
      "- Layer 5 upper: MI(X;M)=1.380, MI(Y;M)=0.006 | bin: MI(X;M)=1.473, MI(Y;M)=0.009\n",
      "---- EPOCH 640\n",
      "- Layer 0 upper: MI(X;M)=11.669, MI(Y;M)=0.995 | bin: MI(X;M)=11.674, MI(Y;M)=0.998\n",
      "- Layer 1 upper: MI(X;M)=11.582, MI(Y;M)=0.953 | bin: MI(X;M)=11.637, MI(Y;M)=0.980\n",
      "- Layer 2 upper: MI(X;M)=6.671, MI(Y;M)=0.038 | bin: MI(X;M)=7.505, MI(Y;M)=0.116\n",
      "- Layer 3 upper: MI(X;M)=5.164, MI(Y;M)=0.013 | bin: MI(X;M)=5.131, MI(Y;M)=0.029\n",
      "- Layer 4 upper: MI(X;M)=3.762, MI(Y;M)=0.014 | bin: MI(X;M)=3.682, MI(Y;M)=0.021\n",
      "- Layer 5 upper: MI(X;M)=1.364, MI(Y;M)=0.009 | bin: MI(X;M)=1.436, MI(Y;M)=0.010\n",
      "---- EPOCH 660\n",
      "- Layer 0 upper: MI(X;M)=11.673, MI(Y;M)=0.997 | bin: MI(X;M)=11.676, MI(Y;M)=0.999\n"
     ]
    },
    {
     "name": "stdout",
     "output_type": "stream",
     "text": [
      "- Layer 1 upper: MI(X;M)=11.581, MI(Y;M)=0.951 | bin: MI(X;M)=11.642, MI(Y;M)=0.980\n",
      "- Layer 2 upper: MI(X;M)=6.742, MI(Y;M)=0.050 | bin: MI(X;M)=7.608, MI(Y;M)=0.134\n",
      "- Layer 3 upper: MI(X;M)=5.150, MI(Y;M)=0.015 | bin: MI(X;M)=5.114, MI(Y;M)=0.028\n",
      "- Layer 4 upper: MI(X;M)=3.929, MI(Y;M)=0.012 | bin: MI(X;M)=3.610, MI(Y;M)=0.019\n",
      "- Layer 5 upper: MI(X;M)=1.412, MI(Y;M)=0.004 | bin: MI(X;M)=1.510, MI(Y;M)=0.005\n",
      "---- EPOCH 680\n",
      "- Layer 0 upper: MI(X;M)=11.670, MI(Y;M)=0.996 | bin: MI(X;M)=11.676, MI(Y;M)=0.999\n",
      "- Layer 1 upper: MI(X;M)=11.578, MI(Y;M)=0.953 | bin: MI(X;M)=11.639, MI(Y;M)=0.984\n",
      "- Layer 2 upper: MI(X;M)=6.759, MI(Y;M)=0.048 | bin: MI(X;M)=7.606, MI(Y;M)=0.134\n",
      "- Layer 3 upper: MI(X;M)=5.012, MI(Y;M)=0.013 | bin: MI(X;M)=5.009, MI(Y;M)=0.023\n",
      "- Layer 4 upper: MI(X;M)=3.511, MI(Y;M)=0.012 | bin: MI(X;M)=3.730, MI(Y;M)=0.025\n",
      "- Layer 5 upper: MI(X;M)=1.274, MI(Y;M)=0.005 | bin: MI(X;M)=1.357, MI(Y;M)=0.007\n",
      "---- EPOCH 700\n",
      "- Layer 0 upper: MI(X;M)=11.670, MI(Y;M)=0.995 | bin: MI(X;M)=11.676, MI(Y;M)=0.998\n",
      "- Layer 1 upper: MI(X;M)=11.602, MI(Y;M)=0.963 | bin: MI(X;M)=11.649, MI(Y;M)=0.986\n",
      "- Layer 2 upper: MI(X;M)=6.793, MI(Y;M)=0.049 | bin: MI(X;M)=7.663, MI(Y;M)=0.132\n",
      "- Layer 3 upper: MI(X;M)=5.014, MI(Y;M)=0.017 | bin: MI(X;M)=5.024, MI(Y;M)=0.028\n",
      "- Layer 4 upper: MI(X;M)=3.655, MI(Y;M)=0.015 | bin: MI(X;M)=3.335, MI(Y;M)=0.023\n",
      "- Layer 5 upper: MI(X;M)=1.363, MI(Y;M)=0.005 | bin: MI(X;M)=1.448, MI(Y;M)=0.010\n",
      "---- EPOCH 720\n",
      "- Layer 0 upper: MI(X;M)=11.666, MI(Y;M)=0.993 | bin: MI(X;M)=11.674, MI(Y;M)=0.998\n",
      "- Layer 1 upper: MI(X;M)=11.602, MI(Y;M)=0.963 | bin: MI(X;M)=11.647, MI(Y;M)=0.983\n",
      "- Layer 2 upper: MI(X;M)=6.815, MI(Y;M)=0.052 | bin: MI(X;M)=7.646, MI(Y;M)=0.127\n",
      "- Layer 3 upper: MI(X;M)=4.934, MI(Y;M)=0.013 | bin: MI(X;M)=4.946, MI(Y;M)=0.023\n",
      "- Layer 4 upper: MI(X;M)=3.469, MI(Y;M)=0.011 | bin: MI(X;M)=3.454, MI(Y;M)=0.018\n",
      "- Layer 5 upper: MI(X;M)=1.268, MI(Y;M)=0.004 | bin: MI(X;M)=1.330, MI(Y;M)=0.004\n",
      "---- EPOCH 740\n",
      "- Layer 0 upper: MI(X;M)=11.671, MI(Y;M)=0.997 | bin: MI(X;M)=11.676, MI(Y;M)=0.998\n",
      "- Layer 1 upper: MI(X;M)=11.595, MI(Y;M)=0.963 | bin: MI(X;M)=11.640, MI(Y;M)=0.979\n",
      "- Layer 2 upper: MI(X;M)=6.840, MI(Y;M)=0.052 | bin: MI(X;M)=7.710, MI(Y;M)=0.132\n",
      "- Layer 3 upper: MI(X;M)=4.864, MI(Y;M)=0.013 | bin: MI(X;M)=4.805, MI(Y;M)=0.027\n",
      "- Layer 4 upper: MI(X;M)=3.323, MI(Y;M)=0.010 | bin: MI(X;M)=3.743, MI(Y;M)=0.020\n",
      "- Layer 5 upper: MI(X;M)=1.243, MI(Y;M)=0.004 | bin: MI(X;M)=1.320, MI(Y;M)=0.005\n",
      "---- EPOCH 760\n",
      "- Layer 0 upper: MI(X;M)=11.672, MI(Y;M)=0.996 | bin: MI(X;M)=11.678, MI(Y;M)=0.999\n",
      "- Layer 1 upper: MI(X;M)=11.585, MI(Y;M)=0.955 | bin: MI(X;M)=11.641, MI(Y;M)=0.982\n",
      "- Layer 2 upper: MI(X;M)=6.806, MI(Y;M)=0.055 | bin: MI(X;M)=7.629, MI(Y;M)=0.129\n",
      "- Layer 3 upper: MI(X;M)=4.771, MI(Y;M)=0.015 | bin: MI(X;M)=4.861, MI(Y;M)=0.026\n",
      "- Layer 4 upper: MI(X;M)=3.136, MI(Y;M)=0.014 | bin: MI(X;M)=3.481, MI(Y;M)=0.019\n",
      "- Layer 5 upper: MI(X;M)=1.242, MI(Y;M)=0.004 | bin: MI(X;M)=1.294, MI(Y;M)=0.005\n",
      "---- EPOCH 780\n",
      "- Layer 0 upper: MI(X;M)=11.662, MI(Y;M)=0.990 | bin: MI(X;M)=11.677, MI(Y;M)=0.998\n",
      "- Layer 1 upper: MI(X;M)=11.580, MI(Y;M)=0.951 | bin: MI(X;M)=11.633, MI(Y;M)=0.979\n",
      "- Layer 2 upper: MI(X;M)=6.785, MI(Y;M)=0.052 | bin: MI(X;M)=7.604, MI(Y;M)=0.135\n",
      "- Layer 3 upper: MI(X;M)=4.675, MI(Y;M)=0.015 | bin: MI(X;M)=4.918, MI(Y;M)=0.029\n",
      "- Layer 4 upper: MI(X;M)=2.977, MI(Y;M)=0.012 | bin: MI(X;M)=3.219, MI(Y;M)=0.014\n",
      "- Layer 5 upper: MI(X;M)=1.124, MI(Y;M)=0.003 | bin: MI(X;M)=1.170, MI(Y;M)=0.004\n",
      "---- EPOCH 800\n",
      "- Layer 0 upper: MI(X;M)=11.675, MI(Y;M)=0.998 | bin: MI(X;M)=11.677, MI(Y;M)=0.998\n",
      "- Layer 1 upper: MI(X;M)=11.630, MI(Y;M)=0.976 | bin: MI(X;M)=11.659, MI(Y;M)=0.989\n",
      "- Layer 2 upper: MI(X;M)=6.724, MI(Y;M)=0.052 | bin: MI(X;M)=7.501, MI(Y;M)=0.123\n",
      "- Layer 3 upper: MI(X;M)=4.798, MI(Y;M)=0.013 | bin: MI(X;M)=4.898, MI(Y;M)=0.027\n",
      "- Layer 4 upper: MI(X;M)=3.833, MI(Y;M)=0.013 | bin: MI(X;M)=3.631, MI(Y;M)=0.014\n",
      "- Layer 5 upper: MI(X;M)=1.339, MI(Y;M)=0.003 | bin: MI(X;M)=1.416, MI(Y;M)=0.006\n",
      "---- EPOCH 820\n",
      "- Layer 0 upper: MI(X;M)=11.668, MI(Y;M)=0.995 | bin: MI(X;M)=11.671, MI(Y;M)=0.997\n",
      "- Layer 1 upper: MI(X;M)=11.580, MI(Y;M)=0.951 | bin: MI(X;M)=11.630, MI(Y;M)=0.980\n",
      "- Layer 2 upper: MI(X;M)=6.781, MI(Y;M)=0.053 | bin: MI(X;M)=7.634, MI(Y;M)=0.130\n",
      "- Layer 3 upper: MI(X;M)=4.509, MI(Y;M)=0.013 | bin: MI(X;M)=4.829, MI(Y;M)=0.028\n",
      "- Layer 4 upper: MI(X;M)=2.730, MI(Y;M)=0.011 | bin: MI(X;M)=2.926, MI(Y;M)=0.017\n",
      "- Layer 5 upper: MI(X;M)=1.037, MI(Y;M)=0.001 | bin: MI(X;M)=1.079, MI(Y;M)=0.003\n",
      "---- EPOCH 840\n",
      "- Layer 0 upper: MI(X;M)=11.668, MI(Y;M)=0.993 | bin: MI(X;M)=11.674, MI(Y;M)=0.997\n",
      "- Layer 1 upper: MI(X;M)=11.577, MI(Y;M)=0.953 | bin: MI(X;M)=11.624, MI(Y;M)=0.974\n",
      "- Layer 2 upper: MI(X;M)=6.759, MI(Y;M)=0.051 | bin: MI(X;M)=7.603, MI(Y;M)=0.144\n",
      "- Layer 3 upper: MI(X;M)=4.323, MI(Y;M)=0.012 | bin: MI(X;M)=4.632, MI(Y;M)=0.024\n",
      "- Layer 4 upper: MI(X;M)=2.359, MI(Y;M)=0.005 | bin: MI(X;M)=2.467, MI(Y;M)=0.010\n",
      "- Layer 5 upper: MI(X;M)=1.001, MI(Y;M)=0.000 | bin: MI(X;M)=0.999, MI(Y;M)=0.000\n",
      "---- EPOCH 860\n",
      "- Layer 0 upper: MI(X;M)=11.668, MI(Y;M)=0.994 | bin: MI(X;M)=11.674, MI(Y;M)=0.998\n",
      "- Layer 1 upper: MI(X;M)=11.577, MI(Y;M)=0.951 | bin: MI(X;M)=11.619, MI(Y;M)=0.971\n",
      "- Layer 2 upper: MI(X;M)=6.753, MI(Y;M)=0.050 | bin: MI(X;M)=7.585, MI(Y;M)=0.127\n",
      "- Layer 3 upper: MI(X;M)=4.242, MI(Y;M)=0.010 | bin: MI(X;M)=4.515, MI(Y;M)=0.027\n",
      "- Layer 4 upper: MI(X;M)=2.224, MI(Y;M)=0.006 | bin: MI(X;M)=2.310, MI(Y;M)=0.010\n",
      "- Layer 5 upper: MI(X;M)=1.000, MI(Y;M)=0.000 | bin: MI(X;M)=0.999, MI(Y;M)=0.000\n",
      "---- EPOCH 880\n",
      "- Layer 0 upper: MI(X;M)=11.668, MI(Y;M)=0.995 | bin: MI(X;M)=11.673, MI(Y;M)=0.996\n",
      "- Layer 1 upper: MI(X;M)=11.577, MI(Y;M)=0.951 | bin: MI(X;M)=11.629, MI(Y;M)=0.978\n",
      "- Layer 2 upper: MI(X;M)=6.748, MI(Y;M)=0.047 | bin: MI(X;M)=7.557, MI(Y;M)=0.121\n",
      "- Layer 3 upper: MI(X;M)=4.185, MI(Y;M)=0.014 | bin: MI(X;M)=4.466, MI(Y;M)=0.029\n",
      "- Layer 4 upper: MI(X;M)=2.136, MI(Y;M)=0.007 | bin: MI(X;M)=2.202, MI(Y;M)=0.011\n",
      "- Layer 5 upper: MI(X;M)=1.000, MI(Y;M)=0.000 | bin: MI(X;M)=0.999, MI(Y;M)=0.000\n",
      "---- EPOCH 900\n",
      "- Layer 0 upper: MI(X;M)=11.668, MI(Y;M)=0.995 | bin: MI(X;M)=11.673, MI(Y;M)=0.998\n",
      "- Layer 1 upper: MI(X;M)=11.577, MI(Y;M)=0.950 | bin: MI(X;M)=11.625, MI(Y;M)=0.971\n",
      "- Layer 2 upper: MI(X;M)=6.745, MI(Y;M)=0.048 | bin: MI(X;M)=7.543, MI(Y;M)=0.116\n",
      "- Layer 3 upper: MI(X;M)=4.139, MI(Y;M)=0.013 | bin: MI(X;M)=4.376, MI(Y;M)=0.026\n",
      "- Layer 4 upper: MI(X;M)=2.071, MI(Y;M)=0.005 | bin: MI(X;M)=2.127, MI(Y;M)=0.008\n",
      "- Layer 5 upper: MI(X;M)=1.000, MI(Y;M)=0.000 | bin: MI(X;M)=0.999, MI(Y;M)=0.000\n",
      "---- EPOCH 920\n",
      "- Layer 0 upper: MI(X;M)=11.668, MI(Y;M)=0.996 | bin: MI(X;M)=11.673, MI(Y;M)=0.998\n",
      "- Layer 1 upper: MI(X;M)=11.577, MI(Y;M)=0.954 | bin: MI(X;M)=11.628, MI(Y;M)=0.968\n",
      "- Layer 2 upper: MI(X;M)=6.741, MI(Y;M)=0.046 | bin: MI(X;M)=7.515, MI(Y;M)=0.121\n",
      "- Layer 3 upper: MI(X;M)=4.100, MI(Y;M)=0.012 | bin: MI(X;M)=4.296, MI(Y;M)=0.027\n",
      "- Layer 4 upper: MI(X;M)=2.018, MI(Y;M)=0.006 | bin: MI(X;M)=2.070, MI(Y;M)=0.009\n",
      "- Layer 5 upper: MI(X;M)=1.000, MI(Y;M)=0.000 | bin: MI(X;M)=0.999, MI(Y;M)=0.000\n",
      "---- EPOCH 940\n",
      "- Layer 0 upper: MI(X;M)=11.668, MI(Y;M)=0.996 | bin: MI(X;M)=11.673, MI(Y;M)=0.997\n",
      "- Layer 1 upper: MI(X;M)=11.577, MI(Y;M)=0.951 | bin: MI(X;M)=11.624, MI(Y;M)=0.974\n",
      "- Layer 2 upper: MI(X;M)=6.738, MI(Y;M)=0.059 | bin: MI(X;M)=7.506, MI(Y;M)=0.135\n",
      "- Layer 3 upper: MI(X;M)=4.065, MI(Y;M)=0.013 | bin: MI(X;M)=4.241, MI(Y;M)=0.027\n",
      "- Layer 4 upper: MI(X;M)=1.973, MI(Y;M)=0.006 | bin: MI(X;M)=2.013, MI(Y;M)=0.006\n",
      "- Layer 5 upper: MI(X;M)=0.999, MI(Y;M)=0.000 | bin: MI(X;M)=0.999, MI(Y;M)=0.000\n",
      "---- EPOCH 960\n",
      "- Layer 0 upper: MI(X;M)=11.668, MI(Y;M)=0.994 | bin: MI(X;M)=11.673, MI(Y;M)=0.997\n",
      "- Layer 1 upper: MI(X;M)=11.577, MI(Y;M)=0.949 | bin: MI(X;M)=11.629, MI(Y;M)=0.973\n",
      "- Layer 2 upper: MI(X;M)=6.735, MI(Y;M)=0.047 | bin: MI(X;M)=7.508, MI(Y;M)=0.123\n",
      "- Layer 3 upper: MI(X;M)=4.033, MI(Y;M)=0.012 | bin: MI(X;M)=4.207, MI(Y;M)=0.023\n",
      "- Layer 4 upper: MI(X;M)=1.935, MI(Y;M)=0.005 | bin: MI(X;M)=1.983, MI(Y;M)=0.007\n",
      "- Layer 5 upper: MI(X;M)=0.999, MI(Y;M)=0.000 | bin: MI(X;M)=0.999, MI(Y;M)=0.000\n",
      "---- EPOCH 980\n",
      "- Layer 0 upper: MI(X;M)=11.668, MI(Y;M)=0.995 | bin: MI(X;M)=11.673, MI(Y;M)=0.996\n",
      "- Layer 1 upper: MI(X;M)=11.577, MI(Y;M)=0.948 | bin: MI(X;M)=11.626, MI(Y;M)=0.965\n"
     ]
    },
    {
     "name": "stdout",
     "output_type": "stream",
     "text": [
      "- Layer 2 upper: MI(X;M)=6.731, MI(Y;M)=0.050 | bin: MI(X;M)=7.504, MI(Y;M)=0.121\n",
      "- Layer 3 upper: MI(X;M)=4.002, MI(Y;M)=0.010 | bin: MI(X;M)=4.187, MI(Y;M)=0.023\n",
      "- Layer 4 upper: MI(X;M)=1.897, MI(Y;M)=0.004 | bin: MI(X;M)=1.943, MI(Y;M)=0.006\n",
      "- Layer 5 upper: MI(X;M)=0.999, MI(Y;M)=0.001 | bin: MI(X;M)=0.999, MI(Y;M)=0.001\n",
      "---- EPOCH 1000\n",
      "- Layer 0 upper: MI(X;M)=11.668, MI(Y;M)=0.996 | bin: MI(X;M)=11.674, MI(Y;M)=0.998\n",
      "- Layer 1 upper: MI(X;M)=11.577, MI(Y;M)=0.955 | bin: MI(X;M)=11.624, MI(Y;M)=0.977\n",
      "- Layer 2 upper: MI(X;M)=6.728, MI(Y;M)=0.046 | bin: MI(X;M)=7.487, MI(Y;M)=0.108\n",
      "- Layer 3 upper: MI(X;M)=3.974, MI(Y;M)=0.011 | bin: MI(X;M)=4.120, MI(Y;M)=0.020\n",
      "- Layer 4 upper: MI(X;M)=1.865, MI(Y;M)=0.005 | bin: MI(X;M)=1.924, MI(Y;M)=0.007\n",
      "- Layer 5 upper: MI(X;M)=0.999, MI(Y;M)=0.001 | bin: MI(X;M)=0.999, MI(Y;M)=0.001\n",
      "---- EPOCH 1020\n",
      "- Layer 0 upper: MI(X;M)=11.668, MI(Y;M)=0.994 | bin: MI(X;M)=11.674, MI(Y;M)=0.997\n",
      "- Layer 1 upper: MI(X;M)=11.577, MI(Y;M)=0.951 | bin: MI(X;M)=11.626, MI(Y;M)=0.974\n",
      "- Layer 2 upper: MI(X;M)=6.725, MI(Y;M)=0.050 | bin: MI(X;M)=7.495, MI(Y;M)=0.124\n",
      "- Layer 3 upper: MI(X;M)=3.948, MI(Y;M)=0.012 | bin: MI(X;M)=4.117, MI(Y;M)=0.023\n",
      "- Layer 4 upper: MI(X;M)=1.836, MI(Y;M)=0.006 | bin: MI(X;M)=1.884, MI(Y;M)=0.008\n",
      "- Layer 5 upper: MI(X;M)=0.999, MI(Y;M)=0.002 | bin: MI(X;M)=0.999, MI(Y;M)=0.002\n",
      "---- EPOCH 1040\n",
      "- Layer 0 upper: MI(X;M)=11.668, MI(Y;M)=0.995 | bin: MI(X;M)=11.673, MI(Y;M)=0.998\n",
      "- Layer 1 upper: MI(X;M)=11.577, MI(Y;M)=0.957 | bin: MI(X;M)=11.627, MI(Y;M)=0.977\n",
      "- Layer 2 upper: MI(X;M)=6.722, MI(Y;M)=0.048 | bin: MI(X;M)=7.516, MI(Y;M)=0.119\n",
      "- Layer 3 upper: MI(X;M)=3.922, MI(Y;M)=0.011 | bin: MI(X;M)=4.038, MI(Y;M)=0.020\n",
      "- Layer 4 upper: MI(X;M)=1.807, MI(Y;M)=0.005 | bin: MI(X;M)=1.853, MI(Y;M)=0.008\n",
      "- Layer 5 upper: MI(X;M)=0.999, MI(Y;M)=0.000 | bin: MI(X;M)=0.999, MI(Y;M)=0.000\n",
      "---- EPOCH 1060\n",
      "- Layer 0 upper: MI(X;M)=11.668, MI(Y;M)=0.995 | bin: MI(X;M)=11.673, MI(Y;M)=0.998\n",
      "- Layer 1 upper: MI(X;M)=11.577, MI(Y;M)=0.950 | bin: MI(X;M)=11.623, MI(Y;M)=0.969\n",
      "- Layer 2 upper: MI(X;M)=6.719, MI(Y;M)=0.047 | bin: MI(X;M)=7.500, MI(Y;M)=0.120\n",
      "- Layer 3 upper: MI(X;M)=3.897, MI(Y;M)=0.013 | bin: MI(X;M)=3.989, MI(Y;M)=0.028\n",
      "- Layer 4 upper: MI(X;M)=1.781, MI(Y;M)=0.008 | bin: MI(X;M)=1.817, MI(Y;M)=0.011\n",
      "- Layer 5 upper: MI(X;M)=0.999, MI(Y;M)=0.000 | bin: MI(X;M)=0.999, MI(Y;M)=0.000\n",
      "---- EPOCH 1080\n",
      "- Layer 0 upper: MI(X;M)=11.668, MI(Y;M)=0.995 | bin: MI(X;M)=11.673, MI(Y;M)=0.996\n",
      "- Layer 1 upper: MI(X;M)=11.577, MI(Y;M)=0.951 | bin: MI(X;M)=11.626, MI(Y;M)=0.976\n",
      "- Layer 2 upper: MI(X;M)=6.716, MI(Y;M)=0.047 | bin: MI(X;M)=7.511, MI(Y;M)=0.114\n",
      "- Layer 3 upper: MI(X;M)=3.873, MI(Y;M)=0.015 | bin: MI(X;M)=3.942, MI(Y;M)=0.027\n",
      "- Layer 4 upper: MI(X;M)=1.756, MI(Y;M)=0.006 | bin: MI(X;M)=1.776, MI(Y;M)=0.006\n",
      "- Layer 5 upper: MI(X;M)=0.999, MI(Y;M)=0.001 | bin: MI(X;M)=0.999, MI(Y;M)=0.001\n",
      "---- EPOCH 1100\n",
      "- Layer 0 upper: MI(X;M)=11.668, MI(Y;M)=0.995 | bin: MI(X;M)=11.674, MI(Y;M)=0.997\n",
      "- Layer 1 upper: MI(X;M)=11.576, MI(Y;M)=0.952 | bin: MI(X;M)=11.628, MI(Y;M)=0.976\n",
      "- Layer 2 upper: MI(X;M)=6.713, MI(Y;M)=0.052 | bin: MI(X;M)=7.501, MI(Y;M)=0.129\n",
      "- Layer 3 upper: MI(X;M)=3.851, MI(Y;M)=0.016 | bin: MI(X;M)=3.956, MI(Y;M)=0.026\n",
      "- Layer 4 upper: MI(X;M)=1.734, MI(Y;M)=0.009 | bin: MI(X;M)=1.770, MI(Y;M)=0.010\n",
      "- Layer 5 upper: MI(X;M)=0.999, MI(Y;M)=0.000 | bin: MI(X;M)=0.999, MI(Y;M)=0.000\n",
      "---- EPOCH 1120\n",
      "- Layer 0 upper: MI(X;M)=11.668, MI(Y;M)=0.995 | bin: MI(X;M)=11.674, MI(Y;M)=0.998\n",
      "- Layer 1 upper: MI(X;M)=11.576, MI(Y;M)=0.954 | bin: MI(X;M)=11.628, MI(Y;M)=0.976\n",
      "- Layer 2 upper: MI(X;M)=6.710, MI(Y;M)=0.053 | bin: MI(X;M)=7.499, MI(Y;M)=0.132\n",
      "- Layer 3 upper: MI(X;M)=3.828, MI(Y;M)=0.010 | bin: MI(X;M)=3.944, MI(Y;M)=0.021\n",
      "- Layer 4 upper: MI(X;M)=1.711, MI(Y;M)=0.004 | bin: MI(X;M)=1.735, MI(Y;M)=0.004\n",
      "- Layer 5 upper: MI(X;M)=0.999, MI(Y;M)=0.000 | bin: MI(X;M)=0.999, MI(Y;M)=0.000\n",
      "---- EPOCH 1140\n",
      "- Layer 0 upper: MI(X;M)=11.668, MI(Y;M)=0.995 | bin: MI(X;M)=11.674, MI(Y;M)=0.997\n",
      "- Layer 1 upper: MI(X;M)=11.576, MI(Y;M)=0.953 | bin: MI(X;M)=11.627, MI(Y;M)=0.977\n",
      "- Layer 2 upper: MI(X;M)=6.707, MI(Y;M)=0.049 | bin: MI(X;M)=7.517, MI(Y;M)=0.124\n",
      "- Layer 3 upper: MI(X;M)=3.807, MI(Y;M)=0.011 | bin: MI(X;M)=3.886, MI(Y;M)=0.022\n",
      "- Layer 4 upper: MI(X;M)=1.690, MI(Y;M)=0.005 | bin: MI(X;M)=1.723, MI(Y;M)=0.005\n",
      "- Layer 5 upper: MI(X;M)=0.999, MI(Y;M)=0.000 | bin: MI(X;M)=0.999, MI(Y;M)=0.000\n",
      "---- EPOCH 1160\n",
      "- Layer 0 upper: MI(X;M)=11.668, MI(Y;M)=0.993 | bin: MI(X;M)=11.674, MI(Y;M)=0.998\n",
      "- Layer 1 upper: MI(X;M)=11.576, MI(Y;M)=0.952 | bin: MI(X;M)=11.630, MI(Y;M)=0.975\n",
      "- Layer 2 upper: MI(X;M)=6.704, MI(Y;M)=0.051 | bin: MI(X;M)=7.505, MI(Y;M)=0.123\n",
      "- Layer 3 upper: MI(X;M)=3.787, MI(Y;M)=0.013 | bin: MI(X;M)=3.861, MI(Y;M)=0.026\n",
      "- Layer 4 upper: MI(X;M)=1.670, MI(Y;M)=0.003 | bin: MI(X;M)=1.715, MI(Y;M)=0.007\n",
      "- Layer 5 upper: MI(X;M)=0.999, MI(Y;M)=0.000 | bin: MI(X;M)=0.999, MI(Y;M)=0.000\n",
      "---- EPOCH 1180\n",
      "- Layer 0 upper: MI(X;M)=11.668, MI(Y;M)=0.995 | bin: MI(X;M)=11.674, MI(Y;M)=0.997\n",
      "- Layer 1 upper: MI(X;M)=11.576, MI(Y;M)=0.949 | bin: MI(X;M)=11.631, MI(Y;M)=0.973\n",
      "- Layer 2 upper: MI(X;M)=6.702, MI(Y;M)=0.047 | bin: MI(X;M)=7.524, MI(Y;M)=0.123\n",
      "- Layer 3 upper: MI(X;M)=3.767, MI(Y;M)=0.009 | bin: MI(X;M)=3.825, MI(Y;M)=0.026\n",
      "- Layer 4 upper: MI(X;M)=1.652, MI(Y;M)=0.003 | bin: MI(X;M)=1.699, MI(Y;M)=0.007\n",
      "- Layer 5 upper: MI(X;M)=0.999, MI(Y;M)=0.000 | bin: MI(X;M)=0.999, MI(Y;M)=0.000\n"
     ]
    }
   ],
   "source": [
    "#### This is an auxiliary dictionary to store the results for each epoch\n",
    "# Data structure used to store results\n",
    "measures = OrderedDict()\n",
    "measures['tanh'] = {}\n",
    "#measures['relu'] = {}\n",
    "PLOT_LAYERS    = None \n",
    "NUM_LABELS = 2\n",
    "\n",
    "\n",
    "#### Main loop: over epochs\n",
    "\n",
    "for epoch in range(0, len(training_info['data']), 20):\n",
    "#for epoch in range(0, 1):\n",
    "    \n",
    "    cepochdata = defaultdict(list) \n",
    "    \n",
    "    #training_info['data'][epoch]\n",
    "    \n",
    "    print('---- EPOCH %d' % epoch)\n",
    "    \n",
    "    \n",
    "    #####################################################################\n",
    "    num_layers = len(training_info['data'][epoch]['activity'])\n",
    "\n",
    "    if PLOT_LAYERS is None:\n",
    "        PLOT_LAYERS = []\n",
    "        for lndx in range(num_layers):\n",
    "            #if d['data']['activity_tst'][lndx].shape[1] < 200 and lndx != num_layers - 1:\n",
    "            PLOT_LAYERS.append(lndx)\n",
    "    #####################################################################\n",
    "    \n",
    "    for layer in range(len(training_info['data'][epoch]['activity'])):\n",
    "        \n",
    "        activity = training_info['data'][epoch]['activity'][layer] \n",
    "        \n",
    "        #print(epoch)\n",
    "        #print(layer)\n",
    "        #print(activity)\n",
    "        #break\n",
    "        \n",
    "        #### Compute marginal entropies\n",
    "        h_upper = entropy_func_upper([activity, ])[0]\n",
    "        if DO_LOWER: # Why computing lower bound would not be necessary?\n",
    "            h_lower = entropy_func_lower([activity, ])[0]\n",
    "            \n",
    "        #### Layer activity given input. This is simply the entropy of the Gaussian noise\n",
    "        hM_given_X = kde.kde_condentropy(activity, noise_variance)\n",
    "        \n",
    "        #### Compute conditional entropies of layer activity output\n",
    "        hM_given_Y_upper= 0.0\n",
    "        for i in range(NUM_LABELS):\n",
    "            hcond_upper = entropy_func_upper([activity[saved_labelixs[i],:],])[0]\n",
    "            hM_given_Y_upper += labelprobs[i] * hcond_upper\n",
    "            \n",
    "        if DO_LOWER:\n",
    "            hM_given_Y_lower=0.0\n",
    "            for i in range(NUM_LABELS):\n",
    "                hcond_lower = entropy_func_lower([activity[saved_labelixs[i],:],])[0]\n",
    "                hM_given_Y_lower += labelprobs[i] * hcond_lower\n",
    "                \n",
    "        cepochdata['MI_XM_upper'].append( nats2bits * (h_upper - hM_given_X) )\n",
    "        cepochdata['MI_YM_upper'].append( nats2bits * (h_upper - hM_given_Y_upper) )\n",
    "        cepochdata['H_M_upper'  ].append( nats2bits * h_upper )\n",
    "        pstr = 'upper: MI(X;M)=%0.3f, MI(Y;M)=%0.3f' % (cepochdata['MI_XM_upper'][-1], \n",
    "                                                        cepochdata['MI_YM_upper'][-1])\n",
    "        \n",
    "        #print(cepochdata)\n",
    "        \n",
    "        ### Compute lower bounds\n",
    "        if DO_LOWER: \n",
    "            cepochdata['MI_XM_lower'].append( nats2bits * (h_lower - hM_given_X) )\n",
    "            cepochdata['MI_YM_lower'].append( nats2bits * (h_lower - hM_given_Y_lower) )\n",
    "            cepochdata['H_M_lower'  ].append( nats2bits * h_lower )\n",
    "            pstr += ' | lower: MI(X;M)=%0.3f, MI(Y;M)=%0.3f' % (cepochdata['MI_XM_lower'][-1], \n",
    "                                                                cepochdata['MI_YM_lower'][-1])\n",
    "        ### Compute binned estimates\n",
    "        if DO_BINNED:\n",
    "            binxm, binym = simplebinmi.bin_calc_information2(saved_labelixs, activity, binsize)\n",
    "            cepochdata['MI_XM_bin'].append( nats2bits * binxm )\n",
    "            cepochdata['MI_YM_bin'].append( nats2bits * binym )\n",
    "            pstr += ' | bin: MI(X;M)=%0.3f, MI(Y;M)=%0.3f' % (cepochdata['MI_XM_bin'][-1], \n",
    "                                                              cepochdata['MI_YM_bin'][-1])\n",
    "            \n",
    "        print('- Layer %d %s' % (layer, pstr) )\n",
    "        \n",
    "    measures['tanh'][epoch] = cepochdata\n",
    "        "
   ]
  },
  {
   "cell_type": "code",
   "execution_count": 46,
   "metadata": {},
   "outputs": [],
   "source": [
    "DO_SAVE = False"
   ]
  },
  {
   "cell_type": "markdown",
   "metadata": {},
   "source": [
    "## Plot"
   ]
  },
  {
   "cell_type": "code",
   "execution_count": 47,
   "metadata": {},
   "outputs": [
    {
     "name": "stderr",
     "output_type": "stream",
     "text": [
      "/home/rodrigo/anaconda3/lib/python3.6/site-packages/matplotlib/figure.py:2022: UserWarning: This figure includes Axes that are not compatible with tight_layout, so results might be incorrect.\n",
      "  warnings.warn(\"This figure includes Axes that are not compatible \"\n"
     ]
    },
    {
     "data": {
      "image/png": "[encoded data removed]",
      "text/plain": [
       "<matplotlib.figure.Figure at 0x7f3fce60f668>"
      ]
     },
     "metadata": {},
     "output_type": "display_data"
    }
   ],
   "source": [
    "COLORBAR_MAX_EPOCHS= 1200\n",
    "max_epoch = max( (max(vals.keys()) if len(vals) else 0) for vals in measures.values())\n",
    "sm = plt.cm.ScalarMappable(cmap='gnuplot', norm=plt.Normalize(vmin=0, vmax=COLORBAR_MAX_EPOCHS))\n",
    "sm._A = []\n",
    "\n",
    "fig=plt.figure(figsize=(10,5))\n",
    "for actndx, (activation, vals) in enumerate(measures.items()):\n",
    "    epochs = sorted(vals.keys())\n",
    "    \n",
    "    #print(vals)\n",
    "    \n",
    "    if not len(epochs):\n",
    "        continue\n",
    "    plt.subplot(1,2,actndx+1)    \n",
    "    for epoch in epochs:\n",
    "        c = sm.to_rgba(epoch)\n",
    "        xmvals = np.array(vals[epoch]['MI_XM_'+infoplane_measure])[PLOT_LAYERS]\n",
    "        ymvals = np.array(vals[epoch]['MI_YM_'+infoplane_measure])[PLOT_LAYERS]\n",
    "        \n",
    "       \n",
    "        plt.plot(xmvals, ymvals, c=c, alpha=0.1, zorder=1)\n",
    "        plt.scatter(xmvals, ymvals, s=20, facecolors=[c for _ in PLOT_LAYERS], edgecolor='none', zorder=2)\n",
    "\n",
    "    plt.ylim([0, 1])\n",
    "    plt.xlim([0, 12])\n",
    "#     plt.ylim([0, 3.5])\n",
    "#     plt.xlim([0, 14])\n",
    "    plt.xlabel('$I(X;T)$', fontsize= 15)\n",
    "    plt.ylabel('$I(Y;T)$', fontsize= 15)\n",
    "    plt.title(activation, fontsize= 20)\n",
    "    \n",
    "cbaxes = fig.add_axes([1.0, 0.125, 0.03, 0.8]) \n",
    "plt.colorbar(sm, label='Epoch', cax=cbaxes)\n",
    "plt.tight_layout()\n",
    "\n",
    "if DO_SAVE:\n",
    "    #plt.savefig('plots/' + DIR_TEMPLATE % ('infoplane_'+ARCH),bbox_inches='tight')\n",
    "    plt.savefig('plots/info_plane_no_mini_batch')"
   ]
  },
  {
   "cell_type": "code",
   "execution_count": null,
   "metadata": {},
   "outputs": [],
   "source": []
  }
 ],
 "metadata": {
  "kernelspec": {
   "display_name": "Python 3",
   "language": "python",
   "name": "python3"
  },
  "language_info": {
   "codemirror_mode": {
    "name": "ipython",
    "version": 3
   },
   "file_extension": ".py",
   "mimetype": "text/x-python",
   "name": "python",
   "nbconvert_exporter": "python",
   "pygments_lexer": "ipython3",
   "version": "3.6.4"
  },
  "latex_envs": {
   "LaTeX_envs_menu_present": true,
   "autoclose": false,
   "autocomplete": true,
   "bibliofile": "biblio.bib",
   "cite_by": "apalike",
   "current_citInitial": 1,
   "eqLabelWithNumbers": true,
   "eqNumInitial": 1,
   "hotkeys": {
    "equation": "Ctrl-E",
    "itemize": "Ctrl-I"
   },
   "labels_anchors": false,
   "latex_user_defs": false,
   "report_style_numbering": false,
   "user_envs_cfg": false
  }
 },
 "nbformat": 4,
 "nbformat_minor": 2
}
